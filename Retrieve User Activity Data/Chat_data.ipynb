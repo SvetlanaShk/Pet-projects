{
 "cells": [
  {
   "attachments": {},
   "cell_type": "markdown",
   "metadata": {},
   "source": [
    "# Retrieve User Activity Data\n",
    "\n",
    "## Task\n",
    "- Create a database from several CSV-files using SQLite;\n",
    "- Analyse the database keeping a log of all steps.\n",
    "\n",
    "## Queastions to answer:\n",
    "- How many posts have 0 comments?\n",
    "- How many posts have 1 comments?\n",
    "- How many posts have 2 comments or more?\n",
    "- Find the 5 posts with the highest viewcount\n",
    "- Find the top 5 posts with the highest scores\n",
    "- What are the 5 most frequent scores on posts?\n",
    "- How many posts have the keyword \"data\" in their tags?\n",
    "- What are the 5 most frequent commentcount for posts?\n",
    "- How many posts have an accepted answer?\n",
    "- What is the average reputation of table users?\n",
    "- What are the min and max reputation of users?\n",
    "- What is the length of the body of 5 most viewed posts?\n",
    "- How many different locations are there in the users table?\n",
    "- What are the top 5 locations of users?\n",
    "- Rank the days of the week from highest to lowest in terms of the volume of ViewCount as a percentage.\n",
    "\n",
    "- How many posts have been created by a user that has a filled out the \"AboutMe\" section?\n",
    "- Considering only the users with an \"AboutMe,\" how many posts are there per user?\n",
    "- Not taking into account the commentcount field in the table posts, what are the Top 10 posts in terms of number of comments?\n",
    "- What are the Top 10 posts which have the highest cummulative (post score + comment score) score?\n",
    "- Who are the top 10 users who comment the most?\n",
    "- Who are the top 10 users who post the most? \n"
   ]
  },
  {
   "cell_type": "markdown",
   "metadata": {},
   "source": [
    "# Preliminary Steps: Create a Database\n",
    "First let's import Sqlite and the other libraries we will need."
   ]
  },
  {
   "cell_type": "code",
   "execution_count": 1,
   "metadata": {},
   "outputs": [],
   "source": [
    "# pip install ipython-sql"
   ]
  },
  {
   "cell_type": "code",
   "execution_count": 2,
   "metadata": {},
   "outputs": [],
   "source": [
    "# Import Libraries\n",
    "import numpy as np\n",
    "import pandas as pd\n",
    "import sqlite3"
   ]
  },
  {
   "cell_type": "markdown",
   "metadata": {},
   "source": [
    "### Create the Database\n",
    "Now we create the Sqlite database. "
   ]
  },
  {
   "cell_type": "code",
   "execution_count": 3,
   "metadata": {},
   "outputs": [],
   "source": [
    "# If the db does not exist, sqlite will create it.\n",
    "con = sqlite3.connect('chatdata.db')\n",
    "\n",
    "# loads sql magic\n",
    "%load_ext sql \n",
    "\n",
    "# connects sql magic command to the correct db\n",
    "%sql sqlite:///chatdata.db "
   ]
  },
  {
   "cell_type": "markdown",
   "metadata": {},
   "source": [
    "#### Drop the `queries` table if it already exists\n",
    "The queries table will be our record of the queries created to answer the questions above.\n"
   ]
  },
  {
   "cell_type": "code",
   "execution_count": 4,
   "metadata": {},
   "outputs": [
    {
     "name": "stdout",
     "output_type": "stream",
     "text": [
      " * sqlite:///chatdata.db\n",
      "Done.\n"
     ]
    },
    {
     "data": {
      "text/plain": [
       "[]"
      ]
     },
     "execution_count": 4,
     "metadata": {},
     "output_type": "execute_result"
    }
   ],
   "source": [
    "%%sql\n",
    "DROP TABLE IF EXISTS 'queries'"
   ]
  },
  {
   "cell_type": "markdown",
   "metadata": {},
   "source": [
    "# Load the Data\n",
    "Now we can start loading the data.  The tables will be created as we load the data.  "
   ]
  },
  {
   "cell_type": "markdown",
   "metadata": {},
   "source": [
    "The data has already been processed into 3 clean data files ready for this project:\n",
    "\n",
    "- queries.csv\n",
    "- posts.csv\n",
    "- comments.csv\n",
    "\n",
    "We will load these files into our database."
   ]
  },
  {
   "cell_type": "markdown",
   "metadata": {},
   "source": [
    "### Load Comments Data into a `comments` table\n",
    "Now we will load the data from the csv files into our sqlite database.\n",
    "\n",
    "First we load the csv file into a Pandas dataframe:"
   ]
  },
  {
   "cell_type": "code",
   "execution_count": 5,
   "metadata": {},
   "outputs": [
    {
     "data": {
      "text/html": [
       "<div>\n",
       "<style scoped>\n",
       "    .dataframe tbody tr th:only-of-type {\n",
       "        vertical-align: middle;\n",
       "    }\n",
       "\n",
       "    .dataframe tbody tr th {\n",
       "        vertical-align: top;\n",
       "    }\n",
       "\n",
       "    .dataframe thead th {\n",
       "        text-align: right;\n",
       "    }\n",
       "</style>\n",
       "<table border=\"1\" class=\"dataframe\">\n",
       "  <thead>\n",
       "    <tr style=\"text-align: right;\">\n",
       "      <th></th>\n",
       "      <th>Id</th>\n",
       "      <th>PostId</th>\n",
       "      <th>Score</th>\n",
       "      <th>Text</th>\n",
       "      <th>CreationDate</th>\n",
       "      <th>UserId</th>\n",
       "    </tr>\n",
       "  </thead>\n",
       "  <tbody>\n",
       "    <tr>\n",
       "      <th>0</th>\n",
       "      <td>723182</td>\n",
       "      <td>385124</td>\n",
       "      <td>0</td>\n",
       "      <td>@BenBolker I don't understand. The fit cannot ...</td>\n",
       "      <td>2019-01-01 00:06:39</td>\n",
       "      <td>78575</td>\n",
       "    </tr>\n",
       "    <tr>\n",
       "      <th>1</th>\n",
       "      <td>723183</td>\n",
       "      <td>385124</td>\n",
       "      <td>3</td>\n",
       "      <td>You can't add *less* than (`-min(y)`), but you...</td>\n",
       "      <td>2019-01-01 00:09:22</td>\n",
       "      <td>2126</td>\n",
       "    </tr>\n",
       "    <tr>\n",
       "      <th>2</th>\n",
       "      <td>723186</td>\n",
       "      <td>385137</td>\n",
       "      <td>0</td>\n",
       "      <td>nice. If you felt like doing the work it would...</td>\n",
       "      <td>2019-01-01 00:32:11</td>\n",
       "      <td>2126</td>\n",
       "    </tr>\n",
       "    <tr>\n",
       "      <th>3</th>\n",
       "      <td>723187</td>\n",
       "      <td>385137</td>\n",
       "      <td>0</td>\n",
       "      <td>i.e. `emdbook::curve3d(-sum(dnbinom(y,mu=mu,si...</td>\n",
       "      <td>2019-01-01 00:40:36</td>\n",
       "      <td>2126</td>\n",
       "    </tr>\n",
       "    <tr>\n",
       "      <th>4</th>\n",
       "      <td>723188</td>\n",
       "      <td>385134</td>\n",
       "      <td>0</td>\n",
       "      <td>Don't you mean \"so variance should be $\\sigma^...</td>\n",
       "      <td>2019-01-01 00:41:28</td>\n",
       "      <td>112141</td>\n",
       "    </tr>\n",
       "  </tbody>\n",
       "</table>\n",
       "</div>"
      ],
      "text/plain": [
       "       Id  PostId  Score                                               Text  \\\n",
       "0  723182  385124      0  @BenBolker I don't understand. The fit cannot ...   \n",
       "1  723183  385124      3  You can't add *less* than (`-min(y)`), but you...   \n",
       "2  723186  385137      0  nice. If you felt like doing the work it would...   \n",
       "3  723187  385137      0  i.e. `emdbook::curve3d(-sum(dnbinom(y,mu=mu,si...   \n",
       "4  723188  385134      0  Don't you mean \"so variance should be $\\sigma^...   \n",
       "\n",
       "          CreationDate  UserId  \n",
       "0  2019-01-01 00:06:39   78575  \n",
       "1  2019-01-01 00:09:22    2126  \n",
       "2  2019-01-01 00:32:11    2126  \n",
       "3  2019-01-01 00:40:36    2126  \n",
       "4  2019-01-01 00:41:28  112141  "
      ]
     },
     "execution_count": 5,
     "metadata": {},
     "output_type": "execute_result"
    }
   ],
   "source": [
    "comments = pd.read_csv('D://Work//OpenClassroom//Project 4 SQL//chatdata//comments.csv')\n",
    "comments.head()"
   ]
  },
  {
   "cell_type": "markdown",
   "metadata": {},
   "source": [
    "Now take the comments dataframe and push the data into the Sqlite database table called 'comments':"
   ]
  },
  {
   "cell_type": "code",
   "execution_count": 6,
   "metadata": {},
   "outputs": [
    {
     "data": {
      "text/html": [
       "<div>\n",
       "<style scoped>\n",
       "    .dataframe tbody tr th:only-of-type {\n",
       "        vertical-align: middle;\n",
       "    }\n",
       "\n",
       "    .dataframe tbody tr th {\n",
       "        vertical-align: top;\n",
       "    }\n",
       "\n",
       "    .dataframe thead th {\n",
       "        text-align: right;\n",
       "    }\n",
       "</style>\n",
       "<table border=\"1\" class=\"dataframe\">\n",
       "  <thead>\n",
       "    <tr style=\"text-align: right;\">\n",
       "      <th></th>\n",
       "      <th>Id</th>\n",
       "      <th>PostId</th>\n",
       "      <th>Score</th>\n",
       "      <th>Text</th>\n",
       "      <th>CreationDate</th>\n",
       "      <th>UserId</th>\n",
       "    </tr>\n",
       "  </thead>\n",
       "  <tbody>\n",
       "    <tr>\n",
       "      <th>0</th>\n",
       "      <td>723182</td>\n",
       "      <td>385124</td>\n",
       "      <td>0</td>\n",
       "      <td>@BenBolker I don't understand. The fit cannot ...</td>\n",
       "      <td>2019-01-01 00:06:39</td>\n",
       "      <td>78575</td>\n",
       "    </tr>\n",
       "    <tr>\n",
       "      <th>1</th>\n",
       "      <td>723183</td>\n",
       "      <td>385124</td>\n",
       "      <td>3</td>\n",
       "      <td>You can't add *less* than (`-min(y)`), but you...</td>\n",
       "      <td>2019-01-01 00:09:22</td>\n",
       "      <td>2126</td>\n",
       "    </tr>\n",
       "    <tr>\n",
       "      <th>2</th>\n",
       "      <td>723186</td>\n",
       "      <td>385137</td>\n",
       "      <td>0</td>\n",
       "      <td>nice. If you felt like doing the work it would...</td>\n",
       "      <td>2019-01-01 00:32:11</td>\n",
       "      <td>2126</td>\n",
       "    </tr>\n",
       "    <tr>\n",
       "      <th>3</th>\n",
       "      <td>723187</td>\n",
       "      <td>385137</td>\n",
       "      <td>0</td>\n",
       "      <td>i.e. `emdbook::curve3d(-sum(dnbinom(y,mu=mu,si...</td>\n",
       "      <td>2019-01-01 00:40:36</td>\n",
       "      <td>2126</td>\n",
       "    </tr>\n",
       "    <tr>\n",
       "      <th>4</th>\n",
       "      <td>723188</td>\n",
       "      <td>385134</td>\n",
       "      <td>0</td>\n",
       "      <td>Don't you mean \"so variance should be $\\sigma^...</td>\n",
       "      <td>2019-01-01 00:41:28</td>\n",
       "      <td>112141</td>\n",
       "    </tr>\n",
       "  </tbody>\n",
       "</table>\n",
       "</div>"
      ],
      "text/plain": [
       "       Id  PostId  Score                                               Text  \\\n",
       "0  723182  385124      0  @BenBolker I don't understand. The fit cannot ...   \n",
       "1  723183  385124      3  You can't add *less* than (`-min(y)`), but you...   \n",
       "2  723186  385137      0  nice. If you felt like doing the work it would...   \n",
       "3  723187  385137      0  i.e. `emdbook::curve3d(-sum(dnbinom(y,mu=mu,si...   \n",
       "4  723188  385134      0  Don't you mean \"so variance should be $\\sigma^...   \n",
       "\n",
       "          CreationDate  UserId  \n",
       "0  2019-01-01 00:06:39   78575  \n",
       "1  2019-01-01 00:09:22    2126  \n",
       "2  2019-01-01 00:32:11    2126  \n",
       "3  2019-01-01 00:40:36    2126  \n",
       "4  2019-01-01 00:41:28  112141  "
      ]
     },
     "execution_count": 6,
     "metadata": {},
     "output_type": "execute_result"
    }
   ],
   "source": [
    "# load comments into sqlite\n",
    "comments.to_sql('comments', con, if_exists='replace', index=False)\n",
    "\n",
    "# read back in to prove that it worked\n",
    "sql = 'SELECT * FROM comments'\n",
    "comments = pd.read_sql(sql, con)\n",
    "comments.head()"
   ]
  },
  {
   "cell_type": "markdown",
   "metadata": {},
   "source": [
    "### Load Other CSVs\n",
    "Let's now do the same to read and write the posts.csv and users.csv to sqlite. "
   ]
  },
  {
   "cell_type": "code",
   "execution_count": 7,
   "metadata": {},
   "outputs": [
    {
     "data": {
      "text/html": [
       "<div>\n",
       "<style scoped>\n",
       "    .dataframe tbody tr th:only-of-type {\n",
       "        vertical-align: middle;\n",
       "    }\n",
       "\n",
       "    .dataframe tbody tr th {\n",
       "        vertical-align: top;\n",
       "    }\n",
       "\n",
       "    .dataframe thead th {\n",
       "        text-align: right;\n",
       "    }\n",
       "</style>\n",
       "<table border=\"1\" class=\"dataframe\">\n",
       "  <thead>\n",
       "    <tr style=\"text-align: right;\">\n",
       "      <th></th>\n",
       "      <th>Id</th>\n",
       "      <th>Reputation</th>\n",
       "      <th>CreationDate</th>\n",
       "      <th>DisplayName</th>\n",
       "      <th>LastAccessDate</th>\n",
       "      <th>WebsiteUrl</th>\n",
       "      <th>Location</th>\n",
       "      <th>AboutMe</th>\n",
       "      <th>Views</th>\n",
       "      <th>UpVotes</th>\n",
       "      <th>DownVotes</th>\n",
       "      <th>ProfileImageUrl</th>\n",
       "      <th>AccountId</th>\n",
       "    </tr>\n",
       "  </thead>\n",
       "  <tbody>\n",
       "    <tr>\n",
       "      <th>0</th>\n",
       "      <td>157607</td>\n",
       "      <td>31</td>\n",
       "      <td>2017-04-17 14:50:42</td>\n",
       "      <td>user157607</td>\n",
       "      <td>2019-07-23 16:44:08</td>\n",
       "      <td>NaN</td>\n",
       "      <td>NaN</td>\n",
       "      <td>NaN</td>\n",
       "      <td>0</td>\n",
       "      <td>0</td>\n",
       "      <td>0</td>\n",
       "      <td>https://www.gravatar.com/avatar/2efb161849efa4...</td>\n",
       "      <td>10705183</td>\n",
       "    </tr>\n",
       "    <tr>\n",
       "      <th>1</th>\n",
       "      <td>157656</td>\n",
       "      <td>101</td>\n",
       "      <td>2017-04-17 20:08:20</td>\n",
       "      <td>user102859</td>\n",
       "      <td>2019-06-26 13:42:13</td>\n",
       "      <td>NaN</td>\n",
       "      <td>NaN</td>\n",
       "      <td>NaN</td>\n",
       "      <td>3</td>\n",
       "      <td>0</td>\n",
       "      <td>0</td>\n",
       "      <td>https://i.stack.imgur.com/eY4ka.jpg?s=128&amp;g=1</td>\n",
       "      <td>10567606</td>\n",
       "    </tr>\n",
       "    <tr>\n",
       "      <th>2</th>\n",
       "      <td>157704</td>\n",
       "      <td>133</td>\n",
       "      <td>2017-04-18 05:10:47</td>\n",
       "      <td>jupiar</td>\n",
       "      <td>2019-11-25 13:32:27</td>\n",
       "      <td>NaN</td>\n",
       "      <td>Shanghai, China</td>\n",
       "      <td>&lt;p&gt;Originally from the U.K, I have an Undergra...</td>\n",
       "      <td>1</td>\n",
       "      <td>1</td>\n",
       "      <td>0</td>\n",
       "      <td>https://www.gravatar.com/avatar/720e20205122c5...</td>\n",
       "      <td>9501631</td>\n",
       "    </tr>\n",
       "    <tr>\n",
       "      <th>3</th>\n",
       "      <td>157709</td>\n",
       "      <td>155</td>\n",
       "      <td>2017-04-18 06:39:18</td>\n",
       "      <td>farmer</td>\n",
       "      <td>2019-02-17 19:44:24</td>\n",
       "      <td>NaN</td>\n",
       "      <td>NaN</td>\n",
       "      <td>NaN</td>\n",
       "      <td>16</td>\n",
       "      <td>0</td>\n",
       "      <td>0</td>\n",
       "      <td>https://www.gravatar.com/avatar/0f8c4bde3d8f25...</td>\n",
       "      <td>10709837</td>\n",
       "    </tr>\n",
       "    <tr>\n",
       "      <th>4</th>\n",
       "      <td>157755</td>\n",
       "      <td>101</td>\n",
       "      <td>2017-04-18 12:56:17</td>\n",
       "      <td>Miki P</td>\n",
       "      <td>2019-08-12 17:02:21</td>\n",
       "      <td>NaN</td>\n",
       "      <td>NaN</td>\n",
       "      <td>NaN</td>\n",
       "      <td>1</td>\n",
       "      <td>9</td>\n",
       "      <td>0</td>\n",
       "      <td>https://www.gravatar.com/avatar/af088558cd81c5...</td>\n",
       "      <td>7969290</td>\n",
       "    </tr>\n",
       "  </tbody>\n",
       "</table>\n",
       "</div>"
      ],
      "text/plain": [
       "       Id  Reputation         CreationDate DisplayName       LastAccessDate  \\\n",
       "0  157607          31  2017-04-17 14:50:42  user157607  2019-07-23 16:44:08   \n",
       "1  157656         101  2017-04-17 20:08:20  user102859  2019-06-26 13:42:13   \n",
       "2  157704         133  2017-04-18 05:10:47      jupiar  2019-11-25 13:32:27   \n",
       "3  157709         155  2017-04-18 06:39:18      farmer  2019-02-17 19:44:24   \n",
       "4  157755         101  2017-04-18 12:56:17      Miki P  2019-08-12 17:02:21   \n",
       "\n",
       "  WebsiteUrl         Location  \\\n",
       "0        NaN              NaN   \n",
       "1        NaN              NaN   \n",
       "2        NaN  Shanghai, China   \n",
       "3        NaN              NaN   \n",
       "4        NaN              NaN   \n",
       "\n",
       "                                             AboutMe  Views  UpVotes  \\\n",
       "0                                                NaN      0        0   \n",
       "1                                                NaN      3        0   \n",
       "2  <p>Originally from the U.K, I have an Undergra...      1        1   \n",
       "3                                                NaN     16        0   \n",
       "4                                                NaN      1        9   \n",
       "\n",
       "   DownVotes                                    ProfileImageUrl  AccountId  \n",
       "0          0  https://www.gravatar.com/avatar/2efb161849efa4...   10705183  \n",
       "1          0      https://i.stack.imgur.com/eY4ka.jpg?s=128&g=1   10567606  \n",
       "2          0  https://www.gravatar.com/avatar/720e20205122c5...    9501631  \n",
       "3          0  https://www.gravatar.com/avatar/0f8c4bde3d8f25...   10709837  \n",
       "4          0  https://www.gravatar.com/avatar/af088558cd81c5...    7969290  "
      ]
     },
     "execution_count": 7,
     "metadata": {},
     "output_type": "execute_result"
    }
   ],
   "source": [
    "users = pd.read_csv('D://Work//OpenClassroom//Project 4 SQL//chatdata//users.csv')\n",
    "users.head()"
   ]
  },
  {
   "cell_type": "code",
   "execution_count": 8,
   "metadata": {},
   "outputs": [
    {
     "data": {
      "text/html": [
       "<div>\n",
       "<style scoped>\n",
       "    .dataframe tbody tr th:only-of-type {\n",
       "        vertical-align: middle;\n",
       "    }\n",
       "\n",
       "    .dataframe tbody tr th {\n",
       "        vertical-align: top;\n",
       "    }\n",
       "\n",
       "    .dataframe thead th {\n",
       "        text-align: right;\n",
       "    }\n",
       "</style>\n",
       "<table border=\"1\" class=\"dataframe\">\n",
       "  <thead>\n",
       "    <tr style=\"text-align: right;\">\n",
       "      <th></th>\n",
       "      <th>Id</th>\n",
       "      <th>Reputation</th>\n",
       "      <th>CreationDate</th>\n",
       "      <th>DisplayName</th>\n",
       "      <th>LastAccessDate</th>\n",
       "      <th>WebsiteUrl</th>\n",
       "      <th>Location</th>\n",
       "      <th>AboutMe</th>\n",
       "      <th>Views</th>\n",
       "      <th>UpVotes</th>\n",
       "      <th>DownVotes</th>\n",
       "      <th>ProfileImageUrl</th>\n",
       "      <th>AccountId</th>\n",
       "    </tr>\n",
       "  </thead>\n",
       "  <tbody>\n",
       "    <tr>\n",
       "      <th>0</th>\n",
       "      <td>157607</td>\n",
       "      <td>31</td>\n",
       "      <td>2017-04-17 14:50:42</td>\n",
       "      <td>user157607</td>\n",
       "      <td>2019-07-23 16:44:08</td>\n",
       "      <td>None</td>\n",
       "      <td>None</td>\n",
       "      <td>None</td>\n",
       "      <td>0</td>\n",
       "      <td>0</td>\n",
       "      <td>0</td>\n",
       "      <td>https://www.gravatar.com/avatar/2efb161849efa4...</td>\n",
       "      <td>10705183</td>\n",
       "    </tr>\n",
       "    <tr>\n",
       "      <th>1</th>\n",
       "      <td>157656</td>\n",
       "      <td>101</td>\n",
       "      <td>2017-04-17 20:08:20</td>\n",
       "      <td>user102859</td>\n",
       "      <td>2019-06-26 13:42:13</td>\n",
       "      <td>None</td>\n",
       "      <td>None</td>\n",
       "      <td>None</td>\n",
       "      <td>3</td>\n",
       "      <td>0</td>\n",
       "      <td>0</td>\n",
       "      <td>https://i.stack.imgur.com/eY4ka.jpg?s=128&amp;g=1</td>\n",
       "      <td>10567606</td>\n",
       "    </tr>\n",
       "    <tr>\n",
       "      <th>2</th>\n",
       "      <td>157704</td>\n",
       "      <td>133</td>\n",
       "      <td>2017-04-18 05:10:47</td>\n",
       "      <td>jupiar</td>\n",
       "      <td>2019-11-25 13:32:27</td>\n",
       "      <td>None</td>\n",
       "      <td>Shanghai, China</td>\n",
       "      <td>&lt;p&gt;Originally from the U.K, I have an Undergra...</td>\n",
       "      <td>1</td>\n",
       "      <td>1</td>\n",
       "      <td>0</td>\n",
       "      <td>https://www.gravatar.com/avatar/720e20205122c5...</td>\n",
       "      <td>9501631</td>\n",
       "    </tr>\n",
       "    <tr>\n",
       "      <th>3</th>\n",
       "      <td>157709</td>\n",
       "      <td>155</td>\n",
       "      <td>2017-04-18 06:39:18</td>\n",
       "      <td>farmer</td>\n",
       "      <td>2019-02-17 19:44:24</td>\n",
       "      <td>None</td>\n",
       "      <td>None</td>\n",
       "      <td>None</td>\n",
       "      <td>16</td>\n",
       "      <td>0</td>\n",
       "      <td>0</td>\n",
       "      <td>https://www.gravatar.com/avatar/0f8c4bde3d8f25...</td>\n",
       "      <td>10709837</td>\n",
       "    </tr>\n",
       "    <tr>\n",
       "      <th>4</th>\n",
       "      <td>157755</td>\n",
       "      <td>101</td>\n",
       "      <td>2017-04-18 12:56:17</td>\n",
       "      <td>Miki P</td>\n",
       "      <td>2019-08-12 17:02:21</td>\n",
       "      <td>None</td>\n",
       "      <td>None</td>\n",
       "      <td>None</td>\n",
       "      <td>1</td>\n",
       "      <td>9</td>\n",
       "      <td>0</td>\n",
       "      <td>https://www.gravatar.com/avatar/af088558cd81c5...</td>\n",
       "      <td>7969290</td>\n",
       "    </tr>\n",
       "  </tbody>\n",
       "</table>\n",
       "</div>"
      ],
      "text/plain": [
       "       Id  Reputation         CreationDate DisplayName       LastAccessDate  \\\n",
       "0  157607          31  2017-04-17 14:50:42  user157607  2019-07-23 16:44:08   \n",
       "1  157656         101  2017-04-17 20:08:20  user102859  2019-06-26 13:42:13   \n",
       "2  157704         133  2017-04-18 05:10:47      jupiar  2019-11-25 13:32:27   \n",
       "3  157709         155  2017-04-18 06:39:18      farmer  2019-02-17 19:44:24   \n",
       "4  157755         101  2017-04-18 12:56:17      Miki P  2019-08-12 17:02:21   \n",
       "\n",
       "  WebsiteUrl         Location  \\\n",
       "0       None             None   \n",
       "1       None             None   \n",
       "2       None  Shanghai, China   \n",
       "3       None             None   \n",
       "4       None             None   \n",
       "\n",
       "                                             AboutMe  Views  UpVotes  \\\n",
       "0                                               None      0        0   \n",
       "1                                               None      3        0   \n",
       "2  <p>Originally from the U.K, I have an Undergra...      1        1   \n",
       "3                                               None     16        0   \n",
       "4                                               None      1        9   \n",
       "\n",
       "   DownVotes                                    ProfileImageUrl  AccountId  \n",
       "0          0  https://www.gravatar.com/avatar/2efb161849efa4...   10705183  \n",
       "1          0      https://i.stack.imgur.com/eY4ka.jpg?s=128&g=1   10567606  \n",
       "2          0  https://www.gravatar.com/avatar/720e20205122c5...    9501631  \n",
       "3          0  https://www.gravatar.com/avatar/0f8c4bde3d8f25...   10709837  \n",
       "4          0  https://www.gravatar.com/avatar/af088558cd81c5...    7969290  "
      ]
     },
     "execution_count": 8,
     "metadata": {},
     "output_type": "execute_result"
    }
   ],
   "source": [
    "# load comments into sqlite\n",
    "users.to_sql('users', con, if_exists='replace', index=False)\n",
    "\n",
    "# read back in to prove that it worked\n",
    "sql = 'SELECT * FROM users'\n",
    "users = pd.read_sql(sql, con)\n",
    "users.head()"
   ]
  },
  {
   "cell_type": "code",
   "execution_count": 9,
   "metadata": {},
   "outputs": [
    {
     "data": {
      "text/html": [
       "<div>\n",
       "<style scoped>\n",
       "    .dataframe tbody tr th:only-of-type {\n",
       "        vertical-align: middle;\n",
       "    }\n",
       "\n",
       "    .dataframe tbody tr th {\n",
       "        vertical-align: top;\n",
       "    }\n",
       "\n",
       "    .dataframe thead th {\n",
       "        text-align: right;\n",
       "    }\n",
       "</style>\n",
       "<table border=\"1\" class=\"dataframe\">\n",
       "  <thead>\n",
       "    <tr style=\"text-align: right;\">\n",
       "      <th></th>\n",
       "      <th>Id</th>\n",
       "      <th>PostTypeId</th>\n",
       "      <th>AcceptedAnswerId</th>\n",
       "      <th>ParentId</th>\n",
       "      <th>CreationDate</th>\n",
       "      <th>Score</th>\n",
       "      <th>ViewCount</th>\n",
       "      <th>Body</th>\n",
       "      <th>OwnerUserId</th>\n",
       "      <th>OwnerDisplayName</th>\n",
       "      <th>...</th>\n",
       "      <th>LastEditorDisplayName</th>\n",
       "      <th>LastEditDate</th>\n",
       "      <th>LastActivityDate</th>\n",
       "      <th>Title</th>\n",
       "      <th>Tags</th>\n",
       "      <th>AnswerCount</th>\n",
       "      <th>CommentCount</th>\n",
       "      <th>FavoriteCount</th>\n",
       "      <th>ClosedDate</th>\n",
       "      <th>CommunityOwnedDate</th>\n",
       "    </tr>\n",
       "  </thead>\n",
       "  <tbody>\n",
       "    <tr>\n",
       "      <th>0</th>\n",
       "      <td>423497</td>\n",
       "      <td>1</td>\n",
       "      <td>423511</td>\n",
       "      <td>0</td>\n",
       "      <td>2019-08-24 09:39:31</td>\n",
       "      <td>2</td>\n",
       "      <td>68</td>\n",
       "      <td>&lt;p&gt;From wikipedia &lt;a href=\"https://en.wikipedi...</td>\n",
       "      <td>64552</td>\n",
       "      <td>NaN</td>\n",
       "      <td>...</td>\n",
       "      <td>NaN</td>\n",
       "      <td>NaN</td>\n",
       "      <td>2019-08-24 11:38:54</td>\n",
       "      <td>When are biased estimators with lower MSE pref...</td>\n",
       "      <td>&lt;bias&gt;&lt;unbiased-estimator&gt;&lt;mse&gt;</td>\n",
       "      <td>1</td>\n",
       "      <td>0</td>\n",
       "      <td>1</td>\n",
       "      <td>2019-08-25 10:25:24</td>\n",
       "      <td>NaN</td>\n",
       "    </tr>\n",
       "    <tr>\n",
       "      <th>1</th>\n",
       "      <td>423498</td>\n",
       "      <td>1</td>\n",
       "      <td>0</td>\n",
       "      <td>0</td>\n",
       "      <td>2019-08-24 09:47:42</td>\n",
       "      <td>1</td>\n",
       "      <td>24</td>\n",
       "      <td>&lt;p&gt;I am currently doing local sensitivity anal...</td>\n",
       "      <td>87231</td>\n",
       "      <td>NaN</td>\n",
       "      <td>...</td>\n",
       "      <td>NaN</td>\n",
       "      <td>2019-09-06 12:52:32</td>\n",
       "      <td>2019-09-06 12:52:32</td>\n",
       "      <td>How to interpret the result from local sensiti...</td>\n",
       "      <td>&lt;sensitivity-analysis&gt;&lt;elasticity&gt;</td>\n",
       "      <td>1</td>\n",
       "      <td>0</td>\n",
       "      <td>0</td>\n",
       "      <td>NaN</td>\n",
       "      <td>NaN</td>\n",
       "    </tr>\n",
       "    <tr>\n",
       "      <th>2</th>\n",
       "      <td>423499</td>\n",
       "      <td>1</td>\n",
       "      <td>0</td>\n",
       "      <td>0</td>\n",
       "      <td>2019-08-24 09:48:26</td>\n",
       "      <td>1</td>\n",
       "      <td>56</td>\n",
       "      <td>&lt;p&gt;I'm an honours student in psychology doing ...</td>\n",
       "      <td>257207</td>\n",
       "      <td>NaN</td>\n",
       "      <td>...</td>\n",
       "      <td>NaN</td>\n",
       "      <td>NaN</td>\n",
       "      <td>2019-08-25 08:54:17</td>\n",
       "      <td>Power Analysis in G-Power - Mixed Model Anova</td>\n",
       "      <td>&lt;anova&gt;&lt;gpower&gt;</td>\n",
       "      <td>2</td>\n",
       "      <td>0</td>\n",
       "      <td>0</td>\n",
       "      <td>NaN</td>\n",
       "      <td>NaN</td>\n",
       "    </tr>\n",
       "    <tr>\n",
       "      <th>3</th>\n",
       "      <td>423500</td>\n",
       "      <td>2</td>\n",
       "      <td>0</td>\n",
       "      <td>215865</td>\n",
       "      <td>2019-08-24 09:57:01</td>\n",
       "      <td>0</td>\n",
       "      <td>0</td>\n",
       "      <td>&lt;p&gt;Maybe you can look this &lt;a href=\"https://me...</td>\n",
       "      <td>106606</td>\n",
       "      <td>NaN</td>\n",
       "      <td>...</td>\n",
       "      <td>NaN</td>\n",
       "      <td>NaN</td>\n",
       "      <td>2019-08-24 09:57:01</td>\n",
       "      <td>NaN</td>\n",
       "      <td>NaN</td>\n",
       "      <td>0</td>\n",
       "      <td>0</td>\n",
       "      <td>0</td>\n",
       "      <td>NaN</td>\n",
       "      <td>NaN</td>\n",
       "    </tr>\n",
       "    <tr>\n",
       "      <th>4</th>\n",
       "      <td>423502</td>\n",
       "      <td>2</td>\n",
       "      <td>0</td>\n",
       "      <td>423286</td>\n",
       "      <td>2019-08-24 10:44:52</td>\n",
       "      <td>3</td>\n",
       "      <td>0</td>\n",
       "      <td>&lt;blockquote&gt;\\n  &lt;p&gt;Q1) Is my approach valid?&lt;/...</td>\n",
       "      <td>220643</td>\n",
       "      <td>NaN</td>\n",
       "      <td>...</td>\n",
       "      <td>NaN</td>\n",
       "      <td>2019-08-24 12:13:46</td>\n",
       "      <td>2019-08-24 12:13:46</td>\n",
       "      <td>NaN</td>\n",
       "      <td>NaN</td>\n",
       "      <td>0</td>\n",
       "      <td>1</td>\n",
       "      <td>0</td>\n",
       "      <td>NaN</td>\n",
       "      <td>NaN</td>\n",
       "    </tr>\n",
       "  </tbody>\n",
       "</table>\n",
       "<p>5 rows × 21 columns</p>\n",
       "</div>"
      ],
      "text/plain": [
       "       Id  PostTypeId  AcceptedAnswerId  ParentId         CreationDate  Score  \\\n",
       "0  423497           1            423511         0  2019-08-24 09:39:31      2   \n",
       "1  423498           1                 0         0  2019-08-24 09:47:42      1   \n",
       "2  423499           1                 0         0  2019-08-24 09:48:26      1   \n",
       "3  423500           2                 0    215865  2019-08-24 09:57:01      0   \n",
       "4  423502           2                 0    423286  2019-08-24 10:44:52      3   \n",
       "\n",
       "   ViewCount                                               Body  OwnerUserId  \\\n",
       "0         68  <p>From wikipedia <a href=\"https://en.wikipedi...        64552   \n",
       "1         24  <p>I am currently doing local sensitivity anal...        87231   \n",
       "2         56  <p>I'm an honours student in psychology doing ...       257207   \n",
       "3          0  <p>Maybe you can look this <a href=\"https://me...       106606   \n",
       "4          0  <blockquote>\\n  <p>Q1) Is my approach valid?</...       220643   \n",
       "\n",
       "  OwnerDisplayName  ...  LastEditorDisplayName         LastEditDate  \\\n",
       "0              NaN  ...                    NaN                  NaN   \n",
       "1              NaN  ...                    NaN  2019-09-06 12:52:32   \n",
       "2              NaN  ...                    NaN                  NaN   \n",
       "3              NaN  ...                    NaN                  NaN   \n",
       "4              NaN  ...                    NaN  2019-08-24 12:13:46   \n",
       "\n",
       "      LastActivityDate                                              Title  \\\n",
       "0  2019-08-24 11:38:54  When are biased estimators with lower MSE pref...   \n",
       "1  2019-09-06 12:52:32  How to interpret the result from local sensiti...   \n",
       "2  2019-08-25 08:54:17      Power Analysis in G-Power - Mixed Model Anova   \n",
       "3  2019-08-24 09:57:01                                                NaN   \n",
       "4  2019-08-24 12:13:46                                                NaN   \n",
       "\n",
       "                                 Tags AnswerCount  CommentCount  \\\n",
       "0     <bias><unbiased-estimator><mse>           1             0   \n",
       "1  <sensitivity-analysis><elasticity>           1             0   \n",
       "2                     <anova><gpower>           2             0   \n",
       "3                                 NaN           0             0   \n",
       "4                                 NaN           0             1   \n",
       "\n",
       "   FavoriteCount           ClosedDate CommunityOwnedDate  \n",
       "0              1  2019-08-25 10:25:24                NaN  \n",
       "1              0                  NaN                NaN  \n",
       "2              0                  NaN                NaN  \n",
       "3              0                  NaN                NaN  \n",
       "4              0                  NaN                NaN  \n",
       "\n",
       "[5 rows x 21 columns]"
      ]
     },
     "execution_count": 9,
     "metadata": {},
     "output_type": "execute_result"
    }
   ],
   "source": [
    "posts = pd.read_csv('D://Work//OpenClassroom//Project 4 SQL//chatdata//posts.csv')\n",
    "posts.head()"
   ]
  },
  {
   "cell_type": "code",
   "execution_count": 10,
   "metadata": {},
   "outputs": [
    {
     "data": {
      "text/html": [
       "<div>\n",
       "<style scoped>\n",
       "    .dataframe tbody tr th:only-of-type {\n",
       "        vertical-align: middle;\n",
       "    }\n",
       "\n",
       "    .dataframe tbody tr th {\n",
       "        vertical-align: top;\n",
       "    }\n",
       "\n",
       "    .dataframe thead th {\n",
       "        text-align: right;\n",
       "    }\n",
       "</style>\n",
       "<table border=\"1\" class=\"dataframe\">\n",
       "  <thead>\n",
       "    <tr style=\"text-align: right;\">\n",
       "      <th></th>\n",
       "      <th>Id</th>\n",
       "      <th>PostTypeId</th>\n",
       "      <th>AcceptedAnswerId</th>\n",
       "      <th>ParentId</th>\n",
       "      <th>CreationDate</th>\n",
       "      <th>Score</th>\n",
       "      <th>ViewCount</th>\n",
       "      <th>Body</th>\n",
       "      <th>OwnerUserId</th>\n",
       "      <th>OwnerDisplayName</th>\n",
       "      <th>...</th>\n",
       "      <th>LastEditorDisplayName</th>\n",
       "      <th>LastEditDate</th>\n",
       "      <th>LastActivityDate</th>\n",
       "      <th>Title</th>\n",
       "      <th>Tags</th>\n",
       "      <th>AnswerCount</th>\n",
       "      <th>CommentCount</th>\n",
       "      <th>FavoriteCount</th>\n",
       "      <th>ClosedDate</th>\n",
       "      <th>CommunityOwnedDate</th>\n",
       "    </tr>\n",
       "  </thead>\n",
       "  <tbody>\n",
       "    <tr>\n",
       "      <th>0</th>\n",
       "      <td>423497</td>\n",
       "      <td>1</td>\n",
       "      <td>423511</td>\n",
       "      <td>0</td>\n",
       "      <td>2019-08-24 09:39:31</td>\n",
       "      <td>2</td>\n",
       "      <td>68</td>\n",
       "      <td>&lt;p&gt;From wikipedia &lt;a href=\"https://en.wikipedi...</td>\n",
       "      <td>64552</td>\n",
       "      <td>None</td>\n",
       "      <td>...</td>\n",
       "      <td>None</td>\n",
       "      <td>None</td>\n",
       "      <td>2019-08-24 11:38:54</td>\n",
       "      <td>When are biased estimators with lower MSE pref...</td>\n",
       "      <td>&lt;bias&gt;&lt;unbiased-estimator&gt;&lt;mse&gt;</td>\n",
       "      <td>1</td>\n",
       "      <td>0</td>\n",
       "      <td>1</td>\n",
       "      <td>2019-08-25 10:25:24</td>\n",
       "      <td>None</td>\n",
       "    </tr>\n",
       "    <tr>\n",
       "      <th>1</th>\n",
       "      <td>423498</td>\n",
       "      <td>1</td>\n",
       "      <td>0</td>\n",
       "      <td>0</td>\n",
       "      <td>2019-08-24 09:47:42</td>\n",
       "      <td>1</td>\n",
       "      <td>24</td>\n",
       "      <td>&lt;p&gt;I am currently doing local sensitivity anal...</td>\n",
       "      <td>87231</td>\n",
       "      <td>None</td>\n",
       "      <td>...</td>\n",
       "      <td>None</td>\n",
       "      <td>2019-09-06 12:52:32</td>\n",
       "      <td>2019-09-06 12:52:32</td>\n",
       "      <td>How to interpret the result from local sensiti...</td>\n",
       "      <td>&lt;sensitivity-analysis&gt;&lt;elasticity&gt;</td>\n",
       "      <td>1</td>\n",
       "      <td>0</td>\n",
       "      <td>0</td>\n",
       "      <td>None</td>\n",
       "      <td>None</td>\n",
       "    </tr>\n",
       "    <tr>\n",
       "      <th>2</th>\n",
       "      <td>423499</td>\n",
       "      <td>1</td>\n",
       "      <td>0</td>\n",
       "      <td>0</td>\n",
       "      <td>2019-08-24 09:48:26</td>\n",
       "      <td>1</td>\n",
       "      <td>56</td>\n",
       "      <td>&lt;p&gt;I'm an honours student in psychology doing ...</td>\n",
       "      <td>257207</td>\n",
       "      <td>None</td>\n",
       "      <td>...</td>\n",
       "      <td>None</td>\n",
       "      <td>None</td>\n",
       "      <td>2019-08-25 08:54:17</td>\n",
       "      <td>Power Analysis in G-Power - Mixed Model Anova</td>\n",
       "      <td>&lt;anova&gt;&lt;gpower&gt;</td>\n",
       "      <td>2</td>\n",
       "      <td>0</td>\n",
       "      <td>0</td>\n",
       "      <td>None</td>\n",
       "      <td>None</td>\n",
       "    </tr>\n",
       "    <tr>\n",
       "      <th>3</th>\n",
       "      <td>423500</td>\n",
       "      <td>2</td>\n",
       "      <td>0</td>\n",
       "      <td>215865</td>\n",
       "      <td>2019-08-24 09:57:01</td>\n",
       "      <td>0</td>\n",
       "      <td>0</td>\n",
       "      <td>&lt;p&gt;Maybe you can look this &lt;a href=\"https://me...</td>\n",
       "      <td>106606</td>\n",
       "      <td>None</td>\n",
       "      <td>...</td>\n",
       "      <td>None</td>\n",
       "      <td>None</td>\n",
       "      <td>2019-08-24 09:57:01</td>\n",
       "      <td>None</td>\n",
       "      <td>None</td>\n",
       "      <td>0</td>\n",
       "      <td>0</td>\n",
       "      <td>0</td>\n",
       "      <td>None</td>\n",
       "      <td>None</td>\n",
       "    </tr>\n",
       "    <tr>\n",
       "      <th>4</th>\n",
       "      <td>423502</td>\n",
       "      <td>2</td>\n",
       "      <td>0</td>\n",
       "      <td>423286</td>\n",
       "      <td>2019-08-24 10:44:52</td>\n",
       "      <td>3</td>\n",
       "      <td>0</td>\n",
       "      <td>&lt;blockquote&gt;\\n  &lt;p&gt;Q1) Is my approach valid?&lt;/...</td>\n",
       "      <td>220643</td>\n",
       "      <td>None</td>\n",
       "      <td>...</td>\n",
       "      <td>None</td>\n",
       "      <td>2019-08-24 12:13:46</td>\n",
       "      <td>2019-08-24 12:13:46</td>\n",
       "      <td>None</td>\n",
       "      <td>None</td>\n",
       "      <td>0</td>\n",
       "      <td>1</td>\n",
       "      <td>0</td>\n",
       "      <td>None</td>\n",
       "      <td>None</td>\n",
       "    </tr>\n",
       "  </tbody>\n",
       "</table>\n",
       "<p>5 rows × 21 columns</p>\n",
       "</div>"
      ],
      "text/plain": [
       "       Id  PostTypeId  AcceptedAnswerId  ParentId         CreationDate  Score  \\\n",
       "0  423497           1            423511         0  2019-08-24 09:39:31      2   \n",
       "1  423498           1                 0         0  2019-08-24 09:47:42      1   \n",
       "2  423499           1                 0         0  2019-08-24 09:48:26      1   \n",
       "3  423500           2                 0    215865  2019-08-24 09:57:01      0   \n",
       "4  423502           2                 0    423286  2019-08-24 10:44:52      3   \n",
       "\n",
       "   ViewCount                                               Body  OwnerUserId  \\\n",
       "0         68  <p>From wikipedia <a href=\"https://en.wikipedi...        64552   \n",
       "1         24  <p>I am currently doing local sensitivity anal...        87231   \n",
       "2         56  <p>I'm an honours student in psychology doing ...       257207   \n",
       "3          0  <p>Maybe you can look this <a href=\"https://me...       106606   \n",
       "4          0  <blockquote>\\n  <p>Q1) Is my approach valid?</...       220643   \n",
       "\n",
       "  OwnerDisplayName  ...  LastEditorDisplayName         LastEditDate  \\\n",
       "0             None  ...                   None                 None   \n",
       "1             None  ...                   None  2019-09-06 12:52:32   \n",
       "2             None  ...                   None                 None   \n",
       "3             None  ...                   None                 None   \n",
       "4             None  ...                   None  2019-08-24 12:13:46   \n",
       "\n",
       "      LastActivityDate                                              Title  \\\n",
       "0  2019-08-24 11:38:54  When are biased estimators with lower MSE pref...   \n",
       "1  2019-09-06 12:52:32  How to interpret the result from local sensiti...   \n",
       "2  2019-08-25 08:54:17      Power Analysis in G-Power - Mixed Model Anova   \n",
       "3  2019-08-24 09:57:01                                               None   \n",
       "4  2019-08-24 12:13:46                                               None   \n",
       "\n",
       "                                 Tags AnswerCount  CommentCount  \\\n",
       "0     <bias><unbiased-estimator><mse>           1             0   \n",
       "1  <sensitivity-analysis><elasticity>           1             0   \n",
       "2                     <anova><gpower>           2             0   \n",
       "3                                None           0             0   \n",
       "4                                None           0             1   \n",
       "\n",
       "   FavoriteCount           ClosedDate CommunityOwnedDate  \n",
       "0              1  2019-08-25 10:25:24               None  \n",
       "1              0                 None               None  \n",
       "2              0                 None               None  \n",
       "3              0                 None               None  \n",
       "4              0                 None               None  \n",
       "\n",
       "[5 rows x 21 columns]"
      ]
     },
     "execution_count": 10,
     "metadata": {},
     "output_type": "execute_result"
    }
   ],
   "source": [
    "posts.to_sql('posts', con, if_exists='replace', index=False)\n",
    "\n",
    "sql = 'SELECT * FROM posts'\n",
    "posts = pd.read_sql(sql, con)\n",
    "posts.head()"
   ]
  },
  {
   "cell_type": "markdown",
   "metadata": {},
   "source": [
    "### Drop Duplicates\n",
    "Look for and drop any duplicates in all 3 of the tables (if they exist)."
   ]
  },
  {
   "cell_type": "code",
   "execution_count": 11,
   "metadata": {},
   "outputs": [
    {
     "data": {
      "text/html": [
       "<div>\n",
       "<style scoped>\n",
       "    .dataframe tbody tr th:only-of-type {\n",
       "        vertical-align: middle;\n",
       "    }\n",
       "\n",
       "    .dataframe tbody tr th {\n",
       "        vertical-align: top;\n",
       "    }\n",
       "\n",
       "    .dataframe thead th {\n",
       "        text-align: right;\n",
       "    }\n",
       "</style>\n",
       "<table border=\"1\" class=\"dataframe\">\n",
       "  <thead>\n",
       "    <tr style=\"text-align: right;\">\n",
       "      <th></th>\n",
       "      <th>index</th>\n",
       "      <th>Id</th>\n",
       "    </tr>\n",
       "  </thead>\n",
       "  <tbody>\n",
       "    <tr>\n",
       "      <th>0</th>\n",
       "      <td>723182</td>\n",
       "      <td>1</td>\n",
       "    </tr>\n",
       "    <tr>\n",
       "      <th>33350</th>\n",
       "      <td>723257</td>\n",
       "      <td>1</td>\n",
       "    </tr>\n",
       "    <tr>\n",
       "      <th>33328</th>\n",
       "      <td>723219</td>\n",
       "      <td>1</td>\n",
       "    </tr>\n",
       "    <tr>\n",
       "      <th>33329</th>\n",
       "      <td>723197</td>\n",
       "      <td>1</td>\n",
       "    </tr>\n",
       "    <tr>\n",
       "      <th>33330</th>\n",
       "      <td>723186</td>\n",
       "      <td>1</td>\n",
       "    </tr>\n",
       "    <tr>\n",
       "      <th>...</th>\n",
       "      <td>...</td>\n",
       "      <td>...</td>\n",
       "    </tr>\n",
       "    <tr>\n",
       "      <th>16668</th>\n",
       "      <td>791743</td>\n",
       "      <td>1</td>\n",
       "    </tr>\n",
       "    <tr>\n",
       "      <th>16669</th>\n",
       "      <td>791744</td>\n",
       "      <td>1</td>\n",
       "    </tr>\n",
       "    <tr>\n",
       "      <th>16670</th>\n",
       "      <td>791745</td>\n",
       "      <td>1</td>\n",
       "    </tr>\n",
       "    <tr>\n",
       "      <th>16671</th>\n",
       "      <td>791746</td>\n",
       "      <td>1</td>\n",
       "    </tr>\n",
       "    <tr>\n",
       "      <th>49999</th>\n",
       "      <td>791753</td>\n",
       "      <td>1</td>\n",
       "    </tr>\n",
       "  </tbody>\n",
       "</table>\n",
       "<p>50000 rows × 2 columns</p>\n",
       "</div>"
      ],
      "text/plain": [
       "        index  Id\n",
       "0      723182   1\n",
       "33350  723257   1\n",
       "33328  723219   1\n",
       "33329  723197   1\n",
       "33330  723186   1\n",
       "...       ...  ..\n",
       "16668  791743   1\n",
       "16669  791744   1\n",
       "16670  791745   1\n",
       "16671  791746   1\n",
       "49999  791753   1\n",
       "\n",
       "[50000 rows x 2 columns]"
      ]
     },
     "execution_count": 11,
     "metadata": {},
     "output_type": "execute_result"
    }
   ],
   "source": [
    "(comments['Id']\n",
    " .value_counts()\n",
    " .reset_index()\n",
    " .sort_values(by='Id', ascending=False)\n",
    ")"
   ]
  },
  {
   "cell_type": "code",
   "execution_count": 12,
   "metadata": {},
   "outputs": [
    {
     "name": "stdout",
     "output_type": "stream",
     "text": [
      "Number of duplicates in comments: 0\n"
     ]
    }
   ],
   "source": [
    "print('Number of duplicates in comments:', comments.duplicated().sum())"
   ]
  },
  {
   "cell_type": "code",
   "execution_count": 13,
   "metadata": {},
   "outputs": [
    {
     "data": {
      "text/html": [
       "<div>\n",
       "<style scoped>\n",
       "    .dataframe tbody tr th:only-of-type {\n",
       "        vertical-align: middle;\n",
       "    }\n",
       "\n",
       "    .dataframe tbody tr th {\n",
       "        vertical-align: top;\n",
       "    }\n",
       "\n",
       "    .dataframe thead th {\n",
       "        text-align: right;\n",
       "    }\n",
       "</style>\n",
       "<table border=\"1\" class=\"dataframe\">\n",
       "  <thead>\n",
       "    <tr style=\"text-align: right;\">\n",
       "      <th></th>\n",
       "      <th>index</th>\n",
       "      <th>Id</th>\n",
       "    </tr>\n",
       "  </thead>\n",
       "  <tbody>\n",
       "    <tr>\n",
       "      <th>0</th>\n",
       "      <td>157607</td>\n",
       "      <td>1</td>\n",
       "    </tr>\n",
       "    <tr>\n",
       "      <th>12272</th>\n",
       "      <td>157927</td>\n",
       "      <td>1</td>\n",
       "    </tr>\n",
       "    <tr>\n",
       "      <th>12278</th>\n",
       "      <td>157755</td>\n",
       "      <td>1</td>\n",
       "    </tr>\n",
       "    <tr>\n",
       "      <th>12277</th>\n",
       "      <td>157766</td>\n",
       "      <td>1</td>\n",
       "    </tr>\n",
       "    <tr>\n",
       "      <th>12276</th>\n",
       "      <td>157825</td>\n",
       "      <td>1</td>\n",
       "    </tr>\n",
       "    <tr>\n",
       "      <th>...</th>\n",
       "      <td>...</td>\n",
       "      <td>...</td>\n",
       "    </tr>\n",
       "    <tr>\n",
       "      <th>6143</th>\n",
       "      <td>157450</td>\n",
       "      <td>1</td>\n",
       "    </tr>\n",
       "    <tr>\n",
       "      <th>6144</th>\n",
       "      <td>157437</td>\n",
       "      <td>1</td>\n",
       "    </tr>\n",
       "    <tr>\n",
       "      <th>6145</th>\n",
       "      <td>157402</td>\n",
       "      <td>1</td>\n",
       "    </tr>\n",
       "    <tr>\n",
       "      <th>6146</th>\n",
       "      <td>157336</td>\n",
       "      <td>1</td>\n",
       "    </tr>\n",
       "    <tr>\n",
       "      <th>18411</th>\n",
       "      <td>157592</td>\n",
       "      <td>1</td>\n",
       "    </tr>\n",
       "  </tbody>\n",
       "</table>\n",
       "<p>18412 rows × 2 columns</p>\n",
       "</div>"
      ],
      "text/plain": [
       "        index  Id\n",
       "0      157607   1\n",
       "12272  157927   1\n",
       "12278  157755   1\n",
       "12277  157766   1\n",
       "12276  157825   1\n",
       "...       ...  ..\n",
       "6143   157450   1\n",
       "6144   157437   1\n",
       "6145   157402   1\n",
       "6146   157336   1\n",
       "18411  157592   1\n",
       "\n",
       "[18412 rows x 2 columns]"
      ]
     },
     "execution_count": 13,
     "metadata": {},
     "output_type": "execute_result"
    }
   ],
   "source": [
    "(users['Id']\n",
    " .value_counts()\n",
    " .reset_index()\n",
    " .sort_values(by='Id', ascending=False)\n",
    ")"
   ]
  },
  {
   "cell_type": "code",
   "execution_count": 14,
   "metadata": {},
   "outputs": [
    {
     "name": "stdout",
     "output_type": "stream",
     "text": [
      "Number of duplicates in users: 0\n"
     ]
    }
   ],
   "source": [
    "print('Number of duplicates in users:', users.duplicated().sum())"
   ]
  },
  {
   "cell_type": "code",
   "execution_count": 15,
   "metadata": {},
   "outputs": [
    {
     "data": {
      "text/html": [
       "<div>\n",
       "<style scoped>\n",
       "    .dataframe tbody tr th:only-of-type {\n",
       "        vertical-align: middle;\n",
       "    }\n",
       "\n",
       "    .dataframe tbody tr th {\n",
       "        vertical-align: top;\n",
       "    }\n",
       "\n",
       "    .dataframe thead th {\n",
       "        text-align: right;\n",
       "    }\n",
       "</style>\n",
       "<table border=\"1\" class=\"dataframe\">\n",
       "  <thead>\n",
       "    <tr style=\"text-align: right;\">\n",
       "      <th></th>\n",
       "      <th>index</th>\n",
       "      <th>Id</th>\n",
       "    </tr>\n",
       "  </thead>\n",
       "  <tbody>\n",
       "    <tr>\n",
       "      <th>0</th>\n",
       "      <td>423497</td>\n",
       "      <td>1</td>\n",
       "    </tr>\n",
       "    <tr>\n",
       "      <th>28149</th>\n",
       "      <td>423545</td>\n",
       "      <td>1</td>\n",
       "    </tr>\n",
       "    <tr>\n",
       "      <th>28151</th>\n",
       "      <td>423523</td>\n",
       "      <td>1</td>\n",
       "    </tr>\n",
       "    <tr>\n",
       "      <th>28152</th>\n",
       "      <td>423519</td>\n",
       "      <td>1</td>\n",
       "    </tr>\n",
       "    <tr>\n",
       "      <th>28153</th>\n",
       "      <td>423508</td>\n",
       "      <td>1</td>\n",
       "    </tr>\n",
       "    <tr>\n",
       "      <th>...</th>\n",
       "      <td>...</td>\n",
       "      <td>...</td>\n",
       "    </tr>\n",
       "    <tr>\n",
       "      <th>14079</th>\n",
       "      <td>438737</td>\n",
       "      <td>1</td>\n",
       "    </tr>\n",
       "    <tr>\n",
       "      <th>14080</th>\n",
       "      <td>438738</td>\n",
       "      <td>1</td>\n",
       "    </tr>\n",
       "    <tr>\n",
       "      <th>14081</th>\n",
       "      <td>438739</td>\n",
       "      <td>1</td>\n",
       "    </tr>\n",
       "    <tr>\n",
       "      <th>14082</th>\n",
       "      <td>438740</td>\n",
       "      <td>1</td>\n",
       "    </tr>\n",
       "    <tr>\n",
       "      <th>42233</th>\n",
       "      <td>438743</td>\n",
       "      <td>1</td>\n",
       "    </tr>\n",
       "  </tbody>\n",
       "</table>\n",
       "<p>42234 rows × 2 columns</p>\n",
       "</div>"
      ],
      "text/plain": [
       "        index  Id\n",
       "0      423497   1\n",
       "28149  423545   1\n",
       "28151  423523   1\n",
       "28152  423519   1\n",
       "28153  423508   1\n",
       "...       ...  ..\n",
       "14079  438737   1\n",
       "14080  438738   1\n",
       "14081  438739   1\n",
       "14082  438740   1\n",
       "42233  438743   1\n",
       "\n",
       "[42234 rows x 2 columns]"
      ]
     },
     "execution_count": 15,
     "metadata": {},
     "output_type": "execute_result"
    }
   ],
   "source": [
    "(posts['Id']\n",
    " .value_counts()\n",
    " .reset_index()\n",
    " .sort_values(by='Id', ascending=False)\n",
    ")"
   ]
  },
  {
   "cell_type": "code",
   "execution_count": 16,
   "metadata": {},
   "outputs": [
    {
     "name": "stdout",
     "output_type": "stream",
     "text": [
      "Number of duplicates in posts: 0\n"
     ]
    }
   ],
   "source": [
    "print('Number of duplicates in posts:', posts.duplicated().sum())"
   ]
  },
  {
   "cell_type": "markdown",
   "metadata": {},
   "source": [
    "## Review the Data\n",
    "\n",
    "We need to understand what data we have and how that data can be used to assist in the initiative of understanding how ChatData is used: \n",
    "- Is the data organised in a way that would lend itself to being manged in a relational database?\n",
    "- How would the different tables be connected?"
   ]
  },
  {
   "cell_type": "code",
   "execution_count": 17,
   "metadata": {},
   "outputs": [
    {
     "data": {
      "text/plain": [
       "Index(['Id', 'Reputation', 'CreationDate', 'DisplayName', 'LastAccessDate',\n",
       "       'WebsiteUrl', 'Location', 'AboutMe', 'Views', 'UpVotes', 'DownVotes',\n",
       "       'ProfileImageUrl', 'AccountId'],\n",
       "      dtype='object')"
      ]
     },
     "execution_count": 17,
     "metadata": {},
     "output_type": "execute_result"
    }
   ],
   "source": [
    "users.columns"
   ]
  },
  {
   "cell_type": "code",
   "execution_count": 18,
   "metadata": {},
   "outputs": [
    {
     "data": {
      "text/html": [
       "<div>\n",
       "<style scoped>\n",
       "    .dataframe tbody tr th:only-of-type {\n",
       "        vertical-align: middle;\n",
       "    }\n",
       "\n",
       "    .dataframe tbody tr th {\n",
       "        vertical-align: top;\n",
       "    }\n",
       "\n",
       "    .dataframe thead th {\n",
       "        text-align: right;\n",
       "    }\n",
       "</style>\n",
       "<table border=\"1\" class=\"dataframe\">\n",
       "  <thead>\n",
       "    <tr style=\"text-align: right;\">\n",
       "      <th></th>\n",
       "      <th>Id</th>\n",
       "      <th>Reputation</th>\n",
       "      <th>CreationDate</th>\n",
       "      <th>DisplayName</th>\n",
       "      <th>LastAccessDate</th>\n",
       "      <th>WebsiteUrl</th>\n",
       "      <th>Location</th>\n",
       "      <th>AboutMe</th>\n",
       "      <th>Views</th>\n",
       "      <th>UpVotes</th>\n",
       "      <th>DownVotes</th>\n",
       "      <th>ProfileImageUrl</th>\n",
       "      <th>AccountId</th>\n",
       "    </tr>\n",
       "  </thead>\n",
       "  <tbody>\n",
       "    <tr>\n",
       "      <th>0</th>\n",
       "      <td>157607</td>\n",
       "      <td>31</td>\n",
       "      <td>2017-04-17 14:50:42</td>\n",
       "      <td>user157607</td>\n",
       "      <td>2019-07-23 16:44:08</td>\n",
       "      <td>None</td>\n",
       "      <td>None</td>\n",
       "      <td>None</td>\n",
       "      <td>0</td>\n",
       "      <td>0</td>\n",
       "      <td>0</td>\n",
       "      <td>https://www.gravatar.com/avatar/2efb161849efa4...</td>\n",
       "      <td>10705183</td>\n",
       "    </tr>\n",
       "    <tr>\n",
       "      <th>1</th>\n",
       "      <td>157656</td>\n",
       "      <td>101</td>\n",
       "      <td>2017-04-17 20:08:20</td>\n",
       "      <td>user102859</td>\n",
       "      <td>2019-06-26 13:42:13</td>\n",
       "      <td>None</td>\n",
       "      <td>None</td>\n",
       "      <td>None</td>\n",
       "      <td>3</td>\n",
       "      <td>0</td>\n",
       "      <td>0</td>\n",
       "      <td>https://i.stack.imgur.com/eY4ka.jpg?s=128&amp;g=1</td>\n",
       "      <td>10567606</td>\n",
       "    </tr>\n",
       "    <tr>\n",
       "      <th>2</th>\n",
       "      <td>157704</td>\n",
       "      <td>133</td>\n",
       "      <td>2017-04-18 05:10:47</td>\n",
       "      <td>jupiar</td>\n",
       "      <td>2019-11-25 13:32:27</td>\n",
       "      <td>None</td>\n",
       "      <td>Shanghai, China</td>\n",
       "      <td>&lt;p&gt;Originally from the U.K, I have an Undergra...</td>\n",
       "      <td>1</td>\n",
       "      <td>1</td>\n",
       "      <td>0</td>\n",
       "      <td>https://www.gravatar.com/avatar/720e20205122c5...</td>\n",
       "      <td>9501631</td>\n",
       "    </tr>\n",
       "    <tr>\n",
       "      <th>3</th>\n",
       "      <td>157709</td>\n",
       "      <td>155</td>\n",
       "      <td>2017-04-18 06:39:18</td>\n",
       "      <td>farmer</td>\n",
       "      <td>2019-02-17 19:44:24</td>\n",
       "      <td>None</td>\n",
       "      <td>None</td>\n",
       "      <td>None</td>\n",
       "      <td>16</td>\n",
       "      <td>0</td>\n",
       "      <td>0</td>\n",
       "      <td>https://www.gravatar.com/avatar/0f8c4bde3d8f25...</td>\n",
       "      <td>10709837</td>\n",
       "    </tr>\n",
       "    <tr>\n",
       "      <th>4</th>\n",
       "      <td>157755</td>\n",
       "      <td>101</td>\n",
       "      <td>2017-04-18 12:56:17</td>\n",
       "      <td>Miki P</td>\n",
       "      <td>2019-08-12 17:02:21</td>\n",
       "      <td>None</td>\n",
       "      <td>None</td>\n",
       "      <td>None</td>\n",
       "      <td>1</td>\n",
       "      <td>9</td>\n",
       "      <td>0</td>\n",
       "      <td>https://www.gravatar.com/avatar/af088558cd81c5...</td>\n",
       "      <td>7969290</td>\n",
       "    </tr>\n",
       "  </tbody>\n",
       "</table>\n",
       "</div>"
      ],
      "text/plain": [
       "       Id  Reputation         CreationDate DisplayName       LastAccessDate  \\\n",
       "0  157607          31  2017-04-17 14:50:42  user157607  2019-07-23 16:44:08   \n",
       "1  157656         101  2017-04-17 20:08:20  user102859  2019-06-26 13:42:13   \n",
       "2  157704         133  2017-04-18 05:10:47      jupiar  2019-11-25 13:32:27   \n",
       "3  157709         155  2017-04-18 06:39:18      farmer  2019-02-17 19:44:24   \n",
       "4  157755         101  2017-04-18 12:56:17      Miki P  2019-08-12 17:02:21   \n",
       "\n",
       "  WebsiteUrl         Location  \\\n",
       "0       None             None   \n",
       "1       None             None   \n",
       "2       None  Shanghai, China   \n",
       "3       None             None   \n",
       "4       None             None   \n",
       "\n",
       "                                             AboutMe  Views  UpVotes  \\\n",
       "0                                               None      0        0   \n",
       "1                                               None      3        0   \n",
       "2  <p>Originally from the U.K, I have an Undergra...      1        1   \n",
       "3                                               None     16        0   \n",
       "4                                               None      1        9   \n",
       "\n",
       "   DownVotes                                    ProfileImageUrl  AccountId  \n",
       "0          0  https://www.gravatar.com/avatar/2efb161849efa4...   10705183  \n",
       "1          0      https://i.stack.imgur.com/eY4ka.jpg?s=128&g=1   10567606  \n",
       "2          0  https://www.gravatar.com/avatar/720e20205122c5...    9501631  \n",
       "3          0  https://www.gravatar.com/avatar/0f8c4bde3d8f25...   10709837  \n",
       "4          0  https://www.gravatar.com/avatar/af088558cd81c5...    7969290  "
      ]
     },
     "execution_count": 18,
     "metadata": {},
     "output_type": "execute_result"
    }
   ],
   "source": [
    "users.head()"
   ]
  },
  {
   "cell_type": "code",
   "execution_count": 19,
   "metadata": {},
   "outputs": [
    {
     "data": {
      "text/plain": [
       "Index(['Id', 'PostId', 'Score', 'Text', 'CreationDate', 'UserId'], dtype='object')"
      ]
     },
     "execution_count": 19,
     "metadata": {},
     "output_type": "execute_result"
    }
   ],
   "source": [
    "comments.columns"
   ]
  },
  {
   "cell_type": "code",
   "execution_count": 20,
   "metadata": {},
   "outputs": [
    {
     "data": {
      "text/html": [
       "<div>\n",
       "<style scoped>\n",
       "    .dataframe tbody tr th:only-of-type {\n",
       "        vertical-align: middle;\n",
       "    }\n",
       "\n",
       "    .dataframe tbody tr th {\n",
       "        vertical-align: top;\n",
       "    }\n",
       "\n",
       "    .dataframe thead th {\n",
       "        text-align: right;\n",
       "    }\n",
       "</style>\n",
       "<table border=\"1\" class=\"dataframe\">\n",
       "  <thead>\n",
       "    <tr style=\"text-align: right;\">\n",
       "      <th></th>\n",
       "      <th>Id</th>\n",
       "      <th>PostId</th>\n",
       "      <th>Score</th>\n",
       "      <th>Text</th>\n",
       "      <th>CreationDate</th>\n",
       "      <th>UserId</th>\n",
       "    </tr>\n",
       "  </thead>\n",
       "  <tbody>\n",
       "    <tr>\n",
       "      <th>0</th>\n",
       "      <td>723182</td>\n",
       "      <td>385124</td>\n",
       "      <td>0</td>\n",
       "      <td>@BenBolker I don't understand. The fit cannot ...</td>\n",
       "      <td>2019-01-01 00:06:39</td>\n",
       "      <td>78575</td>\n",
       "    </tr>\n",
       "    <tr>\n",
       "      <th>1</th>\n",
       "      <td>723183</td>\n",
       "      <td>385124</td>\n",
       "      <td>3</td>\n",
       "      <td>You can't add *less* than (`-min(y)`), but you...</td>\n",
       "      <td>2019-01-01 00:09:22</td>\n",
       "      <td>2126</td>\n",
       "    </tr>\n",
       "    <tr>\n",
       "      <th>2</th>\n",
       "      <td>723186</td>\n",
       "      <td>385137</td>\n",
       "      <td>0</td>\n",
       "      <td>nice. If you felt like doing the work it would...</td>\n",
       "      <td>2019-01-01 00:32:11</td>\n",
       "      <td>2126</td>\n",
       "    </tr>\n",
       "    <tr>\n",
       "      <th>3</th>\n",
       "      <td>723187</td>\n",
       "      <td>385137</td>\n",
       "      <td>0</td>\n",
       "      <td>i.e. `emdbook::curve3d(-sum(dnbinom(y,mu=mu,si...</td>\n",
       "      <td>2019-01-01 00:40:36</td>\n",
       "      <td>2126</td>\n",
       "    </tr>\n",
       "    <tr>\n",
       "      <th>4</th>\n",
       "      <td>723188</td>\n",
       "      <td>385134</td>\n",
       "      <td>0</td>\n",
       "      <td>Don't you mean \"so variance should be $\\sigma^...</td>\n",
       "      <td>2019-01-01 00:41:28</td>\n",
       "      <td>112141</td>\n",
       "    </tr>\n",
       "  </tbody>\n",
       "</table>\n",
       "</div>"
      ],
      "text/plain": [
       "       Id  PostId  Score                                               Text  \\\n",
       "0  723182  385124      0  @BenBolker I don't understand. The fit cannot ...   \n",
       "1  723183  385124      3  You can't add *less* than (`-min(y)`), but you...   \n",
       "2  723186  385137      0  nice. If you felt like doing the work it would...   \n",
       "3  723187  385137      0  i.e. `emdbook::curve3d(-sum(dnbinom(y,mu=mu,si...   \n",
       "4  723188  385134      0  Don't you mean \"so variance should be $\\sigma^...   \n",
       "\n",
       "          CreationDate  UserId  \n",
       "0  2019-01-01 00:06:39   78575  \n",
       "1  2019-01-01 00:09:22    2126  \n",
       "2  2019-01-01 00:32:11    2126  \n",
       "3  2019-01-01 00:40:36    2126  \n",
       "4  2019-01-01 00:41:28  112141  "
      ]
     },
     "execution_count": 20,
     "metadata": {},
     "output_type": "execute_result"
    }
   ],
   "source": [
    "comments.head()"
   ]
  },
  {
   "cell_type": "code",
   "execution_count": 21,
   "metadata": {},
   "outputs": [
    {
     "data": {
      "text/plain": [
       "Index(['Id', 'PostTypeId', 'AcceptedAnswerId', 'ParentId', 'CreationDate',\n",
       "       'Score', 'ViewCount', 'Body', 'OwnerUserId', 'OwnerDisplayName',\n",
       "       'LastEditorUserId', 'LastEditorDisplayName', 'LastEditDate',\n",
       "       'LastActivityDate', 'Title', 'Tags', 'AnswerCount', 'CommentCount',\n",
       "       'FavoriteCount', 'ClosedDate', 'CommunityOwnedDate'],\n",
       "      dtype='object')"
      ]
     },
     "execution_count": 21,
     "metadata": {},
     "output_type": "execute_result"
    }
   ],
   "source": [
    "posts.columns"
   ]
  },
  {
   "cell_type": "code",
   "execution_count": 22,
   "metadata": {},
   "outputs": [
    {
     "data": {
      "text/html": [
       "<div>\n",
       "<style scoped>\n",
       "    .dataframe tbody tr th:only-of-type {\n",
       "        vertical-align: middle;\n",
       "    }\n",
       "\n",
       "    .dataframe tbody tr th {\n",
       "        vertical-align: top;\n",
       "    }\n",
       "\n",
       "    .dataframe thead th {\n",
       "        text-align: right;\n",
       "    }\n",
       "</style>\n",
       "<table border=\"1\" class=\"dataframe\">\n",
       "  <thead>\n",
       "    <tr style=\"text-align: right;\">\n",
       "      <th></th>\n",
       "      <th>Id</th>\n",
       "      <th>PostTypeId</th>\n",
       "      <th>AcceptedAnswerId</th>\n",
       "      <th>ParentId</th>\n",
       "      <th>CreationDate</th>\n",
       "      <th>Score</th>\n",
       "      <th>ViewCount</th>\n",
       "      <th>Body</th>\n",
       "      <th>OwnerUserId</th>\n",
       "      <th>OwnerDisplayName</th>\n",
       "      <th>...</th>\n",
       "      <th>LastEditorDisplayName</th>\n",
       "      <th>LastEditDate</th>\n",
       "      <th>LastActivityDate</th>\n",
       "      <th>Title</th>\n",
       "      <th>Tags</th>\n",
       "      <th>AnswerCount</th>\n",
       "      <th>CommentCount</th>\n",
       "      <th>FavoriteCount</th>\n",
       "      <th>ClosedDate</th>\n",
       "      <th>CommunityOwnedDate</th>\n",
       "    </tr>\n",
       "  </thead>\n",
       "  <tbody>\n",
       "    <tr>\n",
       "      <th>0</th>\n",
       "      <td>423497</td>\n",
       "      <td>1</td>\n",
       "      <td>423511</td>\n",
       "      <td>0</td>\n",
       "      <td>2019-08-24 09:39:31</td>\n",
       "      <td>2</td>\n",
       "      <td>68</td>\n",
       "      <td>&lt;p&gt;From wikipedia &lt;a href=\"https://en.wikipedi...</td>\n",
       "      <td>64552</td>\n",
       "      <td>None</td>\n",
       "      <td>...</td>\n",
       "      <td>None</td>\n",
       "      <td>None</td>\n",
       "      <td>2019-08-24 11:38:54</td>\n",
       "      <td>When are biased estimators with lower MSE pref...</td>\n",
       "      <td>&lt;bias&gt;&lt;unbiased-estimator&gt;&lt;mse&gt;</td>\n",
       "      <td>1</td>\n",
       "      <td>0</td>\n",
       "      <td>1</td>\n",
       "      <td>2019-08-25 10:25:24</td>\n",
       "      <td>None</td>\n",
       "    </tr>\n",
       "    <tr>\n",
       "      <th>1</th>\n",
       "      <td>423498</td>\n",
       "      <td>1</td>\n",
       "      <td>0</td>\n",
       "      <td>0</td>\n",
       "      <td>2019-08-24 09:47:42</td>\n",
       "      <td>1</td>\n",
       "      <td>24</td>\n",
       "      <td>&lt;p&gt;I am currently doing local sensitivity anal...</td>\n",
       "      <td>87231</td>\n",
       "      <td>None</td>\n",
       "      <td>...</td>\n",
       "      <td>None</td>\n",
       "      <td>2019-09-06 12:52:32</td>\n",
       "      <td>2019-09-06 12:52:32</td>\n",
       "      <td>How to interpret the result from local sensiti...</td>\n",
       "      <td>&lt;sensitivity-analysis&gt;&lt;elasticity&gt;</td>\n",
       "      <td>1</td>\n",
       "      <td>0</td>\n",
       "      <td>0</td>\n",
       "      <td>None</td>\n",
       "      <td>None</td>\n",
       "    </tr>\n",
       "    <tr>\n",
       "      <th>2</th>\n",
       "      <td>423499</td>\n",
       "      <td>1</td>\n",
       "      <td>0</td>\n",
       "      <td>0</td>\n",
       "      <td>2019-08-24 09:48:26</td>\n",
       "      <td>1</td>\n",
       "      <td>56</td>\n",
       "      <td>&lt;p&gt;I'm an honours student in psychology doing ...</td>\n",
       "      <td>257207</td>\n",
       "      <td>None</td>\n",
       "      <td>...</td>\n",
       "      <td>None</td>\n",
       "      <td>None</td>\n",
       "      <td>2019-08-25 08:54:17</td>\n",
       "      <td>Power Analysis in G-Power - Mixed Model Anova</td>\n",
       "      <td>&lt;anova&gt;&lt;gpower&gt;</td>\n",
       "      <td>2</td>\n",
       "      <td>0</td>\n",
       "      <td>0</td>\n",
       "      <td>None</td>\n",
       "      <td>None</td>\n",
       "    </tr>\n",
       "    <tr>\n",
       "      <th>3</th>\n",
       "      <td>423500</td>\n",
       "      <td>2</td>\n",
       "      <td>0</td>\n",
       "      <td>215865</td>\n",
       "      <td>2019-08-24 09:57:01</td>\n",
       "      <td>0</td>\n",
       "      <td>0</td>\n",
       "      <td>&lt;p&gt;Maybe you can look this &lt;a href=\"https://me...</td>\n",
       "      <td>106606</td>\n",
       "      <td>None</td>\n",
       "      <td>...</td>\n",
       "      <td>None</td>\n",
       "      <td>None</td>\n",
       "      <td>2019-08-24 09:57:01</td>\n",
       "      <td>None</td>\n",
       "      <td>None</td>\n",
       "      <td>0</td>\n",
       "      <td>0</td>\n",
       "      <td>0</td>\n",
       "      <td>None</td>\n",
       "      <td>None</td>\n",
       "    </tr>\n",
       "    <tr>\n",
       "      <th>4</th>\n",
       "      <td>423502</td>\n",
       "      <td>2</td>\n",
       "      <td>0</td>\n",
       "      <td>423286</td>\n",
       "      <td>2019-08-24 10:44:52</td>\n",
       "      <td>3</td>\n",
       "      <td>0</td>\n",
       "      <td>&lt;blockquote&gt;\\n  &lt;p&gt;Q1) Is my approach valid?&lt;/...</td>\n",
       "      <td>220643</td>\n",
       "      <td>None</td>\n",
       "      <td>...</td>\n",
       "      <td>None</td>\n",
       "      <td>2019-08-24 12:13:46</td>\n",
       "      <td>2019-08-24 12:13:46</td>\n",
       "      <td>None</td>\n",
       "      <td>None</td>\n",
       "      <td>0</td>\n",
       "      <td>1</td>\n",
       "      <td>0</td>\n",
       "      <td>None</td>\n",
       "      <td>None</td>\n",
       "    </tr>\n",
       "  </tbody>\n",
       "</table>\n",
       "<p>5 rows × 21 columns</p>\n",
       "</div>"
      ],
      "text/plain": [
       "       Id  PostTypeId  AcceptedAnswerId  ParentId         CreationDate  Score  \\\n",
       "0  423497           1            423511         0  2019-08-24 09:39:31      2   \n",
       "1  423498           1                 0         0  2019-08-24 09:47:42      1   \n",
       "2  423499           1                 0         0  2019-08-24 09:48:26      1   \n",
       "3  423500           2                 0    215865  2019-08-24 09:57:01      0   \n",
       "4  423502           2                 0    423286  2019-08-24 10:44:52      3   \n",
       "\n",
       "   ViewCount                                               Body  OwnerUserId  \\\n",
       "0         68  <p>From wikipedia <a href=\"https://en.wikipedi...        64552   \n",
       "1         24  <p>I am currently doing local sensitivity anal...        87231   \n",
       "2         56  <p>I'm an honours student in psychology doing ...       257207   \n",
       "3          0  <p>Maybe you can look this <a href=\"https://me...       106606   \n",
       "4          0  <blockquote>\\n  <p>Q1) Is my approach valid?</...       220643   \n",
       "\n",
       "  OwnerDisplayName  ...  LastEditorDisplayName         LastEditDate  \\\n",
       "0             None  ...                   None                 None   \n",
       "1             None  ...                   None  2019-09-06 12:52:32   \n",
       "2             None  ...                   None                 None   \n",
       "3             None  ...                   None                 None   \n",
       "4             None  ...                   None  2019-08-24 12:13:46   \n",
       "\n",
       "      LastActivityDate                                              Title  \\\n",
       "0  2019-08-24 11:38:54  When are biased estimators with lower MSE pref...   \n",
       "1  2019-09-06 12:52:32  How to interpret the result from local sensiti...   \n",
       "2  2019-08-25 08:54:17      Power Analysis in G-Power - Mixed Model Anova   \n",
       "3  2019-08-24 09:57:01                                               None   \n",
       "4  2019-08-24 12:13:46                                               None   \n",
       "\n",
       "                                 Tags AnswerCount  CommentCount  \\\n",
       "0     <bias><unbiased-estimator><mse>           1             0   \n",
       "1  <sensitivity-analysis><elasticity>           1             0   \n",
       "2                     <anova><gpower>           2             0   \n",
       "3                                None           0             0   \n",
       "4                                None           0             1   \n",
       "\n",
       "   FavoriteCount           ClosedDate CommunityOwnedDate  \n",
       "0              1  2019-08-25 10:25:24               None  \n",
       "1              0                 None               None  \n",
       "2              0                 None               None  \n",
       "3              0                 None               None  \n",
       "4              0                 None               None  \n",
       "\n",
       "[5 rows x 21 columns]"
      ]
     },
     "execution_count": 22,
     "metadata": {},
     "output_type": "execute_result"
    }
   ],
   "source": [
    "posts.head()"
   ]
  },
  {
   "cell_type": "markdown",
   "metadata": {},
   "source": [
    "# Creating Tables with Referential Integrity"
   ]
  },
  {
   "cell_type": "markdown",
   "metadata": {},
   "source": [
    "When we loaded the csv files into Sqlite database tables."
   ]
  },
  {
   "cell_type": "code",
   "execution_count": 23,
   "metadata": {},
   "outputs": [
    {
     "name": "stdout",
     "output_type": "stream",
     "text": [
      " * sqlite:///chatdata.db\n",
      "Done.\n"
     ]
    },
    {
     "data": {
      "text/html": [
       "<table>\n",
       "    <tr>\n",
       "        <th>sql</th>\n",
       "    </tr>\n",
       "    <tr>\n",
       "        <td>CREATE TABLE &quot;comments&quot; (<br>&quot;Id&quot; INTEGER,<br>  &quot;PostId&quot; INTEGER,<br>  &quot;Score&quot; INTEGER,<br>  &quot;Text&quot; TEXT,<br>  &quot;CreationDate&quot; TEXT,<br>  &quot;UserId&quot; INTEGER<br>)</td>\n",
       "    </tr>\n",
       "    <tr>\n",
       "        <td>CREATE TABLE &quot;users&quot; (<br>&quot;Id&quot; INTEGER,<br>  &quot;Reputation&quot; INTEGER,<br>  &quot;CreationDate&quot; TEXT,<br>  &quot;DisplayName&quot; TEXT,<br>  &quot;LastAccessDate&quot; TEXT,<br>  &quot;WebsiteUrl&quot; TEXT,<br>  &quot;Location&quot; TEXT,<br>  &quot;AboutMe&quot; TEXT,<br>  &quot;Views&quot; INTEGER,<br>  &quot;UpVotes&quot; INTEGER,<br>  &quot;DownVotes&quot; INTEGER,<br>  &quot;ProfileImageUrl&quot; TEXT,<br>  &quot;AccountId&quot; INTEGER<br>)</td>\n",
       "    </tr>\n",
       "    <tr>\n",
       "        <td>CREATE TABLE &quot;posts&quot; (<br>&quot;Id&quot; INTEGER,<br>  &quot;PostTypeId&quot; INTEGER,<br>  &quot;AcceptedAnswerId&quot; INTEGER,<br>  &quot;ParentId&quot; INTEGER,<br>  &quot;CreationDate&quot; TEXT,<br>  &quot;Score&quot; INTEGER,<br>  &quot;ViewCount&quot; INTEGER,<br>  &quot;Body&quot; TEXT,<br>  &quot;OwnerUserId&quot; INTEGER,<br>  &quot;OwnerDisplayName&quot; TEXT,<br>  &quot;LastEditorUserId&quot; INTEGER,<br>  &quot;LastEditorDisplayName&quot; TEXT,<br>  &quot;LastEditDate&quot; TEXT,<br>  &quot;LastActivityDate&quot; TEXT,<br>  &quot;Title&quot; TEXT,<br>  &quot;Tags&quot; TEXT,<br>  &quot;AnswerCount&quot; INTEGER,<br>  &quot;CommentCount&quot; INTEGER,<br>  &quot;FavoriteCount&quot; INTEGER,<br>  &quot;ClosedDate&quot; TEXT,<br>  &quot;CommunityOwnedDate&quot; TEXT<br>)</td>\n",
       "    </tr>\n",
       "</table>"
      ],
      "text/plain": [
       "[('CREATE TABLE \"comments\" (\\n\"Id\" INTEGER,\\n  \"PostId\" INTEGER,\\n  \"Score\" INTEGER,\\n  \"Text\" TEXT,\\n  \"CreationDate\" TEXT,\\n  \"UserId\" INTEGER\\n)',),\n",
       " ('CREATE TABLE \"users\" (\\n\"Id\" INTEGER,\\n  \"Reputation\" INTEGER,\\n  \"CreationDate\" TEXT,\\n  \"DisplayName\" TEXT,\\n  \"LastAccessDate\" TEXT,\\n  \"WebsiteUr ... (17 characters truncated) ... tion\" TEXT,\\n  \"AboutMe\" TEXT,\\n  \"Views\" INTEGER,\\n  \"UpVotes\" INTEGER,\\n  \"DownVotes\" INTEGER,\\n  \"ProfileImageUrl\" TEXT,\\n  \"AccountId\" INTEGER\\n)',),\n",
       " ('CREATE TABLE \"posts\" (\\n\"Id\" INTEGER,\\n  \"PostTypeId\" INTEGER,\\n  \"AcceptedAnswerId\" INTEGER,\\n  \"ParentId\" INTEGER,\\n  \"CreationDate\" TEXT,\\n  \"Scor ... (240 characters truncated) ...   \"Tags\" TEXT,\\n  \"AnswerCount\" INTEGER,\\n  \"CommentCount\" INTEGER,\\n  \"FavoriteCount\" INTEGER,\\n  \"ClosedDate\" TEXT,\\n  \"CommunityOwnedDate\" TEXT\\n)',)]"
      ]
     },
     "execution_count": 23,
     "metadata": {},
     "output_type": "execute_result"
    }
   ],
   "source": [
    "%%sql\n",
    "select sql from sqlite_master"
   ]
  },
  {
   "cell_type": "markdown",
   "metadata": {},
   "source": [
    "The above results show the `CREATE TABLE` statements that could be used by Sqlite to recreate the tables with the exact same structure.\n",
    "\n",
    "The problem with the CREATE TABLE statements above is that they don't enforce **referential integrity**.  In other words, they don't ensure that every UserId and PostId in the comments table refers to an actual UserId and PostId in the users and posts tables.  At the moment. we can insert any old number here, and even have multiple users with the same Id!  One of the advantages of working with relational databases is that they can enforce the correct uniqueness and relationships in the data, but at the moment we are not using that feature.  So let's fix that...\n",
    "\n",
    "First, let's drop the original tables:\n"
   ]
  },
  {
   "cell_type": "code",
   "execution_count": 24,
   "metadata": {},
   "outputs": [
    {
     "name": "stdout",
     "output_type": "stream",
     "text": [
      " * sqlite:///chatdata.db\n",
      "Done.\n",
      "Done.\n",
      "Done.\n"
     ]
    },
    {
     "data": {
      "text/plain": [
       "[]"
      ]
     },
     "execution_count": 24,
     "metadata": {},
     "output_type": "execute_result"
    }
   ],
   "source": [
    "%%sql\n",
    "DROP TABLE comments;\n",
    "DROP TABLE users;\n",
    "DROP TABLE posts;"
   ]
  },
  {
   "cell_type": "markdown",
   "metadata": {},
   "source": [
    "Prove that this worked by selecting the names of the tables back.  We should have no tables:"
   ]
  },
  {
   "cell_type": "code",
   "execution_count": 25,
   "metadata": {},
   "outputs": [
    {
     "name": "stdout",
     "output_type": "stream",
     "text": [
      " * sqlite:///chatdata.db\n",
      "Done.\n"
     ]
    },
    {
     "data": {
      "text/html": [
       "<table>\n",
       "    <tr>\n",
       "        <th>name</th>\n",
       "    </tr>\n",
       "</table>"
      ],
      "text/plain": [
       "[]"
      ]
     },
     "execution_count": 25,
     "metadata": {},
     "output_type": "execute_result"
    }
   ],
   "source": [
    "%%sql\n",
    "SELECT name FROM sqlite_master WHERE type='table'\n",
    "    ORDER BY name"
   ]
  },
  {
   "cell_type": "markdown",
   "metadata": {},
   "source": [
    "In Sqlite we need to enable the enforcement of foreign key constraints:"
   ]
  },
  {
   "cell_type": "code",
   "execution_count": 26,
   "metadata": {},
   "outputs": [
    {
     "name": "stdout",
     "output_type": "stream",
     "text": [
      " * sqlite:///chatdata.db\n",
      "Done.\n"
     ]
    },
    {
     "data": {
      "text/plain": [
       "[]"
      ]
     },
     "execution_count": 26,
     "metadata": {},
     "output_type": "execute_result"
    }
   ],
   "source": [
    "%%sql\n",
    "PRAGMA foreign_keys=ON;"
   ]
  },
  {
   "cell_type": "markdown",
   "metadata": {},
   "source": [
    "Now recreate the users table with a **primary key constraint** by copying the CREATE TABLE statement from above and adding the NOT NULL PRIMARY KEY clause to the Id:"
   ]
  },
  {
   "cell_type": "code",
   "execution_count": 27,
   "metadata": {},
   "outputs": [
    {
     "name": "stdout",
     "output_type": "stream",
     "text": [
      " * sqlite:///chatdata.db\n",
      "Done.\n"
     ]
    },
    {
     "data": {
      "text/plain": [
       "[]"
      ]
     },
     "execution_count": 27,
     "metadata": {},
     "output_type": "execute_result"
    }
   ],
   "source": [
    "%%sql\n",
    "CREATE TABLE \"users\" (\n",
    "\"Id\" INTEGER NOT NULL PRIMARY KEY,\n",
    "\"Reputation\" INTEGER,\n",
    "\"CreationDate\" TEXT,\n",
    "\"DisplayName\" TEXT,\n",
    "\"LastAccessDate\" TEXT,\n",
    "\"WebsiteUrl\" TEXT,\n",
    "\"Location\" TEXT,\n",
    "\"AboutMe\" TEXT,\n",
    "\"Views\" INTEGER,\n",
    "\"UpVotes\" INTEGER,\n",
    "\"DownVotes\" INTEGER,\n",
    "\"ProfileImageUrl\" TEXT,\n",
    "\"AccountId\" INTEGER\n",
    ");\n"
   ]
  },
  {
   "cell_type": "markdown",
   "metadata": {},
   "source": [
    "Now do the same for the posts table:"
   ]
  },
  {
   "cell_type": "code",
   "execution_count": 28,
   "metadata": {},
   "outputs": [
    {
     "name": "stdout",
     "output_type": "stream",
     "text": [
      " * sqlite:///chatdata.db\n",
      "Done.\n"
     ]
    },
    {
     "data": {
      "text/plain": [
       "[]"
      ]
     },
     "execution_count": 28,
     "metadata": {},
     "output_type": "execute_result"
    }
   ],
   "source": [
    "%%sql\n",
    "CREATE TABLE \"posts\" (\n",
    "\"Id\" INTEGER NOT NULL PRIMARY KEY,\n",
    "\"PostTypeId\" INTEGER,\n",
    "\"AcceptedAnswerId\" INTEGER,\n",
    "\"ParentId\" INTEGER,\n",
    "\"CreationDate\" TEXT,\n",
    "\"Score\" INTEGER,\n",
    "\"ViewCount\" INTEGER,\n",
    "\"Body\" TEXT,\n",
    "\"OwnerUserId\" INTEGER,\n",
    "\"OwnerDisplayName\" TEXT,\n",
    "\"LastEditorUserId\" INTEGER,\n",
    "\"LastEditorDisplayName\" TEXT,\n",
    "\"LastEditDate\" TEXT,\n",
    "\"LastActivityDate\" TEXT,\n",
    "\"Title\" TEXT,\n",
    "\"Tags\" TEXT,\n",
    "\"AnswerCount\" INTEGER,\n",
    "\"CommentCount\" INTEGER,\n",
    "\"FavoriteCount\" INTEGER,\n",
    "\"ClosedDate\" TEXT,\n",
    "\"CommunityOwnedDate\" TEXT\n",
    ");\n"
   ]
  },
  {
   "cell_type": "markdown",
   "metadata": {},
   "source": [
    "Now for the comments table.  We need to add the primary key constraint on the id here as we did for users and posts, but we also need to add FOREIGN KEY constraints on the UserId and PostId."
   ]
  },
  {
   "cell_type": "code",
   "execution_count": 29,
   "metadata": {},
   "outputs": [
    {
     "name": "stdout",
     "output_type": "stream",
     "text": [
      " * sqlite:///chatdata.db\n",
      "Done.\n"
     ]
    },
    {
     "data": {
      "text/plain": [
       "[]"
      ]
     },
     "execution_count": 29,
     "metadata": {},
     "output_type": "execute_result"
    }
   ],
   "source": [
    "%%sql\n",
    "CREATE TABLE \"comments\" (\n",
    "\"Id\" INTEGER,\n",
    "\"PostId\" INTEGER,\n",
    "\"Score\" INTEGER,\n",
    "\"Text\"  TEXT,\n",
    "\"CreationDate\" TEXT,\n",
    "\"UserId\" INTEGER,\n",
    "FOREIGN KEY(PostId) REFERENCES posts(Id),\n",
    "FOREIGN KEY(UserId) REFERENCES users(Id)\n",
    ");\n"
   ]
  },
  {
   "cell_type": "markdown",
   "metadata": {},
   "source": [
    "Now we can re-insert the data into these constrained tables.  First users:"
   ]
  },
  {
   "cell_type": "code",
   "execution_count": 30,
   "metadata": {},
   "outputs": [],
   "source": [
    "# Insert data into the new users table\n",
    "users.to_sql('users', con, if_exists='append', index=False)"
   ]
  },
  {
   "cell_type": "markdown",
   "metadata": {},
   "source": [
    "Now posts:"
   ]
  },
  {
   "cell_type": "code",
   "execution_count": 31,
   "metadata": {},
   "outputs": [],
   "source": [
    "# Insert data into the new posts table\n",
    "posts.to_sql('posts', con, if_exists='append', index=False)"
   ]
  },
  {
   "cell_type": "markdown",
   "metadata": {},
   "source": [
    "Finally comments, which references the users and posts tables:"
   ]
  },
  {
   "cell_type": "code",
   "execution_count": 32,
   "metadata": {},
   "outputs": [],
   "source": [
    "# Insert data into the new comments table\n",
    "comments.to_sql('comments', con, if_exists='append', index=False)"
   ]
  },
  {
   "cell_type": "markdown",
   "metadata": {},
   "source": [
    "Now check that we have the 3 new table definitions in Sqlite:"
   ]
  },
  {
   "cell_type": "code",
   "execution_count": 33,
   "metadata": {},
   "outputs": [
    {
     "name": "stdout",
     "output_type": "stream",
     "text": [
      " * sqlite:///chatdata.db\n",
      "Done.\n"
     ]
    },
    {
     "data": {
      "text/html": [
       "<table>\n",
       "    <tr>\n",
       "        <th>name</th>\n",
       "    </tr>\n",
       "    <tr>\n",
       "        <td>comments</td>\n",
       "    </tr>\n",
       "    <tr>\n",
       "        <td>posts</td>\n",
       "    </tr>\n",
       "    <tr>\n",
       "        <td>users</td>\n",
       "    </tr>\n",
       "</table>"
      ],
      "text/plain": [
       "[('comments',), ('posts',), ('users',)]"
      ]
     },
     "execution_count": 33,
     "metadata": {},
     "output_type": "execute_result"
    }
   ],
   "source": [
    "%%sql\n",
    "SELECT name FROM sqlite_master WHERE type='table'\n",
    "    ORDER BY name"
   ]
  },
  {
   "cell_type": "markdown",
   "metadata": {},
   "source": [
    "We now have all the data in tables in Sqlite and the tables will enforce the referential integrity."
   ]
  },
  {
   "cell_type": "markdown",
   "metadata": {},
   "source": [
    "# Answering questions\n"
   ]
  },
  {
   "cell_type": "markdown",
   "metadata": {},
   "source": [
    "**Which 5 users have viewed the most times and what is the sum of those views per user?**\n",
    "\n",
    "## Prepare the Sqlite query\n",
    "\n",
    "First, let's write the query:"
   ]
  },
  {
   "cell_type": "code",
   "execution_count": 34,
   "metadata": {},
   "outputs": [
    {
     "data": {
      "text/html": [
       "<div>\n",
       "<style scoped>\n",
       "    .dataframe tbody tr th:only-of-type {\n",
       "        vertical-align: middle;\n",
       "    }\n",
       "\n",
       "    .dataframe tbody tr th {\n",
       "        vertical-align: top;\n",
       "    }\n",
       "\n",
       "    .dataframe thead th {\n",
       "        text-align: right;\n",
       "    }\n",
       "</style>\n",
       "<table border=\"1\" class=\"dataframe\">\n",
       "  <thead>\n",
       "    <tr style=\"text-align: right;\">\n",
       "      <th></th>\n",
       "      <th>Id</th>\n",
       "      <th>TotalViews</th>\n",
       "    </tr>\n",
       "  </thead>\n",
       "  <tbody>\n",
       "    <tr>\n",
       "      <th>0</th>\n",
       "      <td>919</td>\n",
       "      <td>85180</td>\n",
       "    </tr>\n",
       "    <tr>\n",
       "      <th>1</th>\n",
       "      <td>4253</td>\n",
       "      <td>35119</td>\n",
       "    </tr>\n",
       "    <tr>\n",
       "      <th>2</th>\n",
       "      <td>805</td>\n",
       "      <td>34637</td>\n",
       "    </tr>\n",
       "    <tr>\n",
       "      <th>3</th>\n",
       "      <td>7290</td>\n",
       "      <td>32639</td>\n",
       "    </tr>\n",
       "    <tr>\n",
       "      <th>4</th>\n",
       "      <td>3277</td>\n",
       "      <td>29255</td>\n",
       "    </tr>\n",
       "  </tbody>\n",
       "</table>\n",
       "</div>"
      ],
      "text/plain": [
       "     Id  TotalViews\n",
       "0   919       85180\n",
       "1  4253       35119\n",
       "2   805       34637\n",
       "3  7290       32639\n",
       "4  3277       29255"
      ]
     },
     "execution_count": 34,
     "metadata": {},
     "output_type": "execute_result"
    }
   ],
   "source": [
    "sql = \"\"\"\n",
    "SELECT Id, SUM(Views) AS TotalViews\n",
    "    FROM Users\n",
    "        GROUP BY Id\n",
    "            ORDER BY TotalViews DESC\n",
    "                LIMIT 5\n",
    "                \"\"\"\n",
    "result = pd.read_sql(sql, con) # con is the connection to the database\n",
    "result"
   ]
  },
  {
   "cell_type": "markdown",
   "metadata": {},
   "source": [
    "## Test the query\n",
    "Prove the query worked by performing the same query in Pandas:"
   ]
  },
  {
   "cell_type": "code",
   "execution_count": 35,
   "metadata": {},
   "outputs": [
    {
     "data": {
      "text/plain": [
       "Id\n",
       "919     85180\n",
       "4253    35119\n",
       "805     34637\n",
       "7290    32639\n",
       "3277    29255\n",
       "Name: Views, dtype: int64"
      ]
     },
     "execution_count": 35,
     "metadata": {},
     "output_type": "execute_result"
    }
   ],
   "source": [
    "results = users.groupby(['Id']).sum().sort_values('Views', ascending = False)[:5]\n",
    "results['Views']"
   ]
  },
  {
   "cell_type": "markdown",
   "metadata": {},
   "source": [
    "## Insert the query into the `queries` table\n",
    "Now we need to put this query into the `queries` table in sqlite. We want these queries to be accessible to everybody that should have access to them. We do not want people writing and rewriting the same queires over and over again. The easiest thing to do is create a dictionary with the values and insert these into the queries table.  Note that the values are provided as lists as we are inserting a list of values (i.e. a number of rows) into the table.  In this case the number of rows is 1, so we have lists of 1 item.\n",
    "\n",
    "So here, we have a column called 'task' with a list of values, a column called 'action' with a list of values, etc."
   ]
  },
  {
   "cell_type": "code",
   "execution_count": 36,
   "metadata": {},
   "outputs": [
    {
     "data": {
      "text/plain": [
       "{'task': ['Single Table Queries'],\n",
       " 'action': ['Which 5 users have viewed the most times and what is the sum of those views per user?'],\n",
       " 'query': ['\\nSELECT Id, SUM(Views) AS TotalViews\\n    FROM Users\\n        GROUP BY Id\\n            ORDER BY TotalViews DESC\\n                LIMIT 5\\n                ']}"
      ]
     },
     "execution_count": 36,
     "metadata": {},
     "output_type": "execute_result"
    }
   ],
   "source": [
    "query_dict = {\n",
    "              'task': ['Single Table Queries'],\n",
    "              'action': ['Which 5 users have viewed the most times and what is the sum of those views per user?'],\n",
    "              'query': [sql]\n",
    "             }\n",
    "query_dict"
   ]
  },
  {
   "cell_type": "markdown",
   "metadata": {},
   "source": [
    "Now that having the data structure (query_dict) containing the data, we create a pandas dataframe that holds those values:"
   ]
  },
  {
   "cell_type": "code",
   "execution_count": 37,
   "metadata": {},
   "outputs": [
    {
     "data": {
      "text/html": [
       "<div>\n",
       "<style scoped>\n",
       "    .dataframe tbody tr th:only-of-type {\n",
       "        vertical-align: middle;\n",
       "    }\n",
       "\n",
       "    .dataframe tbody tr th {\n",
       "        vertical-align: top;\n",
       "    }\n",
       "\n",
       "    .dataframe thead th {\n",
       "        text-align: right;\n",
       "    }\n",
       "</style>\n",
       "<table border=\"1\" class=\"dataframe\">\n",
       "  <thead>\n",
       "    <tr style=\"text-align: right;\">\n",
       "      <th></th>\n",
       "      <th>task</th>\n",
       "      <th>action</th>\n",
       "      <th>query</th>\n",
       "    </tr>\n",
       "  </thead>\n",
       "  <tbody>\n",
       "    <tr>\n",
       "      <th>0</th>\n",
       "      <td>Single Table Queries</td>\n",
       "      <td>Which 5 users have viewed the most times and w...</td>\n",
       "      <td>\\nSELECT Id, SUM(Views) AS TotalViews\\n    FRO...</td>\n",
       "    </tr>\n",
       "  </tbody>\n",
       "</table>\n",
       "</div>"
      ],
      "text/plain": [
       "                   task                                             action  \\\n",
       "0  Single Table Queries  Which 5 users have viewed the most times and w...   \n",
       "\n",
       "                                               query  \n",
       "0  \\nSELECT Id, SUM(Views) AS TotalViews\\n    FRO...  "
      ]
     },
     "execution_count": 37,
     "metadata": {},
     "output_type": "execute_result"
    }
   ],
   "source": [
    "queries = pd.DataFrame(query_dict)\n",
    "queries"
   ]
  },
  {
   "cell_type": "markdown",
   "metadata": {},
   "source": [
    "Now load that pandas dataframe (queries) into the sqlite table called queries."
   ]
  },
  {
   "cell_type": "code",
   "execution_count": 38,
   "metadata": {},
   "outputs": [
    {
     "data": {
      "text/html": [
       "<div>\n",
       "<style scoped>\n",
       "    .dataframe tbody tr th:only-of-type {\n",
       "        vertical-align: middle;\n",
       "    }\n",
       "\n",
       "    .dataframe tbody tr th {\n",
       "        vertical-align: top;\n",
       "    }\n",
       "\n",
       "    .dataframe thead th {\n",
       "        text-align: right;\n",
       "    }\n",
       "</style>\n",
       "<table border=\"1\" class=\"dataframe\">\n",
       "  <thead>\n",
       "    <tr style=\"text-align: right;\">\n",
       "      <th></th>\n",
       "      <th>task</th>\n",
       "      <th>action</th>\n",
       "      <th>query</th>\n",
       "    </tr>\n",
       "  </thead>\n",
       "  <tbody>\n",
       "    <tr>\n",
       "      <th>0</th>\n",
       "      <td>Single Table Queries</td>\n",
       "      <td>Which 5 users have viewed the most times and w...</td>\n",
       "      <td>\\nSELECT Id, SUM(Views) AS TotalViews\\n    FRO...</td>\n",
       "    </tr>\n",
       "  </tbody>\n",
       "</table>\n",
       "</div>"
      ],
      "text/plain": [
       "                   task                                             action  \\\n",
       "0  Single Table Queries  Which 5 users have viewed the most times and w...   \n",
       "\n",
       "                                               query  \n",
       "0  \\nSELECT Id, SUM(Views) AS TotalViews\\n    FRO...  "
      ]
     },
     "execution_count": 38,
     "metadata": {},
     "output_type": "execute_result"
    }
   ],
   "source": [
    "# load query into sqlite\n",
    "queries.to_sql('queries', con, if_exists='append', index=False)\n",
    "\n",
    "# read back in to prove that it worked\n",
    "sql = 'SELECT * FROM queries'\n",
    "queries = pd.read_sql(sql, con)\n",
    "queries.head()"
   ]
  },
  {
   "cell_type": "markdown",
   "metadata": {},
   "source": [
    "# Insert the CREATE TABLE Statements into the `queries` Table\n",
    "\n",
    "Now that we understand how to populate the `queries` table, let's insert the CREATE TABLE statements into it.  First let's define a function to help us insert into the queries table:\n"
   ]
  },
  {
   "cell_type": "code",
   "execution_count": 39,
   "metadata": {},
   "outputs": [],
   "source": [
    "# Define a function that will insert into the queries table\n",
    "def store_query(task, action, query):\n",
    "    query_dict = {\n",
    "                  'task': [task],\n",
    "                  'action': [action],\n",
    "                  'query': [query]\n",
    "                 }\n",
    "\n",
    "    # put query into the query_dict\n",
    "    queries = pd.DataFrame(query_dict)\n",
    "\n",
    "    # load query into sqlite\n",
    "    queries.to_sql('queries', con, if_exists='append', index=False)    "
   ]
  },
  {
   "cell_type": "markdown",
   "metadata": {},
   "source": [
    "Now we can specify the queries and call the above function to store them."
   ]
  },
  {
   "cell_type": "code",
   "execution_count": 40,
   "metadata": {},
   "outputs": [],
   "source": [
    "sql = \"\"\"\n",
    "    CREATE TABLE \"comments\" (\n",
    "    \"Id\" INTEGER,\n",
    "    \"PostId\" INTEGER,\n",
    "    \"Score\" INTEGER,\n",
    "    \"Text\" TEXT,\n",
    "    \"CreationDate\" TEXT,\n",
    "    \"UserId\" INTEGER,\n",
    "    FOREIGN KEY(PostId) REFERENCES posts(Id),\n",
    "    FOREIGN KEY(UserId) REFERENCES users(Id)\n",
    "    )\n",
    "    \"\"\"\n",
    "store_query(\"Task 1\", \"Create table comments\", sql)"
   ]
  },
  {
   "cell_type": "markdown",
   "metadata": {},
   "source": [
    "Let's prove it works by selecting back from the queries table:"
   ]
  },
  {
   "cell_type": "code",
   "execution_count": 41,
   "metadata": {},
   "outputs": [
    {
     "name": "stdout",
     "output_type": "stream",
     "text": [
      " * sqlite:///chatdata.db\n",
      "Done.\n"
     ]
    },
    {
     "data": {
      "text/html": [
       "<table>\n",
       "    <tr>\n",
       "        <th>task</th>\n",
       "        <th>action</th>\n",
       "        <th>query</th>\n",
       "    </tr>\n",
       "    <tr>\n",
       "        <td>Single Table Queries</td>\n",
       "        <td>Which 5 users have viewed the most times and what is the sum of those views per user?</td>\n",
       "        <td><br>SELECT Id, SUM(Views) AS TotalViews<br>    FROM Users<br>        GROUP BY Id<br>            ORDER BY TotalViews DESC<br>                LIMIT 5<br>                </td>\n",
       "    </tr>\n",
       "    <tr>\n",
       "        <td>Task 1</td>\n",
       "        <td>Create table comments</td>\n",
       "        <td><br>    CREATE TABLE &quot;comments&quot; (<br>    &quot;Id&quot; INTEGER,<br>    &quot;PostId&quot; INTEGER,<br>    &quot;Score&quot; INTEGER,<br>    &quot;Text&quot; TEXT,<br>    &quot;CreationDate&quot; TEXT,<br>    &quot;UserId&quot; INTEGER,<br>    FOREIGN KEY(PostId) REFERENCES posts(Id),<br>    FOREIGN KEY(UserId) REFERENCES users(Id)<br>    )<br>    </td>\n",
       "    </tr>\n",
       "</table>"
      ],
      "text/plain": [
       "[('Single Table Queries', 'Which 5 users have viewed the most times and what is the sum of those views per user?', '\\nSELECT Id, SUM(Views) AS TotalViews\\n    FROM Users\\n        GROUP BY Id\\n            ORDER BY TotalViews DESC\\n                LIMIT 5\\n                '),\n",
       " ('Task 1', 'Create table comments', '\\n    CREATE TABLE \"comments\" (\\n    \"Id\" INTEGER,\\n    \"PostId\" INTEGER,\\n    \"Score\" INTEGER,\\n    \"Text\" TEXT,\\n    \"CreationDate\" TEXT,\\n    \"UserId\" INTEGER,\\n    FOREIGN KEY(PostId) REFERENCES posts(Id),\\n    FOREIGN KEY(UserId) REFERENCES users(Id)\\n    )\\n    ')]"
      ]
     },
     "execution_count": 41,
     "metadata": {},
     "output_type": "execute_result"
    }
   ],
   "source": [
    "# Prove it works\n",
    "%sql SELECT * FROM queries"
   ]
  },
  {
   "cell_type": "markdown",
   "metadata": {},
   "source": [
    "## Insert the other CREATE TABLE statements into the `queries` table.\n"
   ]
  },
  {
   "cell_type": "code",
   "execution_count": 42,
   "metadata": {},
   "outputs": [],
   "source": [
    "sql = \"\"\"\n",
    "    CREATE TABLE \"users\" (\n",
    "    \"Id\" INTEGER NOT NULL PRIMARY KEY,\n",
    "    \"Reputation\" INTEGER,\n",
    "    \"CreationDate\" TEXT,\n",
    "    \"DisplayName\" TEXT,\n",
    "    \"LastAccessDate\" TEXT,\n",
    "    \"WebsiteUrl\" TEXT,\n",
    "    \"Location\" TEXT,\n",
    "    \"AboutMe\" TEXT,\n",
    "    \"Views\" INTEGER,\n",
    "    \"UpVotes\" INTEGER,\n",
    "    \"DownVotes\" INTEGER,\n",
    "    \"ProfileImageUrl\" TEXT,\n",
    "    \"AccountId\" INTEGER\n",
    "    )\n",
    "    \"\"\"\n",
    "store_query(\"Task 1\", \"Create table users\", sql)"
   ]
  },
  {
   "cell_type": "code",
   "execution_count": 43,
   "metadata": {},
   "outputs": [],
   "source": [
    "sql = \"\"\"\n",
    "    CREATE TABLE \"posts\" (\n",
    "    \"Id\" INTEGER NOT NULL PRIMARY KEY,\n",
    "    \"PostTypeId\" INTEGER,\n",
    "    \"AcceptedAnswerId\" INTEGER,\n",
    "    \"ParentId\" INTEGER,\n",
    "    \"CreationDate\" TEXT,\n",
    "    \"Score\" INTEGER,\n",
    "    \"ViewCount\" INTEGER,\n",
    "    \"Body\" TEXT,\n",
    "    \"OwnerUserId\" INTEGER,\n",
    "    \"OwnerDisplayName\" TEXT,\n",
    "    \"LastEditorUserId\" INTEGER,\n",
    "    \"LastEditorDisplayName\" TEXT,\n",
    "    \"LastEditDate\" TEXT,\n",
    "    \"LastActivityDate\" TEXT,\n",
    "    \"Title\" TEXT,\n",
    "    \"Tags\" TEXT,\n",
    "    \"AnswerCount\" INTEGER,\n",
    "    \"CommentCount\" INTEGER,\n",
    "    \"FavoriteCount\" INTEGER,\n",
    "    \"ClosedDate\" TEXT,\n",
    "    \"CommunityOwnedDate\" TEXT\n",
    "    )\n",
    "    \"\"\"\n",
    "store_query(\"Task 1\", \"Create table posts\", sql)"
   ]
  },
  {
   "cell_type": "code",
   "execution_count": 44,
   "metadata": {},
   "outputs": [
    {
     "name": "stdout",
     "output_type": "stream",
     "text": [
      " * sqlite:///chatdata.db\n",
      "Done.\n"
     ]
    },
    {
     "data": {
      "text/html": [
       "<table>\n",
       "    <tr>\n",
       "        <th>task</th>\n",
       "        <th>action</th>\n",
       "        <th>query</th>\n",
       "    </tr>\n",
       "    <tr>\n",
       "        <td>Single Table Queries</td>\n",
       "        <td>Which 5 users have viewed the most times and what is the sum of those views per user?</td>\n",
       "        <td><br>SELECT Id, SUM(Views) AS TotalViews<br>    FROM Users<br>        GROUP BY Id<br>            ORDER BY TotalViews DESC<br>                LIMIT 5<br>                </td>\n",
       "    </tr>\n",
       "    <tr>\n",
       "        <td>Task 1</td>\n",
       "        <td>Create table comments</td>\n",
       "        <td><br>    CREATE TABLE &quot;comments&quot; (<br>    &quot;Id&quot; INTEGER,<br>    &quot;PostId&quot; INTEGER,<br>    &quot;Score&quot; INTEGER,<br>    &quot;Text&quot; TEXT,<br>    &quot;CreationDate&quot; TEXT,<br>    &quot;UserId&quot; INTEGER,<br>    FOREIGN KEY(PostId) REFERENCES posts(Id),<br>    FOREIGN KEY(UserId) REFERENCES users(Id)<br>    )<br>    </td>\n",
       "    </tr>\n",
       "    <tr>\n",
       "        <td>Task 1</td>\n",
       "        <td>Create table users</td>\n",
       "        <td><br>    CREATE TABLE &quot;users&quot; (<br>    &quot;Id&quot; INTEGER NOT NULL PRIMARY KEY,<br>    &quot;Reputation&quot; INTEGER,<br>    &quot;CreationDate&quot; TEXT,<br>    &quot;DisplayName&quot; TEXT,<br>    &quot;LastAccessDate&quot; TEXT,<br>    &quot;WebsiteUrl&quot; TEXT,<br>    &quot;Location&quot; TEXT,<br>    &quot;AboutMe&quot; TEXT,<br>    &quot;Views&quot; INTEGER,<br>    &quot;UpVotes&quot; INTEGER,<br>    &quot;DownVotes&quot; INTEGER,<br>    &quot;ProfileImageUrl&quot; TEXT,<br>    &quot;AccountId&quot; INTEGER<br>    )<br>    </td>\n",
       "    </tr>\n",
       "    <tr>\n",
       "        <td>Task 1</td>\n",
       "        <td>Create table posts</td>\n",
       "        <td><br>    CREATE TABLE &quot;posts&quot; (<br>    &quot;Id&quot; INTEGER NOT NULL PRIMARY KEY,<br>    &quot;PostTypeId&quot; INTEGER,<br>    &quot;AcceptedAnswerId&quot; INTEGER,<br>    &quot;ParentId&quot; INTEGER,<br>    &quot;CreationDate&quot; TEXT,<br>    &quot;Score&quot; INTEGER,<br>    &quot;ViewCount&quot; INTEGER,<br>    &quot;Body&quot; TEXT,<br>    &quot;OwnerUserId&quot; INTEGER,<br>    &quot;OwnerDisplayName&quot; TEXT,<br>    &quot;LastEditorUserId&quot; INTEGER,<br>    &quot;LastEditorDisplayName&quot; TEXT,<br>    &quot;LastEditDate&quot; TEXT,<br>    &quot;LastActivityDate&quot; TEXT,<br>    &quot;Title&quot; TEXT,<br>    &quot;Tags&quot; TEXT,<br>    &quot;AnswerCount&quot; INTEGER,<br>    &quot;CommentCount&quot; INTEGER,<br>    &quot;FavoriteCount&quot; INTEGER,<br>    &quot;ClosedDate&quot; TEXT,<br>    &quot;CommunityOwnedDate&quot; TEXT<br>    )<br>    </td>\n",
       "    </tr>\n",
       "</table>"
      ],
      "text/plain": [
       "[('Single Table Queries', 'Which 5 users have viewed the most times and what is the sum of those views per user?', '\\nSELECT Id, SUM(Views) AS TotalViews\\n    FROM Users\\n        GROUP BY Id\\n            ORDER BY TotalViews DESC\\n                LIMIT 5\\n                '),\n",
       " ('Task 1', 'Create table comments', '\\n    CREATE TABLE \"comments\" (\\n    \"Id\" INTEGER,\\n    \"PostId\" INTEGER,\\n    \"Score\" INTEGER,\\n    \"Text\" TEXT,\\n    \"CreationDate\" TEXT,\\n    \"UserId\" INTEGER,\\n    FOREIGN KEY(PostId) REFERENCES posts(Id),\\n    FOREIGN KEY(UserId) REFERENCES users(Id)\\n    )\\n    '),\n",
       " ('Task 1', 'Create table users', '\\n    CREATE TABLE \"users\" (\\n    \"Id\" INTEGER NOT NULL PRIMARY KEY,\\n    \"Reputation\" INTEGER,\\n    \"CreationDate\" TEXT,\\n    \"DisplayName\" TEXT,\\n  ... (82 characters truncated) ... tMe\" TEXT,\\n    \"Views\" INTEGER,\\n    \"UpVotes\" INTEGER,\\n    \"DownVotes\" INTEGER,\\n    \"ProfileImageUrl\" TEXT,\\n    \"AccountId\" INTEGER\\n    )\\n    '),\n",
       " ('Task 1', 'Create table posts', '\\n    CREATE TABLE \"posts\" (\\n    \"Id\" INTEGER NOT NULL PRIMARY KEY,\\n    \"PostTypeId\" INTEGER,\\n    \"AcceptedAnswerId\" INTEGER,\\n    \"ParentId\" INTE ... (321 characters truncated) ... \"AnswerCount\" INTEGER,\\n    \"CommentCount\" INTEGER,\\n    \"FavoriteCount\" INTEGER,\\n    \"ClosedDate\" TEXT,\\n    \"CommunityOwnedDate\" TEXT\\n    )\\n    ')]"
      ]
     },
     "execution_count": 44,
     "metadata": {},
     "output_type": "execute_result"
    }
   ],
   "source": [
    "# Prove it works\n",
    "%sql SELECT * FROM queries"
   ]
  },
  {
   "cell_type": "markdown",
   "metadata": {},
   "source": [
    "## Count the Number of Rows in Each Table\n"
   ]
  },
  {
   "cell_type": "code",
   "execution_count": 45,
   "metadata": {},
   "outputs": [
    {
     "name": "stdout",
     "output_type": "stream",
     "text": [
      " * sqlite:///chatdata.db\n",
      "Done.\n"
     ]
    },
    {
     "data": {
      "text/html": [
       "<table>\n",
       "    <tr>\n",
       "        <th>COUNT(*)</th>\n",
       "    </tr>\n",
       "    <tr>\n",
       "        <td>50000</td>\n",
       "    </tr>\n",
       "</table>"
      ],
      "text/plain": [
       "[(50000,)]"
      ]
     },
     "execution_count": 45,
     "metadata": {},
     "output_type": "execute_result"
    }
   ],
   "source": [
    "# Count the number of rows in the comments table\n",
    "%sql SELECT COUNT(*) FROM comments"
   ]
  },
  {
   "cell_type": "code",
   "execution_count": 46,
   "metadata": {},
   "outputs": [],
   "source": [
    "sql = \"\"\"\n",
    "    SELECT COUNT(*) FROM comments\n",
    "    \"\"\"\n",
    "store_query(\"Task 1\", \"Count the number of rows in the comments table\", sql)"
   ]
  },
  {
   "cell_type": "code",
   "execution_count": 47,
   "metadata": {},
   "outputs": [
    {
     "name": "stdout",
     "output_type": "stream",
     "text": [
      " * sqlite:///chatdata.db\n",
      "Done.\n"
     ]
    },
    {
     "data": {
      "text/html": [
       "<table>\n",
       "    <tr>\n",
       "        <th>COUNT(*)</th>\n",
       "    </tr>\n",
       "    <tr>\n",
       "        <td>18412</td>\n",
       "    </tr>\n",
       "</table>"
      ],
      "text/plain": [
       "[(18412,)]"
      ]
     },
     "execution_count": 47,
     "metadata": {},
     "output_type": "execute_result"
    }
   ],
   "source": [
    "# Count the number of rows in the users table\n",
    "%sql SELECT COUNT(*) FROM users"
   ]
  },
  {
   "cell_type": "code",
   "execution_count": 48,
   "metadata": {},
   "outputs": [],
   "source": [
    "sql = \"\"\"\n",
    "    SELECT COUNT(*) FROM users\n",
    "    \"\"\"\n",
    "store_query(\"Task 1\", \"Count the number of rows in the users table\", sql)"
   ]
  },
  {
   "cell_type": "code",
   "execution_count": 49,
   "metadata": {},
   "outputs": [
    {
     "name": "stdout",
     "output_type": "stream",
     "text": [
      " * sqlite:///chatdata.db\n",
      "Done.\n"
     ]
    },
    {
     "data": {
      "text/html": [
       "<table>\n",
       "    <tr>\n",
       "        <th>COUNT(*)</th>\n",
       "    </tr>\n",
       "    <tr>\n",
       "        <td>42234</td>\n",
       "    </tr>\n",
       "</table>"
      ],
      "text/plain": [
       "[(42234,)]"
      ]
     },
     "execution_count": 49,
     "metadata": {},
     "output_type": "execute_result"
    }
   ],
   "source": [
    "# Count the number of rows in the posts table\n",
    "%sql SELECT COUNT(*) FROM posts"
   ]
  },
  {
   "cell_type": "code",
   "execution_count": 50,
   "metadata": {},
   "outputs": [],
   "source": [
    "sql = \"\"\"\n",
    "    SELECT COUNT(*) FROM posts\n",
    "    \"\"\"\n",
    "store_query(\"Task 1\", \"Count the number of rows in the posts table\", sql)"
   ]
  },
  {
   "cell_type": "markdown",
   "metadata": {},
   "source": [
    "## Do some Random Checks on the Data\n",
    "Let's write some queries that select 5 random rows from each table.\n",
    "\n",
    "Then enter the queries into the code cells below and insert the queries into the `queries` table."
   ]
  },
  {
   "cell_type": "code",
   "execution_count": 51,
   "metadata": {},
   "outputs": [
    {
     "name": "stdout",
     "output_type": "stream",
     "text": [
      " * sqlite:///chatdata.db\n",
      "Done.\n"
     ]
    },
    {
     "data": {
      "text/html": [
       "<table>\n",
       "    <tr>\n",
       "        <th>Id</th>\n",
       "        <th>PostId</th>\n",
       "        <th>Score</th>\n",
       "        <th>Text</th>\n",
       "        <th>CreationDate</th>\n",
       "        <th>UserId</th>\n",
       "    </tr>\n",
       "    <tr>\n",
       "        <td>769625</td>\n",
       "        <td>412181</td>\n",
       "        <td>0</td>\n",
       "        <td>Even statements about timings are contentious. Take a beginner in one and an expert in another....</td>\n",
       "        <td>2019-06-09 14:44:00</td>\n",
       "        <td>22047</td>\n",
       "    </tr>\n",
       "    <tr>\n",
       "        <td>788204</td>\n",
       "        <td>422453</td>\n",
       "        <td>0</td>\n",
       "        <td>I add this link for everybody interested in calling R from Python after installing R on the same pc, just in case you wish to use some R libraries within a code written in Python. https://www.kdnuggets.com/2015/12/using-python-r-together.html</td>\n",
       "        <td>2019-08-16 10:59:34</td>\n",
       "        <td>253250</td>\n",
       "    </tr>\n",
       "    <tr>\n",
       "        <td>787451</td>\n",
       "        <td>422020</td>\n",
       "        <td>0</td>\n",
       "        <td>Also, the observation of more additional numbers can change the inference. In the case *&quot;if the next number we see is 5...&quot;* then the posterior will still change, even when numbers have already been &#x27;helped out&#x27;, additional numbers can increase this &quot;helping out&#x27; (E.g. when you sample all numbers 1,2, ... 12, 13 then this will increase the posterior for 13 more than when you only sample 13)</td>\n",
       "        <td>2019-08-13 19:24:13</td>\n",
       "        <td>164061</td>\n",
       "    </tr>\n",
       "    <tr>\n",
       "        <td>789341</td>\n",
       "        <td>423033</td>\n",
       "        <td>0</td>\n",
       "        <td>Wasn&#x27;t able to comment on the mgilbert&#x27;s answer as I&#x27;m below the reputation limit - would there be a better way to ask? I&#x27;m basically alluding to full valid portfolio reconstruction in the situation where instead of using PCA(covMatrix(assets)) we use PCA(corrMatrix(Assets))</td>\n",
       "        <td>2019-08-20 22:01:01</td>\n",
       "        <td>103507</td>\n",
       "    </tr>\n",
       "    <tr>\n",
       "        <td>775941</td>\n",
       "        <td>415458</td>\n",
       "        <td>0</td>\n",
       "        <td>@BruceET The question is edited.</td>\n",
       "        <td>2019-07-03 10:39:02</td>\n",
       "        <td>36316</td>\n",
       "    </tr>\n",
       "</table>"
      ],
      "text/plain": [
       "[(769625, 412181, 0, 'Even statements about timings are contentious. Take a beginner in one and an expert in another....', '2019-06-09 14:44:00', 22047),\n",
       " (788204, 422453, 0, 'I add this link for everybody interested in calling R from Python after installing R on the same pc, just in case you wish to use some R libraries within a code written in Python. https://www.kdnuggets.com/2015/12/using-python-r-together.html', '2019-08-16 10:59:34', 253250),\n",
       " (787451, 422020, 0, 'Also, the observation of more additional numbers can change the inference. In the case *\"if the next number we see is 5...\"* then the posterior will  ... (98 characters truncated) ... this \"helping out\\' (E.g. when you sample all numbers 1,2, ... 12, 13 then this will increase the posterior for 13 more than when you only sample 13)', '2019-08-13 19:24:13', 164061),\n",
       " (789341, 423033, 0, \"Wasn't able to comment on the mgilbert's answer as I'm below the reputation limit - would there be a better way to ask? I'm basically alluding to full valid portfolio reconstruction in the situation where instead of using PCA(covMatrix(assets)) we use PCA(corrMatrix(Assets))\", '2019-08-20 22:01:01', 103507),\n",
       " (775941, 415458, 0, '@BruceET The question is edited.', '2019-07-03 10:39:02', 36316)]"
      ]
     },
     "execution_count": 51,
     "metadata": {},
     "output_type": "execute_result"
    }
   ],
   "source": [
    "# Run the query to select 5 random rows from the comments table\n",
    "%sql SELECT * FROM comments ORDER BY random() LIMIT 5"
   ]
  },
  {
   "cell_type": "code",
   "execution_count": 52,
   "metadata": {},
   "outputs": [],
   "source": [
    "sql = \"\"\"\n",
    "    SELECT * FROM comments ORDER BY random() LIMIT 5\n",
    "    \"\"\"\n",
    "store_query(\"Task 1\", \"Select 5 random rows from the comments table\", sql)"
   ]
  },
  {
   "cell_type": "code",
   "execution_count": 53,
   "metadata": {},
   "outputs": [
    {
     "name": "stdout",
     "output_type": "stream",
     "text": [
      " * sqlite:///chatdata.db\n",
      "Done.\n"
     ]
    },
    {
     "data": {
      "text/html": [
       "<table>\n",
       "    <tr>\n",
       "        <th>Id</th>\n",
       "        <th>PostTypeId</th>\n",
       "        <th>AcceptedAnswerId</th>\n",
       "        <th>ParentId</th>\n",
       "        <th>CreationDate</th>\n",
       "        <th>Score</th>\n",
       "        <th>ViewCount</th>\n",
       "        <th>Body</th>\n",
       "        <th>OwnerUserId</th>\n",
       "        <th>OwnerDisplayName</th>\n",
       "        <th>LastEditorUserId</th>\n",
       "        <th>LastEditorDisplayName</th>\n",
       "        <th>LastEditDate</th>\n",
       "        <th>LastActivityDate</th>\n",
       "        <th>Title</th>\n",
       "        <th>Tags</th>\n",
       "        <th>AnswerCount</th>\n",
       "        <th>CommentCount</th>\n",
       "        <th>FavoriteCount</th>\n",
       "        <th>ClosedDate</th>\n",
       "        <th>CommunityOwnedDate</th>\n",
       "    </tr>\n",
       "    <tr>\n",
       "        <td>411322</td>\n",
       "        <td>2</td>\n",
       "        <td>0</td>\n",
       "        <td>109579</td>\n",
       "        <td>2019-06-03 11:48:20</td>\n",
       "        <td>0</td>\n",
       "        <td>0</td>\n",
       "        <td>&lt;p&gt;You ask for a citable reference, I would go for one of William Cleveland&#x27;s book &lt;a href=&quot;https://rads.stackoverflow.com/amzn/click/com/0963488406&quot; rel=&quot;nofollow noreferrer&quot; rel=&quot;nofollow noreferrer&quot;&gt;Visualizing Data&lt;/a&gt;, also see his &lt;a href=&quot;https://www.amazon.com/William-S.-Cleveland/e/B000AP9IPS/ref=dp_byline_cont_book_1&quot; rel=&quot;nofollow noreferrer&quot;&gt;author page&lt;/a&gt;. See also this earlier questions:  &lt;a href=&quot;https://www.amazon.com/William-S.-Cleveland/e/B000AP9IPS/ref=dp_byline_cont_book_1&quot; rel=&quot;nofollow noreferrer&quot;&gt;https://www.amazon.com/William-S.-Cleveland/e/B000AP9IPS/ref=dp_byline_cont_book_1&lt;/a&gt; and &lt;a href=&quot;https://stats.stackexchange.com/questions/261752/whats-a-good-book-or-reference-for-data-visualization&quot;&gt;What&amp;#39;s a good book or reference for data visualization?&lt;/a&gt;. &lt;/p&gt;<br></td>\n",
       "        <td>11887</td>\n",
       "        <td>None</td>\n",
       "        <td>0</td>\n",
       "        <td>None</td>\n",
       "        <td>None</td>\n",
       "        <td>2019-06-03 11:48:20</td>\n",
       "        <td>None</td>\n",
       "        <td>None</td>\n",
       "        <td>0</td>\n",
       "        <td>0</td>\n",
       "        <td>0</td>\n",
       "        <td>None</td>\n",
       "        <td>None</td>\n",
       "    </tr>\n",
       "    <tr>\n",
       "        <td>392704</td>\n",
       "        <td>2</td>\n",
       "        <td>0</td>\n",
       "        <td>392222</td>\n",
       "        <td>2019-02-15 16:07:32</td>\n",
       "        <td>2</td>\n",
       "        <td>0</td>\n",
       "        <td>&lt;p&gt;You can express it as a contingency table:&lt;/p&gt;<br><br>&lt;p&gt;&lt;span class=&quot;math-container&quot;&gt;$\\begin{array}{cc}<br>\\begin{array}{cc|cc}<br>&amp;amp;&amp;amp; \\text{1st Bush} &amp;amp; \\text{1st others} &amp;amp;  \\\\<br>&amp;amp;100&amp;amp; 48 &amp;amp; 52 \\\\\\hline<br>\\text{2nd Bush}&amp;amp; 51&amp;amp; a &amp;amp; b \\\\<br>\\text{2nd others} &amp;amp; 49 &amp;amp; c &amp;amp; d \\\\<br>\\end{array}<br>\\end{array}$&lt;/span&gt;&lt;/p&gt;<br><br>&lt;p&gt;Due to all the restrictions (everything needs to add up to get the margins) you can bring the &lt;span class=&quot;math-container&quot;&gt;$a,b,c,d$&lt;/span&gt; down to a single parameter&lt;/p&gt;<br><br>&lt;p&gt;&lt;span class=&quot;math-container&quot;&gt;$\\begin{array}{cc}<br>\\begin{array}{cc|cc}<br>&amp;amp;&amp;amp; \\text{1st Bush} &amp;amp; \\text{1st others} &amp;amp;  \\\\<br>&amp;amp;100&amp;amp; 48 &amp;amp; 52 \\\\\\hline<br>\\text{2nd Bush}&amp;amp; 51&amp;amp; a &amp;amp; 51-a \\\\<br>\\text{2nd others} &amp;amp; 49 &amp;amp; 48-a &amp;amp; a+1 \\\\<br>\\end{array}<br>\\end{array}$&lt;/span&gt;&lt;/p&gt;<br><br>&lt;p&gt;So in any case you will need some additional information (wheter or not this is some vaguely defined correlation or not) to express the size of the group that voted for Bush in both elections.&lt;/p&gt;<br><br>&lt;hr&gt;<br><br>&lt;p&gt;In terms of Aaron Brown&#x27;s comment on quora you have &lt;/p&gt;<br><br>&lt;p&gt;&lt;span class=&quot;math-container&quot;&gt;$$a/100 = \\frac{\\rho+0.98}{4} \\quad $$&lt;/span&gt;&lt;/p&gt;<br><br>&lt;p&gt;I am not sure what type/definition of correlation relates to that. It is not corresponding to a later statement: &lt;/p&gt;<br><br>&lt;blockquote&gt;<br>  &lt;p&gt;If the events were independent then ρ would be zero and the fraction that voted for Bush both times would be 0.2448 which happens to equal 0.48×0.51. However, this would be very surprising.&lt;/p&gt;<br>&lt;/blockquote&gt;<br><br>&lt;p&gt;because &lt;span class=&quot;math-container&quot;&gt;$\\frac{0.98}{4} \\neq 0.2448$&lt;/span&gt;. &lt;/p&gt;<br><br>&lt;p&gt;Instead, the case that the fraction that voted for Bush both times would be 0.48×0.51=0.2448 occurs when the &lt;a href=&quot;https://en.wikipedia.org/wiki/Phi_coefficient&quot; rel=&quot;nofollow noreferrer&quot;&gt;phi coefficient&lt;/a&gt; is zero&lt;/p&gt;<br></td>\n",
       "        <td>164061</td>\n",
       "        <td>None</td>\n",
       "        <td>164061</td>\n",
       "        <td>None</td>\n",
       "        <td>2019-02-19 15:53:46</td>\n",
       "        <td>2019-02-19 15:53:46</td>\n",
       "        <td>None</td>\n",
       "        <td>None</td>\n",
       "        <td>0</td>\n",
       "        <td>2</td>\n",
       "        <td>0</td>\n",
       "        <td>None</td>\n",
       "        <td>None</td>\n",
       "    </tr>\n",
       "    <tr>\n",
       "        <td>433700</td>\n",
       "        <td>2</td>\n",
       "        <td>0</td>\n",
       "        <td>433555</td>\n",
       "        <td>2019-10-29 20:52:22</td>\n",
       "        <td>1</td>\n",
       "        <td>0</td>\n",
       "        <td>&lt;p&gt;We are to gather &quot;uplift&quot; is basically number of boxes. If you want to compare the &lt;em&gt;mean&lt;/em&gt; number of boxes you should use an ANOVA. If the sample size is reasonably large, the sampling distribution of the mean is approximately normally distributed.&lt;/p&gt;<br><br>&lt;p&gt;Models for count data can be used as well, given that the outcome is count. Poisson regression is the most common. Having many 0s does not mean the data are not Poisson, the rate could just be low. Quasipoisson and negative binomial models both just scale the variance so that the mean is merely proportional to the variance, in all cases the effect is interpreted as a relative rate of number of boxes. &lt;/p&gt;<br><br>&lt;p&gt;A rank based test will tell you nothing about the mean. Rank tests in general are not a panacea for violations of modeling assumptions (which is separate from &quot;having lots of zeroes&quot;). Inferring differences in mean does not require that an exact parametric model is specified, rather using robust or asymptotic statistics will give you valid inference about mean differences.&lt;/p&gt;<br></td>\n",
       "        <td>8013</td>\n",
       "        <td>None</td>\n",
       "        <td>8013</td>\n",
       "        <td>None</td>\n",
       "        <td>2019-10-29 21:02:09</td>\n",
       "        <td>2019-10-29 21:02:09</td>\n",
       "        <td>None</td>\n",
       "        <td>None</td>\n",
       "        <td>0</td>\n",
       "        <td>0</td>\n",
       "        <td>0</td>\n",
       "        <td>None</td>\n",
       "        <td>None</td>\n",
       "    </tr>\n",
       "    <tr>\n",
       "        <td>419364</td>\n",
       "        <td>1</td>\n",
       "        <td>0</td>\n",
       "        <td>0</td>\n",
       "        <td>2019-07-26 19:43:34</td>\n",
       "        <td>0</td>\n",
       "        <td>17</td>\n",
       "        <td>&lt;p&gt;I want to estimate the impact of physicians &lt;span class=&quot;math-container&quot;&gt;$L$&lt;/span&gt; on a measure of health &lt;span class=&quot;math-container&quot;&gt;$H$&lt;/span&gt; vs. the impact of equipment &lt;span class=&quot;math-container&quot;&gt;$K$&lt;/span&gt; on health. I have panel data on each Canadian province for 35 years (N=10, T=35).&lt;/p&gt;<br><br>&lt;p&gt;The model I want to estimate is &lt;span class=&quot;math-container&quot;&gt;$H_{it} = \\beta_0 + \\beta_1L_{it} +\\beta_2K_{it}+\\beta_3H_{it-1}+\\eta_i+\\delta_t+\\epsilon_{it}$&lt;/span&gt;. I will remove the fixed effect by first differencing.&lt;/p&gt;<br><br>&lt;p&gt;I am worried about reverse causality biasing my results. For example, it could be that if average health in a province is lower in a given year, there will be more equipment purchased. &lt;/p&gt;<br><br>&lt;p&gt;Thinking of good instrumental variables here has proven difficult, so a colleague recommended using Arellano-Bond or system GMM estimation as a way of dealing with the endogeneity problem by using lagged variables as instruments. &lt;/p&gt;<br><br>&lt;p&gt;However, after a bit of reading, it seems that these approaches were designed for large N, small T cases, whereas I have small N, large T. Will these approaches still be adequate for my project? &lt;/p&gt;<br><br>&lt;p&gt;Also, I have not checked the stationarity of my data yet. If it is not stationary in levels, but is stationary in first differences, will Arellano-Bond estimation still work? What if it is I(2)?&lt;/p&gt;<br></td>\n",
       "        <td>219198</td>\n",
       "        <td>None</td>\n",
       "        <td>219198</td>\n",
       "        <td>None</td>\n",
       "        <td>2019-07-26 20:09:01</td>\n",
       "        <td>2019-07-26 20:09:01</td>\n",
       "        <td>Arellano-Bond with small N and large T</td>\n",
       "        <td>&lt;time-series&gt;&lt;econometrics&gt;&lt;panel-data&gt;</td>\n",
       "        <td>0</td>\n",
       "        <td>0</td>\n",
       "        <td>0</td>\n",
       "        <td>None</td>\n",
       "        <td>None</td>\n",
       "    </tr>\n",
       "    <tr>\n",
       "        <td>432451</td>\n",
       "        <td>1</td>\n",
       "        <td>432453</td>\n",
       "        <td>0</td>\n",
       "        <td>2019-10-21 15:21:39</td>\n",
       "        <td>1</td>\n",
       "        <td>15</td>\n",
       "        <td>&lt;p&gt;I was wondering if somebody would be able to shine a light on accuracy converging to 1 relatively quickly during training. &lt;/p&gt;<br><br>&lt;p&gt;I am working on some new data and this is the first time i have seen this. I have attached the imaged of accuracy and loss (actual and validation set). &lt;/p&gt;<br><br>&lt;p&gt;I am running a multi-label network where the data fits in to either class one, two or three. The code I am using is as follows:&lt;/p&gt;<br><br>&lt;pre&gt;&lt;code&gt;model= tf.keras.models.Sequential()<br>model.add(tf.keras.layers.Dense(units=416, input_dim=20539, activation=&quot;relu&quot;))<br>model.add(tf.keras.layers.Dense(units=288, activation=&quot;relu&quot;))<br>model.add(tf.keras.layers.Dense(units=576, activation=&quot;relu&quot;))<br>model.add(tf.keras.layers.Dense(units=3, activation=&quot;softmax&quot;))<br><br>model.compile(loss=&quot;categorical_crossentropy&quot;, optimizer=&quot;SGD&quot;, metrics=[&#x27;accuracy&#x27;])<br><br>history=model.fit(X_trainERSC.values, y_trainERSC,<br>          epochs=20,<br>          batch_size=32,<br>          verbose=1,<br>          validation_split=0.15,<br>          callbacks=[EarlyStopping(monitor=&#x27;val_loss&#x27;, patience=5)],shuffle=True)<br>&lt;/code&gt;&lt;/pre&gt;<br><br>&lt;p&gt;Now the network trains fine and everything seems ot be ok and in a similar trend to data i have worked with previously. However, unlike the previous data which converges to about 97% for accuracy, the accuracy in this data converges to 1. I was wondering if this is normal? I know this seems vague, but i am not sure what to make of this and if for, accuracy and loss, extremely low loss as well as convergence to 1 is normal?&lt;/p&gt;<br><br>&lt;p&gt;Many thanks!!&lt;/p&gt;<br><br>&lt;p&gt;&lt;a href=&quot;https://i.stack.imgur.com/V8XyF.png&quot; rel=&quot;nofollow noreferrer&quot;&gt;&lt;img src=&quot;https://i.stack.imgur.com/V8XyF.png&quot; alt=&quot;enter image description here&quot;&gt;&lt;/a&gt;<br>&lt;a href=&quot;https://i.stack.imgur.com/ifn1S.png&quot; rel=&quot;nofollow noreferrer&quot;&gt;&lt;img src=&quot;https://i.stack.imgur.com/ifn1S.png&quot; alt=&quot;enter image description here&quot;&gt;&lt;/a&gt;&lt;/p&gt;<br></td>\n",
       "        <td>242737</td>\n",
       "        <td>None</td>\n",
       "        <td>0</td>\n",
       "        <td>None</td>\n",
       "        <td>None</td>\n",
       "        <td>2019-10-21 15:33:51</td>\n",
       "        <td>Accuracy converging to one in neural network (tensorflow.keras)</td>\n",
       "        <td>&lt;loss-functions&gt;&lt;accuracy&gt;&lt;tensorflow&gt;&lt;keras&gt;</td>\n",
       "        <td>1</td>\n",
       "        <td>0</td>\n",
       "        <td>0</td>\n",
       "        <td>None</td>\n",
       "        <td>None</td>\n",
       "    </tr>\n",
       "</table>"
      ],
      "text/plain": [
       "[(411322, 2, 0, 109579, '2019-06-03 11:48:20', 0, 0, '<p>You ask for a citable reference, I would go for one of William Cleveland\\'s book <a href=\"https://rads.stackoverflow.com/amzn/click/com/0963488406 ... (504 characters truncated) ... e.com/questions/261752/whats-a-good-book-or-reference-for-data-visualization\">What&#39;s a good book or reference for data visualization?</a>. </p>\\n', 11887, None, 0, None, None, '2019-06-03 11:48:20', None, None, 0, 0, 0, None, None),\n",
       " (392704, 2, 0, 392222, '2019-02-15 16:07:32', 2, 0, '<p>You can express it as a contingency table:</p>\\n\\n<p><span class=\"math-container\">$\\\\begin{array}{cc}\\n\\\\begin{array}{cc|cc}\\n&amp;&amp; \\\\text{1s ... (1610 characters truncated) ...  0.48×0.51=0.2448 occurs when the <a href=\"https://en.wikipedia.org/wiki/Phi_coefficient\" rel=\"nofollow noreferrer\">phi coefficient</a> is zero</p>\\n', 164061, None, 164061, None, '2019-02-19 15:53:46', '2019-02-19 15:53:46', None, None, 0, 2, 0, None, None),\n",
       " (433700, 2, 0, 433555, '2019-10-29 20:52:22', 1, 0, '<p>We are to gather \"uplift\" is basically number of boxes. If you want to compare the <em>mean</em> number of boxes you should use an ANOVA. If the s ... (766 characters truncated) ... that an exact parametric model is specified, rather using robust or asymptotic statistics will give you valid inference about mean differences.</p>\\n', 8013, None, 8013, None, '2019-10-29 21:02:09', '2019-10-29 21:02:09', None, None, 0, 0, 0, None, None),\n",
       " (419364, 1, 0, 0, '2019-07-26 19:43:34', 0, 17, '<p>I want to estimate the impact of physicians <span class=\"math-container\">$L$</span> on a measure of health <span class=\"math-container\">$H$</span> ... (1091 characters truncated) ... a yet. If it is not stationary in levels, but is stationary in first differences, will Arellano-Bond estimation still work? What if it is I(2)?</p>\\n', 219198, None, 219198, None, '2019-07-26 20:09:01', '2019-07-26 20:09:01', 'Arellano-Bond with small N and large T', '<time-series><econometrics><panel-data>', 0, 0, 0, None, None),\n",
       " (432451, 1, 432453, 0, '2019-10-21 15:21:39', 1, 15, '<p>I was wondering if somebody would be able to shine a light on accuracy converging to 1 relatively quickly during training. </p>\\n\\n<p>I am working ... (1598 characters truncated) ... //i.stack.imgur.com/ifn1S.png\" rel=\"nofollow noreferrer\"><img src=\"https://i.stack.imgur.com/ifn1S.png\" alt=\"enter image description here\"></a></p>\\n', 242737, None, 0, None, None, '2019-10-21 15:33:51', 'Accuracy converging to one in neural network (tensorflow.keras)', '<loss-functions><accuracy><tensorflow><keras>', 1, 0, 0, None, None)]"
      ]
     },
     "execution_count": 53,
     "metadata": {},
     "output_type": "execute_result"
    }
   ],
   "source": [
    "# Run the query to select 5 random rows from the posts table\n",
    "%sql SELECT * FROM posts ORDER BY random() LIMIT 5"
   ]
  },
  {
   "cell_type": "code",
   "execution_count": 54,
   "metadata": {},
   "outputs": [],
   "source": [
    "sql = \"\"\"\n",
    "    SELECT * FROM posts ORDER BY random() LIMIT 5\n",
    "    \"\"\"\n",
    "store_query(\"Task 1\", \"Select 5 random rows from the posts table\", sql)"
   ]
  },
  {
   "cell_type": "code",
   "execution_count": 55,
   "metadata": {},
   "outputs": [
    {
     "name": "stdout",
     "output_type": "stream",
     "text": [
      " * sqlite:///chatdata.db\n",
      "Done.\n"
     ]
    },
    {
     "data": {
      "text/html": [
       "<table>\n",
       "    <tr>\n",
       "        <th>Id</th>\n",
       "        <th>Reputation</th>\n",
       "        <th>CreationDate</th>\n",
       "        <th>DisplayName</th>\n",
       "        <th>LastAccessDate</th>\n",
       "        <th>WebsiteUrl</th>\n",
       "        <th>Location</th>\n",
       "        <th>AboutMe</th>\n",
       "        <th>Views</th>\n",
       "        <th>UpVotes</th>\n",
       "        <th>DownVotes</th>\n",
       "        <th>ProfileImageUrl</th>\n",
       "        <th>AccountId</th>\n",
       "    </tr>\n",
       "    <tr>\n",
       "        <td>253901</td>\n",
       "        <td>1</td>\n",
       "        <td>2019-07-17 11:03:18</td>\n",
       "        <td>amf</td>\n",
       "        <td>2019-07-17 11:03:18</td>\n",
       "        <td>None</td>\n",
       "        <td>None</td>\n",
       "        <td>None</td>\n",
       "        <td>2</td>\n",
       "        <td>0</td>\n",
       "        <td>0</td>\n",
       "        <td>None</td>\n",
       "        <td>16334714</td>\n",
       "    </tr>\n",
       "    <tr>\n",
       "        <td>141966</td>\n",
       "        <td>111</td>\n",
       "        <td>2016-12-11 15:49:43</td>\n",
       "        <td>Praveen</td>\n",
       "        <td>2019-12-01 00:10:28</td>\n",
       "        <td>None</td>\n",
       "        <td>None</td>\n",
       "        <td>None</td>\n",
       "        <td>5</td>\n",
       "        <td>0</td>\n",
       "        <td>0</td>\n",
       "        <td>https://www.gravatar.com/avatar/784ea8ecde11b7235c0295c9932f0a8e?s=128&amp;d=identicon&amp;r=PG&amp;f=1</td>\n",
       "        <td>8651781</td>\n",
       "    </tr>\n",
       "    <tr>\n",
       "        <td>4704</td>\n",
       "        <td>630</td>\n",
       "        <td>2011-05-22 13:58:50</td>\n",
       "        <td>G. Grothendieck</td>\n",
       "        <td>2019-12-01 00:01:45</td>\n",
       "        <td>None</td>\n",
       "        <td>None</td>\n",
       "        <td>&lt;p&gt;GKX Group, GKX Associates Inc.<br>    tel: 1-877-GKX-GROUP&lt;/p&gt;<br></td>\n",
       "        <td>332</td>\n",
       "        <td>47</td>\n",
       "        <td>1</td>\n",
       "        <td>None</td>\n",
       "        <td>244009</td>\n",
       "    </tr>\n",
       "    <tr>\n",
       "        <td>217591</td>\n",
       "        <td>121</td>\n",
       "        <td>2018-08-14 11:04:18</td>\n",
       "        <td>Girish Kumar Chandora</td>\n",
       "        <td>2019-11-11 04:47:49</td>\n",
       "        <td>https://www.linkedin.com/in/girish-kumar-784653126/</td>\n",
       "        <td>Hyderabad, Telangana, India</td>\n",
       "        <td>&lt;p&gt;&lt;em&gt;I am a complicated guy with a simple life.<br>Pursuing a career in the field of Data Science&lt;/em&gt;&lt;/p&gt;<br></td>\n",
       "        <td>1</td>\n",
       "        <td>1</td>\n",
       "        <td>0</td>\n",
       "        <td>https://i.stack.imgur.com/OiE5k.jpg</td>\n",
       "        <td>8497043</td>\n",
       "    </tr>\n",
       "    <tr>\n",
       "        <td>124286</td>\n",
       "        <td>3</td>\n",
       "        <td>2016-07-23 23:32:32</td>\n",
       "        <td>Espresso</td>\n",
       "        <td>2019-05-17 17:12:53</td>\n",
       "        <td>None</td>\n",
       "        <td>None</td>\n",
       "        <td>None</td>\n",
       "        <td>0</td>\n",
       "        <td>0</td>\n",
       "        <td>0</td>\n",
       "        <td>https://i.stack.imgur.com/3tJKg.jpg?s=128&amp;g=1</td>\n",
       "        <td>6431037</td>\n",
       "    </tr>\n",
       "</table>"
      ],
      "text/plain": [
       "[(253901, 1, '2019-07-17 11:03:18', 'amf', '2019-07-17 11:03:18', None, None, None, 2, 0, 0, None, 16334714),\n",
       " (141966, 111, '2016-12-11 15:49:43', 'Praveen', '2019-12-01 00:10:28', None, None, None, 5, 0, 0, 'https://www.gravatar.com/avatar/784ea8ecde11b7235c0295c9932f0a8e?s=128&d=identicon&r=PG&f=1', 8651781),\n",
       " (4704, 630, '2011-05-22 13:58:50', 'G. Grothendieck', '2019-12-01 00:01:45', None, None, '<p>GKX Group, GKX Associates Inc.\\n    tel: 1-877-GKX-GROUP</p>\\n', 332, 47, 1, None, 244009),\n",
       " (217591, 121, '2018-08-14 11:04:18', 'Girish Kumar Chandora', '2019-11-11 04:47:49', 'https://www.linkedin.com/in/girish-kumar-784653126/', 'Hyderabad, Telangana, India', '<p><em>I am a complicated guy with a simple life.\\nPursuing a career in the field of Data Science</em></p>\\n', 1, 1, 0, 'https://i.stack.imgur.com/OiE5k.jpg', 8497043),\n",
       " (124286, 3, '2016-07-23 23:32:32', 'Espresso', '2019-05-17 17:12:53', None, None, None, 0, 0, 0, 'https://i.stack.imgur.com/3tJKg.jpg?s=128&g=1', 6431037)]"
      ]
     },
     "execution_count": 55,
     "metadata": {},
     "output_type": "execute_result"
    }
   ],
   "source": [
    "# Run the query to select 5 random rows from the users table\n",
    "%sql SELECT * FROM users ORDER BY random() LIMIT 5"
   ]
  },
  {
   "cell_type": "code",
   "execution_count": 56,
   "metadata": {},
   "outputs": [],
   "source": [
    "sql = \"\"\"\n",
    "    SELECT * FROM users ORDER BY random() LIMIT 5\n",
    "    \"\"\"\n",
    "store_query(\"Task 1\", \"Select 5 random rows from the users table\", sql)"
   ]
  },
  {
   "cell_type": "markdown",
   "metadata": {},
   "source": [
    "# Create Single Table Queries\n"
   ]
  },
  {
   "cell_type": "markdown",
   "metadata": {},
   "source": [
    "We can now start the analysis with our single-table queries.  First we need to create a new computed column to help with one of the queries.  The code below creates a column called LEN_BODY which is the length of the BODY text:\n"
   ]
  },
  {
   "cell_type": "code",
   "execution_count": 57,
   "metadata": {},
   "outputs": [
    {
     "name": "stdout",
     "output_type": "stream",
     "text": [
      " * sqlite:///chatdata.db\n",
      "Done.\n"
     ]
    },
    {
     "data": {
      "text/plain": [
       "[]"
      ]
     },
     "execution_count": 57,
     "metadata": {},
     "output_type": "execute_result"
    }
   ],
   "source": [
    "%%sql\n",
    "ALTER TABLE POSTS ADD COLUMN LEN_BODY INT"
   ]
  },
  {
   "cell_type": "code",
   "execution_count": 58,
   "metadata": {},
   "outputs": [
    {
     "name": "stdout",
     "output_type": "stream",
     "text": [
      " * sqlite:///chatdata.db\n",
      "42234 rows affected.\n"
     ]
    },
    {
     "data": {
      "text/plain": [
       "[]"
      ]
     },
     "execution_count": 58,
     "metadata": {},
     "output_type": "execute_result"
    }
   ],
   "source": [
    "%%sql\n",
    "UPDATE POSTS SET LEN_BODY = LENGTH(BODY)"
   ]
  },
  {
   "cell_type": "markdown",
   "metadata": {},
   "source": [
    "### Single Table Queries\n"
   ]
  },
  {
   "cell_type": "markdown",
   "metadata": {},
   "source": [
    "How many posts have 0 comments?"
   ]
  },
  {
   "cell_type": "code",
   "execution_count": 59,
   "metadata": {},
   "outputs": [
    {
     "name": "stdout",
     "output_type": "stream",
     "text": [
      " * sqlite:///chatdata.db\n",
      "Done.\n"
     ]
    },
    {
     "data": {
      "text/html": [
       "<table>\n",
       "    <tr>\n",
       "        <th>COUNT(*)</th>\n",
       "    </tr>\n",
       "    <tr>\n",
       "        <td>21713</td>\n",
       "    </tr>\n",
       "</table>"
      ],
      "text/plain": [
       "[(21713,)]"
      ]
     },
     "execution_count": 59,
     "metadata": {},
     "output_type": "execute_result"
    }
   ],
   "source": [
    "%sql SELECT COUNT(*) FROM posts WHERE CommentCount=0"
   ]
  },
  {
   "cell_type": "code",
   "execution_count": 60,
   "metadata": {},
   "outputs": [],
   "source": [
    "sql = \"\"\"\n",
    "    SELECT COUNT(*) FROM posts WHERE CommentCount=0\n",
    "    \"\"\"\n",
    "store_query(\"Task 2\", \"How many posts have 0 comments?\", sql)"
   ]
  },
  {
   "cell_type": "markdown",
   "metadata": {},
   "source": [
    "How many posts have 1 comments?"
   ]
  },
  {
   "cell_type": "code",
   "execution_count": 61,
   "metadata": {},
   "outputs": [
    {
     "name": "stdout",
     "output_type": "stream",
     "text": [
      " * sqlite:///chatdata.db\n",
      "Done.\n"
     ]
    },
    {
     "data": {
      "text/html": [
       "<table>\n",
       "    <tr>\n",
       "        <th>COUNT(*)</th>\n",
       "    </tr>\n",
       "    <tr>\n",
       "        <td>6460</td>\n",
       "    </tr>\n",
       "</table>"
      ],
      "text/plain": [
       "[(6460,)]"
      ]
     },
     "execution_count": 61,
     "metadata": {},
     "output_type": "execute_result"
    }
   ],
   "source": [
    "%sql SELECT COUNT(*) FROM posts WHERE CommentCount=1"
   ]
  },
  {
   "cell_type": "code",
   "execution_count": 62,
   "metadata": {},
   "outputs": [],
   "source": [
    "sql = \"\"\"\n",
    "    SELECT COUNT(*) FROM posts WHERE CommentCount=1\n",
    "    \"\"\"\n",
    "store_query(\"Task 2\", \"How many posts have 1 comments?\", sql)"
   ]
  },
  {
   "cell_type": "markdown",
   "metadata": {},
   "source": [
    "How many posts have 2 comments or more?"
   ]
  },
  {
   "cell_type": "code",
   "execution_count": 63,
   "metadata": {},
   "outputs": [
    {
     "name": "stdout",
     "output_type": "stream",
     "text": [
      " * sqlite:///chatdata.db\n",
      "Done.\n"
     ]
    },
    {
     "data": {
      "text/html": [
       "<table>\n",
       "    <tr>\n",
       "        <th>COUNT(*)</th>\n",
       "    </tr>\n",
       "    <tr>\n",
       "        <td>14061</td>\n",
       "    </tr>\n",
       "</table>"
      ],
      "text/plain": [
       "[(14061,)]"
      ]
     },
     "execution_count": 63,
     "metadata": {},
     "output_type": "execute_result"
    }
   ],
   "source": [
    "%sql SELECT COUNT(*) FROM posts WHERE CommentCount>1"
   ]
  },
  {
   "cell_type": "code",
   "execution_count": 64,
   "metadata": {},
   "outputs": [],
   "source": [
    "sql = \"\"\"\n",
    "    SELECT COUNT(*) FROM posts WHERE CommentCount>1\n",
    "    \"\"\"\n",
    "store_query(\"Task 2\", \"How many posts have 2 comments or more?\", sql)"
   ]
  },
  {
   "cell_type": "markdown",
   "metadata": {},
   "source": [
    "Find the 5 posts with the highest viewcount"
   ]
  },
  {
   "cell_type": "code",
   "execution_count": 65,
   "metadata": {
    "scrolled": false
   },
   "outputs": [
    {
     "name": "stdout",
     "output_type": "stream",
     "text": [
      " * sqlite:///chatdata.db\n",
      "Done.\n"
     ]
    },
    {
     "data": {
      "text/html": [
       "<table>\n",
       "    <tr>\n",
       "        <th>Body</th>\n",
       "        <th>ViewCount</th>\n",
       "    </tr>\n",
       "    <tr>\n",
       "        <td>&lt;ul&gt;<br>&lt;li&gt;Statement One (S1): &quot;One in 80 deaths is caused by a car accident.&quot;&lt;/li&gt;<br>&lt;li&gt;Statement Two (S2): &quot;One in 80 people dies as a result of a car accident.&quot;&lt;/li&gt;<br>&lt;/ul&gt;<br><br>&lt;p&gt;Now, I personally don&#x27;t see very much difference at all between these two statements. When writing, I would consider them interchangeable to a lay audience. However, I&#x27;ve been challenged on this by two people now, and am looking for some additional perspective.&lt;/p&gt;<br><br>&lt;p&gt;My default interpretation of S2 is, &quot;Of 80 people drawn uniformly at random from the population of humans, we would expect one of them to die as a result of a car accident&quot;- and I do consider this qualified statement equivalent to S1. &lt;/p&gt;<br><br>&lt;p&gt;My questions are as follows:&lt;/p&gt;<br><br>&lt;ul&gt;<br>&lt;li&gt;&lt;p&gt;Q1) Is my default interpretation indeed equivalent to Statement One?&lt;/p&gt;&lt;/li&gt;<br>&lt;li&gt;&lt;p&gt;Q2) Is unusual or reckless for this to be my default interpretation?&lt;/p&gt;&lt;/li&gt;<br>&lt;li&gt;&lt;p&gt;Q3) If you do think S1 and S2 different, such that to state the second when one means the first is misleading/incorrect, could you please provide a fully-qualified revision of S2 that is equivalent?&lt;/p&gt;&lt;/li&gt;<br>&lt;/ul&gt;<br><br>&lt;p&gt;Let&#x27;s put aside the obvious quibble that S1 does not specifically refer to human deaths and assume that that is understood in context. Let us also put aside any discussion of the veracity of the claim itself: it is meant to be illustrative.&lt;/p&gt;<br><br>&lt;p&gt;As best I can tell, the disagreements I&#x27;ve heard so far seem to center around defaulting to different interpretations of the first and second statement.&lt;/p&gt;<br><br>&lt;p&gt;For the first, my challengers seem to interpret it as as 1/80 * num_deaths = number of deaths caused by car accidents, but for some reason, default to a different interpretation of the second along the lines of, &quot;if you have any set of 80 people, one of them &lt;em&gt;will&lt;/em&gt; die in a car accident&quot; (which is obviously not an equivalent claim). I would think that given their interpretation of S1, their default for S2 would be to read it as (1/80 * num_dead_people = number of people who died in a car accident == number of deaths caused by car accident). I&#x27;m not sure why the discrepancy in interpretation (their default for S2 is a much stronger assumption), or if they have some innate statistical sense that I&#x27;m in fact lacking. &lt;/p&gt;<br></td>\n",
       "        <td>19542</td>\n",
       "    </tr>\n",
       "    <tr>\n",
       "        <td>&lt;p&gt;A human child at age 2 needs around 5 instances of a car to be able to identify it with reasonable accuracy regardless of color, make, etc. When my son was 2, he was able to identify trams and trains, even though he had seen just a few. Since he was usually confusing one with each other, apparently his neural network was not trained enough, but still.&lt;/p&gt;<br><br>&lt;p&gt;What is it that artificial neural networks are missing that prevent them from being able to learn way quicker? Is transfer learning an answer?&lt;/p&gt;<br></td>\n",
       "        <td>16317</td>\n",
       "    </tr>\n",
       "    <tr>\n",
       "        <td>&lt;p&gt;It seems very counter intuitive to many people that a given diagnostic test with very high accuracy (say 99%) can generate massively more false positives than true positives in some situations, namely where the population of true positives is very small compared to whole population.&lt;/p&gt;<br><br>&lt;p&gt;I see people making this mistake often e.g. when arguing for wider public health screenings, or wider anti-crime surveillance measures etc but I am at a loss for how to succinctly describe the mistake people are making.&lt;/p&gt;<br><br>&lt;p&gt;Does this phenomenon / statistical fallacy have a name? Failing that has anyone got a good, terse, jargon free intuition/example that would help me explain it to a lay person.&lt;/p&gt;<br><br>&lt;p&gt;Apologies if this is the wrong forum to ask this. If so please direct me to a more appropriate one.&lt;/p&gt;<br></td>\n",
       "        <td>11723</td>\n",
       "    </tr>\n",
       "    <tr>\n",
       "        <td>&lt;p&gt;The title of the Comment in Nature &lt;a href=&quot;https://www.nature.com/articles/d41586-019-00857-9&quot; rel=&quot;noreferrer&quot;&gt;Scientists rise up against statistical significance&lt;/a&gt; begins with:&lt;/p&gt;<br><br>&lt;blockquote&gt;<br>  &lt;p&gt;Valentin Amrhein, Sander Greenland, Blake McShane and more than 800 signatories call for an end to hyped claims and the dismissal of possibly crucial effects.&lt;/p&gt;<br>&lt;/blockquote&gt;<br><br>&lt;p&gt;and later contains statements like:&lt;/p&gt;<br><br>&lt;blockquote&gt;<br>  &lt;p&gt;Again, we are not advocating a ban on P values, confidence intervals or other statistical measures — only that we should not treat them categorically. This includes dichotomization as statistically significant or not, as well as categorization based on other statistical measures such as Bayes factors.&lt;/p&gt;<br>&lt;/blockquote&gt;<br><br>&lt;p&gt;I think I can grasp that the image below does not say that the two studies disagree because one &quot;rules out&quot; no effect while the other does not. But the article seems to go into much more depth than I can understand. &lt;/p&gt;<br><br>&lt;p&gt;Towards the end there seems to be a summary in four points. Is it possible to summarize these in even simpler terms for those of us who &lt;em&gt;read statistics&lt;/em&gt; rather than write it?&lt;/p&gt;<br><br>&lt;blockquote&gt;<br>  &lt;p&gt;When talking about compatibility intervals, bear in mind four things. &lt;/p&gt;<br>  <br>  &lt;ul&gt;<br>  &lt;li&gt;&lt;p&gt;First, just because the interval gives the values most compatible with the data, given the assumptions, it doesn’t mean values outside it are incompatible; they are just less compatible...&lt;/p&gt;&lt;/li&gt;<br>  &lt;li&gt;&lt;p&gt;Second, not all values inside are equally compatible with the data, given the assumptions...&lt;/p&gt;&lt;/li&gt;<br>  &lt;li&gt;&lt;p&gt;Third, like the 0.05 threshold from which it came, the default 95% used to compute intervals is itself an arbitrary convention...&lt;/p&gt;&lt;/li&gt;<br>  &lt;li&gt;&lt;p&gt;Last, and most important of all, be humble: compatibility assessments hinge on the correctness of the statistical assumptions used to compute the interval...&lt;/p&gt;&lt;/li&gt;<br>  &lt;/ul&gt;<br>&lt;/blockquote&gt;<br><br>&lt;hr&gt;<br><br>&lt;p&gt;&lt;a href=&quot;https://i.stack.imgur.com/tgpft.jpg&quot; rel=&quot;noreferrer&quot;&gt;&lt;img src=&quot;https://i.stack.imgur.com/tgpft.jpg&quot; alt=&quot;Nature: Scientists rise up against statistical significance&quot;&gt;&lt;/a&gt;&lt;/p&gt;<br></td>\n",
       "        <td>9850</td>\n",
       "    </tr>\n",
       "    <tr>\n",
       "        <td>&lt;p&gt;I am designing a one year program in data analysis with a local community college. The program aims to prepare students to handle basic tasks in data analysis, visualization and summarization, advanced Excel skills and R programming. &lt;/p&gt;<br><br>&lt;p&gt;I would like to prepare a set of short, real world examples that illustrate where ordinary intuition fails and statistical analysis is necessary. I&#x27;m also interested in &quot;famous statistical fails&quot;, but more interested in the wins. The data involved should be freely available.&lt;/p&gt;<br><br>&lt;p&gt;A perfect example of what I&#x27;m looking for is the Berkeley discrimination case, which illustrates Simpson&#x27;s paradox. The data for that is memorialized in R&#x27;s datasets. &lt;/p&gt;<br><br>&lt;p&gt;Historical cases are also interesting. John Snow&#x27;s analysis of the Broad Street pump data is a good example of the power of visualization.&lt;/p&gt;<br><br>&lt;p&gt;There are a lot of fails in the collection of data (selection bias), etc. and the literature in medical statistics is full of them. &lt;/p&gt;<br><br>&lt;p&gt;A lot of &quot;statistical wins&quot; occur in the area of variable selection and sampling design. I&#x27;m interested in paradoxes that occur in other areas -- like the analysis as such. &lt;/p&gt;<br></td>\n",
       "        <td>6718</td>\n",
       "    </tr>\n",
       "</table>"
      ],
      "text/plain": [
       "[('<ul>\\n<li>Statement One (S1): \"One in 80 deaths is caused by a car accident.\"</li>\\n<li>Statement Two (S2): \"One in 80 people dies as a result of a c ... (2000 characters truncated) ...  interpretation (their default for S2 is a much stronger assumption), or if they have some innate statistical sense that I\\'m in fact lacking. </p>\\n', 19542),\n",
       " ('<p>A human child at age 2 needs around 5 instances of a car to be able to identify it with reasonable accuracy regardless of color, make, etc. When m ... (217 characters truncated) ... >What is it that artificial neural networks are missing that prevent them from being able to learn way quicker? Is transfer learning an answer?</p>\\n', 16317),\n",
       " ('<p>It seems very counter intuitive to many people that a given diagnostic test with very high accuracy (say 99%) can generate massively more false po ... (520 characters truncated) ... lp me explain it to a lay person.</p>\\n\\n<p>Apologies if this is the wrong forum to ask this. If so please direct me to a more appropriate one.</p>\\n', 11723),\n",
       " ('<p>The title of the Comment in Nature <a href=\"https://www.nature.com/articles/d41586-019-00857-9\" rel=\"noreferrer\">Scientists rise up against statis ... (1880 characters truncated) ... pft.jpg\" rel=\"noreferrer\"><img src=\"https://i.stack.imgur.com/tgpft.jpg\" alt=\"Nature: Scientists rise up against statistical significance\"></a></p>\\n', 9850),\n",
       " ('<p>I am designing a one year program in data analysis with a local community college. The program aims to prepare students to handle basic tasks in d ... (891 characters truncated) ... ur in the area of variable selection and sampling design. I\\'m interested in paradoxes that occur in other areas -- like the analysis as such. </p>\\n', 6718)]"
      ]
     },
     "execution_count": 65,
     "metadata": {},
     "output_type": "execute_result"
    }
   ],
   "source": [
    "%sql SELECT Body, ViewCount FROM posts ORDER BY ViewCount DESC LIMIT 5"
   ]
  },
  {
   "cell_type": "code",
   "execution_count": 66,
   "metadata": {},
   "outputs": [],
   "source": [
    "sql = \"\"\"\n",
    "    SELECT Body, ViewCount FROM posts ORDER BY ViewCount DESC LIMIT 5\n",
    "    \"\"\"\n",
    "store_query(\"Task 2\", \"Find the 5 posts with the highest viewcount\", sql)"
   ]
  },
  {
   "cell_type": "markdown",
   "metadata": {},
   "source": [
    "Find the top 5 posts with the highest scores"
   ]
  },
  {
   "cell_type": "code",
   "execution_count": 67,
   "metadata": {
    "scrolled": false
   },
   "outputs": [
    {
     "name": "stdout",
     "output_type": "stream",
     "text": [
      " * sqlite:///chatdata.db\n",
      "Done.\n"
     ]
    },
    {
     "data": {
      "text/html": [
       "<table>\n",
       "    <tr>\n",
       "        <th>Id</th>\n",
       "        <th>Body</th>\n",
       "        <th>Score</th>\n",
       "    </tr>\n",
       "    <tr>\n",
       "        <td>431397</td>\n",
       "        <td>&lt;p&gt;Yes there is. Generally it is termed &lt;strong&gt;base rate fallacy&lt;/strong&gt; or more specific &lt;strong&gt;false positive paradox&lt;/strong&gt;. There is even a wikipedia article about it: &lt;a href=&quot;https://en.wikipedia.org/wiki/Base_rate_fallacy&quot; rel=&quot;noreferrer&quot;&gt;see here&lt;/a&gt;&lt;/p&gt;<br></td>\n",
       "        <td>101</td>\n",
       "    </tr>\n",
       "    <tr>\n",
       "        <td>394128</td>\n",
       "        <td>&lt;p&gt;I caution against expecting strong resemblance between biological and artificial neural networks. I think the name &quot;neural networks&quot; is a bit dangerous, because it tricks people into expecting that neurological processes and machine learning should be the same. The differences between biological and artificial neural networks outweigh the similarities.&lt;/p&gt;<br><br>&lt;p&gt;As an example of how this can go awry, you can also turn the reasoning in the original post on its head. You can train a neural network to learn to recognize cars in an afternoon, provided you have a reasonably fast computer and some amount of training data. You can make this a binary task (car/not car) or a multi-class task (car/tram/bike/airplane/boat) and still be confident in a high level of success. &lt;/p&gt;<br><br>&lt;p&gt;By contrast, I wouldn&#x27;t expect a child to be able to pick out a car the day - or even the week - after it&#x27;s born, even after it has seen &quot;so many training examples.&quot; Something is obviously different between a two-year-old and an infant that accounts for the difference in learning ability, whereas a vanilla image classification neural network is perfectly capable of picking up object classification &lt;em&gt;immediately&lt;/em&gt; after &quot;birth.&quot; I think that there are two important differences: (1) the relative volumes of training data available and (2) a self-teaching mechanism that develops over time because of abundant training data.&lt;/p&gt;<br><br>&lt;hr&gt;<br><br>&lt;p&gt;The original post exposes two questions. The title and body of the question ask why neural networks need &quot;so many examples.&quot; Relative to a child&#x27;s experience, neural networks trained using common image benchmarks have comparatively little data.&lt;/p&gt;<br><br>&lt;p&gt;I will re-phrases the question in the title to &lt;/p&gt;<br><br>&lt;h1&gt;&quot;How does training a neural network for a common image benchmark compare &amp;amp; contrast to the learning experience of a child?&quot;&lt;/h1&gt;<br><br>&lt;p&gt;For the sake of comparison I&#x27;ll consider the CIFAR-10 data because it is a common image benchmark. The labeled portion is composed of 10 classes of images with 6000 images per class. Each image is 32x32 pixels. If you somehow stacked the labeled images from CIFAR-10 and made a standard 48 fps video, you&#x27;d have about 20 minutes of footage.&lt;/p&gt;<br><br>&lt;p&gt;A child of 2 years who observes the world for 12 hours daily has roughly 263000 minutes (more than 4000 hours) of direct observations of the world, including feedback from adults (labels). (These are just ballpark figures -- I don&#x27;t know how many minutes a typical two-year-old has spent observing the world.) Moreover, the child will have exposure to many, many objects beyond the 10 classes that comprise CIFAR-10.&lt;/p&gt;<br><br>&lt;p&gt;So there are a few things at play. One is that the child has exposure to more data overall and a more diverse source of data than the CIFAR-10 model has. Data diversity and data volume are well-recognized as pre-requisites for robust models in general. In this light, it doesn&#x27;t seem surprising that a neural network is worse at this task than the child, because a neural network trained on CIFAR-10 is positively starved for training data compared to the two-year-old. The image resolution available to a child is better than the 32x32 CIFAR-10 images, so the child is able to learn information about the fine details of objects.&lt;/p&gt;<br><br>&lt;p&gt;The CIFAR-10 to two-year-old comparison is not perfect because the CIFAR-10 model will likely be trained with multiple passes over the same static images, while the child will see, using binocular vision, how objects are arranged in a three-dimensional world while moving about and with different lighting conditions and perspectives on the same objects.&lt;/p&gt;<br><br>&lt;p&gt;The anecdote about OP&#x27;s child implies a second question, &lt;/p&gt;<br><br>&lt;h1&gt;&quot;How can neural networks become self-teaching?&quot;&lt;/h1&gt;<br><br>&lt;p&gt;A child is endowed with some talent for self-teaching, so that new categories of objects can be added over time without having to start over from scratch. &lt;/p&gt;<br><br>&lt;ul&gt;<br>&lt;li&gt;&lt;p&gt;OP&#x27;s remark about &lt;a href=&quot;/questions/tagged/transfer-learning&quot; class=&quot;post-tag&quot; title=&quot;show questions tagged &amp;#39;transfer-learning&amp;#39;&quot; rel=&quot;tag&quot;&gt;transfer-learning&lt;/a&gt; names one kind of model adaptation in the machine learning context.&lt;/p&gt;&lt;/li&gt;<br>&lt;li&gt;&lt;p&gt;In comments, other users have pointed out that one- and few-shot learning* is another machine learning research area.&lt;/p&gt;&lt;/li&gt;<br>&lt;li&gt;&lt;p&gt;Additionally, &lt;a href=&quot;/questions/tagged/reinforcement-learning&quot; class=&quot;post-tag&quot; title=&quot;show questions tagged &amp;#39;reinforcement-learning&amp;#39;&quot; rel=&quot;tag&quot;&gt;reinforcement-learning&lt;/a&gt; addresses self-teaching models from a different perspective, essentially allowing robots to undertake trial-and-error experimentation to find optimal strategies for solving specific problems (e.g. playing chess).&lt;/p&gt;&lt;/li&gt;<br>&lt;/ul&gt;<br><br>&lt;p&gt;It&#x27;s probably true that all three of these machine learning paradigms are germane to improving how machines adapt to new computer vision tasks. Quickly adapting machine learning models to new tasks is an active area of research. However, because the practical goals of these projects (identify new instances of malware, recognize imposters in passport photos, index the internet) and criteria for success differ from the goals of a child learning about the world, and the fact that one is done in a computer using math and the other is done in organic material using chemistry, direct comparisons between the two will remain fraught.&lt;/p&gt;<br><br>&lt;hr&gt;<br><br>&lt;p&gt;As an aside, it would be interesting to study how to flip the CIFAR-10 problem around and train a neural network to recognize 6000 objects from 10 examples of each. But even this wouldn&#x27;t be a fair comparison to 2-year-old, because there would still be a large discrepancy in the total volume, diversity and resolution of the training data.&lt;/p&gt;<br><br>&lt;p&gt;*We don&#x27;t presently have a tags for one-shot learning or few-shot learning.&lt;/p&gt;<br></td>\n",
       "        <td>100</td>\n",
       "    </tr>\n",
       "    <tr>\n",
       "        <td>426878</td>\n",
       "        <td>&lt;p&gt;&lt;strong&gt;tl;dr&lt;/strong&gt; Even though this is an image classification dataset, it remains a &lt;strong&gt;very easy&lt;/strong&gt; task, for which one can easily find a &lt;strong&gt;direct mapping&lt;/strong&gt; from inputs to predictions.&lt;/p&gt;<br><br>&lt;hr&gt;<br><br>&lt;p&gt;&lt;strong&gt;Answer:&lt;/strong&gt;&lt;/p&gt;<br><br>&lt;p&gt;This is a very interesting question and thanks to the simplicity of logistic regression you can actually find out the answer. &lt;/p&gt;<br><br>&lt;p&gt;What logistic regression does is for each image accept &lt;span class=&quot;math-container&quot;&gt;$784$&lt;/span&gt; inputs and multiply them with weights to generate its prediction. The interesting thing is that due to the direct mapping between input and output (i.e. no hidden layer), the value of each weight corresponds to how much each one of the &lt;span class=&quot;math-container&quot;&gt;$784$&lt;/span&gt; inputs are taken into account when computing the probability of each class. Now, by taking the weights for each class and reshaping them into &lt;span class=&quot;math-container&quot;&gt;$28 \\times 28$&lt;/span&gt; (i.e. the image resolution), we can tell &lt;strong&gt;what pixels are most important for the computation of each class&lt;/strong&gt;.&lt;/p&gt;<br><br>&lt;p&gt;&lt;img src=&quot;https://i.stack.imgur.com/5IfjY.png&quot; alt=&quot;&quot;&gt;&lt;/p&gt;<br><br>&lt;p&gt;Note, again, that these are the &lt;strong&gt;weights&lt;/strong&gt;.&lt;/p&gt;<br><br>&lt;p&gt;Now take a look at the above image and focus on the first two digits (i.e. zero and one). Blue weights mean that this pixel&#x27;s intensity contributes a lot for that class and red values mean that it contributes negatively. &lt;/p&gt;<br><br>&lt;p&gt;Now imagine, how does a person draw a &lt;span class=&quot;math-container&quot;&gt;$0$&lt;/span&gt;? He draws a circular shape that&#x27;s empty in between. That&#x27;s exactly what the weights picked up on. In fact if someone draws the middle of the image, it counts &lt;strong&gt;negatively&lt;/strong&gt; as a zero. So to recognize zeros you don&#x27;t need some sophisticated filters and high-level features. You can just look at the drawn pixel locations and judge according to this.&lt;/p&gt;<br><br>&lt;p&gt;Same thing for the &lt;span class=&quot;math-container&quot;&gt;$1$&lt;/span&gt;. It always has a straight vertical line in the middle of the image. All else counts negatively.&lt;/p&gt;<br><br>&lt;p&gt;The rest of the digits are a bit more complicated, but with little imaginations you can see the &lt;span class=&quot;math-container&quot;&gt;$2$&lt;/span&gt;, the &lt;span class=&quot;math-container&quot;&gt;$3$&lt;/span&gt;, the &lt;span class=&quot;math-container&quot;&gt;$7$&lt;/span&gt; and the &lt;span class=&quot;math-container&quot;&gt;$8$&lt;/span&gt;. The rest of the numbers are a bit more difficult, which is what actually limits the logistic regression from reaching the high-90s.&lt;/p&gt;<br><br>&lt;p&gt;Through this you can see that logistic regression has a very good chance of getting a lot of images right and that&#x27;s why it scores so high.&lt;/p&gt;<br><br>&lt;hr&gt;<br><br>&lt;p&gt;The code to reproduce the above figure is a bit dated, but here you go:&lt;/p&gt;<br><br>&lt;pre class=&quot;lang-py prettyprint-override&quot;&gt;&lt;code&gt;import tensorflow as tf<br>import matplotlib.pyplot as plt<br>from tensorflow.examples.tutorials.mnist import input_data<br><br># Load MNIST:<br>mnist = input_data.read_data_sets(&quot;MNIST_data/&quot;, one_hot=True)<br><br># Create model<br>x = tf.placeholder(tf.float32, shape=(None, 784))<br>y = tf.placeholder(tf.float32, shape=(None, 10))<br><br>W = tf.Variable(tf.zeros((784,10)))<br>b = tf.Variable(tf.zeros((10)))<br>z = tf.matmul(x, W) + b<br><br>y_hat = tf.nn.softmax(z)<br>cross_entropy = tf.reduce_mean(-tf.reduce_sum(y * tf.log(y_hat), reduction_indices=[1]))<br>optimizer = tf.train.GradientDescentOptimizer(0.5).minimize(cross_entropy) # <br><br>correct_pred = tf.equal(tf.argmax(y_hat, 1), tf.argmax(y, 1))<br>accuracy = tf.reduce_mean(tf.cast(correct_pred, tf.float32))<br><br># Train model<br>batch_size = 64<br>with tf.Session() as sess:<br><br>    loss_tr, acc_tr, loss_ts, acc_ts = [], [], [], []<br><br>    sess.run(tf.global_variables_initializer()) <br><br>    for step in range(1, 1001):<br><br>        x_batch, y_batch = mnist.train.next_batch(batch_size) <br>        sess.run(optimizer, feed_dict={x: x_batch, y: y_batch})<br><br>        l_tr, a_tr = sess.run([cross_entropy, accuracy], feed_dict={x: x_batch, y: y_batch})<br>        l_ts, a_ts = sess.run([cross_entropy, accuracy], feed_dict={x: mnist.test.images, y: mnist.test.labels})<br>        loss_tr.append(l_tr)<br>        acc_tr.append(a_tr)<br>        loss_ts.append(l_ts)<br>        acc_ts.append(a_ts)<br><br>    weights = sess.run(W)      <br>    print(&#x27;Test Accuracy =&#x27;, sess.run(accuracy, feed_dict={x: mnist.test.images, y: mnist.test.labels})) <br><br># Plotting:<br>for i in range(10):<br>    plt.subplot(2, 5, i+1)<br>    weight = weights[:,i].reshape([28,28])<br>    plt.title(i)<br>    plt.imshow(weight, cmap=&#x27;RdBu&#x27;)  # as noted by @Eric Duminil, cmap=&#x27;gray&#x27; makes the numbers stand out more<br>    frame1 = plt.gca()<br>    frame1.axes.get_xaxis().set_visible(False)<br>    frame1.axes.get_yaxis().set_visible(False)<br>&lt;/code&gt;&lt;/pre&gt;<br></td>\n",
       "        <td>93</td>\n",
       "    </tr>\n",
       "    <tr>\n",
       "        <td>388578</td>\n",
       "        <td>&lt;p&gt;To me &quot;1 in 80 deaths...&quot; is by far the clearer statement.  The denominator in your &quot;1 in 80&quot; is the set of all death events and that statement makes it explicit. &lt;/p&gt;<br><br>&lt;p&gt;There&#x27;s ambiguity in the &quot;1 in 80 people...&quot; formulation. You really mean &quot;1 in 80 people who dies...&quot; but the statement can just as easily be interpreted as &quot;1 in 80 people now alive...&quot; or similar. &lt;/p&gt;<br><br>&lt;p&gt;I&#x27;m all for being explicit about the reference set in probability or frequency assertions like this. If you&#x27;re talking about the proportion of deaths, then say &quot;deaths&quot; not &quot;people&quot;. &lt;/p&gt;<br></td>\n",
       "        <td>80</td>\n",
       "    </tr>\n",
       "    <tr>\n",
       "        <td>431370</td>\n",
       "        <td>&lt;p&gt;It seems very counter intuitive to many people that a given diagnostic test with very high accuracy (say 99%) can generate massively more false positives than true positives in some situations, namely where the population of true positives is very small compared to whole population.&lt;/p&gt;<br><br>&lt;p&gt;I see people making this mistake often e.g. when arguing for wider public health screenings, or wider anti-crime surveillance measures etc but I am at a loss for how to succinctly describe the mistake people are making.&lt;/p&gt;<br><br>&lt;p&gt;Does this phenomenon / statistical fallacy have a name? Failing that has anyone got a good, terse, jargon free intuition/example that would help me explain it to a lay person.&lt;/p&gt;<br><br>&lt;p&gt;Apologies if this is the wrong forum to ask this. If so please direct me to a more appropriate one.&lt;/p&gt;<br></td>\n",
       "        <td>77</td>\n",
       "    </tr>\n",
       "</table>"
      ],
      "text/plain": [
       "[(431397, '<p>Yes there is. Generally it is termed <strong>base rate fallacy</strong> or more specific <strong>false positive paradox</strong>. There is even a wikipedia article about it: <a href=\"https://en.wikipedia.org/wiki/Base_rate_fallacy\" rel=\"noreferrer\">see here</a></p>\\n', 101),\n",
       " (394128, '<p>I caution against expecting strong resemblance between biological and artificial neural networks. I think the name \"neural networks\" is a bit dang ... (5584 characters truncated) ... l volume, diversity and resolution of the training data.</p>\\n\\n<p>*We don\\'t presently have a tags for one-shot learning or few-shot learning.</p>\\n', 100),\n",
       " (426878, '<p><strong>tl;dr</strong> Even though this is an image classification dataset, it remains a <strong>very easy</strong> task, for which one can easily ... (4424 characters truncated) ... and out more\\n    frame1 = plt.gca()\\n    frame1.axes.get_xaxis().set_visible(False)\\n    frame1.axes.get_yaxis().set_visible(False)\\n</code></pre>\\n', 93),\n",
       " (388578, '<p>To me \"1 in 80 deaths...\" is by far the clearer statement.  The denominator in your \"1 in 80\" is the set of all death events and that statement ma ... (282 characters truncated) ... rence set in probability or frequency assertions like this. If you\\'re talking about the proportion of deaths, then say \"deaths\" not \"people\". </p>\\n', 80),\n",
       " (431370, '<p>It seems very counter intuitive to many people that a given diagnostic test with very high accuracy (say 99%) can generate massively more false po ... (520 characters truncated) ... lp me explain it to a lay person.</p>\\n\\n<p>Apologies if this is the wrong forum to ask this. If so please direct me to a more appropriate one.</p>\\n', 77)]"
      ]
     },
     "execution_count": 67,
     "metadata": {},
     "output_type": "execute_result"
    }
   ],
   "source": [
    "%%sql\n",
    "SELECT Id, Body, Score\n",
    "    FROM posts\n",
    "    ORDER BY Score DESC\n",
    "    LIMIT 5"
   ]
  },
  {
   "cell_type": "code",
   "execution_count": 68,
   "metadata": {},
   "outputs": [],
   "source": [
    "sql = \"\"\"\n",
    "    SELECT SELECT Id, Body, Score FROM posts ORDER BY Score DESC LIMIT 5\n",
    "    \"\"\"\n",
    "store_query(\"Task 2\", \"Find the top 5 posts with the highest scores\", sql)"
   ]
  },
  {
   "cell_type": "markdown",
   "metadata": {},
   "source": [
    "What are the 5 most frequent scores on posts?"
   ]
  },
  {
   "cell_type": "code",
   "execution_count": 69,
   "metadata": {},
   "outputs": [
    {
     "name": "stdout",
     "output_type": "stream",
     "text": [
      " * sqlite:///chatdata.db\n",
      "Done.\n"
     ]
    },
    {
     "data": {
      "text/html": [
       "<table>\n",
       "    <tr>\n",
       "        <th>Score</th>\n",
       "        <th>count</th>\n",
       "    </tr>\n",
       "    <tr>\n",
       "        <td>0</td>\n",
       "        <td>19888</td>\n",
       "    </tr>\n",
       "    <tr>\n",
       "        <td>1</td>\n",
       "        <td>11867</td>\n",
       "    </tr>\n",
       "    <tr>\n",
       "        <td>2</td>\n",
       "        <td>5094</td>\n",
       "    </tr>\n",
       "    <tr>\n",
       "        <td>3</td>\n",
       "        <td>2228</td>\n",
       "    </tr>\n",
       "    <tr>\n",
       "        <td>4</td>\n",
       "        <td>1059</td>\n",
       "    </tr>\n",
       "</table>"
      ],
      "text/plain": [
       "[(0, 19888), (1, 11867), (2, 5094), (3, 2228), (4, 1059)]"
      ]
     },
     "execution_count": 69,
     "metadata": {},
     "output_type": "execute_result"
    }
   ],
   "source": [
    "%%sql\n",
    "SELECT Score,\n",
    "       COUNT(Id) AS count\n",
    "            FROM posts\n",
    "            GROUP BY Score\n",
    "            ORDER BY count DESC\n",
    "            LIMIT 5"
   ]
  },
  {
   "cell_type": "code",
   "execution_count": 70,
   "metadata": {},
   "outputs": [],
   "source": [
    "sql = \"\"\"\n",
    "    SELECT Score, COUNT(Id) AS count FROM posts GROUP BY Score ORDER BY count DESC LIMIT 5\n",
    "    \"\"\"\n",
    "store_query(\"Task 2\", \"What are the 5 most frequent scores on posts?\", sql)"
   ]
  },
  {
   "cell_type": "markdown",
   "metadata": {},
   "source": [
    "How many posts have the keyword \"data\" in their tags?"
   ]
  },
  {
   "cell_type": "code",
   "execution_count": 71,
   "metadata": {},
   "outputs": [
    {
     "name": "stdout",
     "output_type": "stream",
     "text": [
      " * sqlite:///chatdata.db\n",
      "Done.\n"
     ]
    },
    {
     "data": {
      "text/html": [
       "<table>\n",
       "    <tr>\n",
       "        <th>COUNT(Id)</th>\n",
       "    </tr>\n",
       "    <tr>\n",
       "        <td>2242</td>\n",
       "    </tr>\n",
       "</table>"
      ],
      "text/plain": [
       "[(2242,)]"
      ]
     },
     "execution_count": 71,
     "metadata": {},
     "output_type": "execute_result"
    }
   ],
   "source": [
    "%%sql\n",
    "SELECT COUNT(Id)\n",
    "    FROM posts\n",
    "    WHERE Tags like '%data%'"
   ]
  },
  {
   "cell_type": "code",
   "execution_count": 72,
   "metadata": {},
   "outputs": [],
   "source": [
    "sql = \"\"\"\n",
    "    SELECT COUNT(Id) FROM posts WHERE Tags like '%data%'\n",
    "    \"\"\"\n",
    "store_query(\"Task 2\", \"How many posts have the keyword 'data' in their tags?\", sql)"
   ]
  },
  {
   "cell_type": "markdown",
   "metadata": {},
   "source": [
    "What are the 5 most frequent *CommentCount* for posts?"
   ]
  },
  {
   "cell_type": "code",
   "execution_count": 73,
   "metadata": {},
   "outputs": [
    {
     "name": "stdout",
     "output_type": "stream",
     "text": [
      " * sqlite:///chatdata.db\n",
      "Done.\n"
     ]
    },
    {
     "data": {
      "text/html": [
       "<table>\n",
       "    <tr>\n",
       "        <th>CommentCount</th>\n",
       "        <th>post_qty</th>\n",
       "    </tr>\n",
       "    <tr>\n",
       "        <td>0</td>\n",
       "        <td>21713</td>\n",
       "    </tr>\n",
       "    <tr>\n",
       "        <td>1</td>\n",
       "        <td>6460</td>\n",
       "    </tr>\n",
       "    <tr>\n",
       "        <td>2</td>\n",
       "        <td>4966</td>\n",
       "    </tr>\n",
       "    <tr>\n",
       "        <td>3</td>\n",
       "        <td>3063</td>\n",
       "    </tr>\n",
       "    <tr>\n",
       "        <td>4</td>\n",
       "        <td>2026</td>\n",
       "    </tr>\n",
       "</table>"
      ],
      "text/plain": [
       "[(0, 21713), (1, 6460), (2, 4966), (3, 3063), (4, 2026)]"
      ]
     },
     "execution_count": 73,
     "metadata": {},
     "output_type": "execute_result"
    }
   ],
   "source": [
    "%%sql\n",
    "SELECT CommentCount,\n",
    "       COUNT(Id) AS post_qty\n",
    "            FROM posts\n",
    "                GROUP BY CommentCount\n",
    "                ORDER BY post_qty DESC\n",
    "                LIMIT 5"
   ]
  },
  {
   "cell_type": "code",
   "execution_count": 74,
   "metadata": {},
   "outputs": [],
   "source": [
    "sql = \"\"\"\n",
    "    SELECT CommentCount, COUNT(Id) AS post_qty FROM posts GROUP BY CommentCount ORDER BY post_qty DESC LIMIT 5\n",
    "    \"\"\"\n",
    "store_query(\"Task 2\", \"What are the 5 most frequent CommentCount for posts?\", sql)"
   ]
  },
  {
   "cell_type": "markdown",
   "metadata": {},
   "source": [
    "How many posts have an accepted answer?"
   ]
  },
  {
   "cell_type": "code",
   "execution_count": 75,
   "metadata": {},
   "outputs": [
    {
     "name": "stdout",
     "output_type": "stream",
     "text": [
      " * sqlite:///chatdata.db\n",
      "Done.\n"
     ]
    },
    {
     "data": {
      "text/html": [
       "<table>\n",
       "    <tr>\n",
       "        <th>COUNT(Id)</th>\n",
       "    </tr>\n",
       "    <tr>\n",
       "        <td>5341</td>\n",
       "    </tr>\n",
       "</table>"
      ],
      "text/plain": [
       "[(5341,)]"
      ]
     },
     "execution_count": 75,
     "metadata": {},
     "output_type": "execute_result"
    }
   ],
   "source": [
    "%%sql\n",
    "SELECT COUNT(Id) FROM posts\n",
    "    WHERE AcceptedAnswerId>0"
   ]
  },
  {
   "cell_type": "code",
   "execution_count": 76,
   "metadata": {},
   "outputs": [],
   "source": [
    "sql = \"\"\"\n",
    "    SELECT COUNT(Id) FROM posts WHERE AcceptedAnswerId>0\n",
    "    \"\"\"\n",
    "store_query(\"Task 2\", \"How many posts have an accepted answer?\", sql)"
   ]
  },
  {
   "cell_type": "markdown",
   "metadata": {},
   "source": [
    "What is the average reputation of table users?"
   ]
  },
  {
   "cell_type": "code",
   "execution_count": 77,
   "metadata": {},
   "outputs": [
    {
     "name": "stdout",
     "output_type": "stream",
     "text": [
      " * sqlite:///chatdata.db\n",
      "Done.\n"
     ]
    },
    {
     "data": {
      "text/html": [
       "<table>\n",
       "    <tr>\n",
       "        <th>AVG(Reputation)</th>\n",
       "    </tr>\n",
       "    <tr>\n",
       "        <td>312.3509124484032</td>\n",
       "    </tr>\n",
       "</table>"
      ],
      "text/plain": [
       "[(312.3509124484032,)]"
      ]
     },
     "execution_count": 77,
     "metadata": {},
     "output_type": "execute_result"
    }
   ],
   "source": [
    "%sql SELECT AVG(Reputation) FROM users"
   ]
  },
  {
   "cell_type": "code",
   "execution_count": 78,
   "metadata": {},
   "outputs": [],
   "source": [
    "sql = \"\"\"\n",
    "    SELECT AVG(Reputation) FROM users\n",
    "    \"\"\"\n",
    "store_query(\"Task 2\", \"What is the average reputation of table users?\", sql)"
   ]
  },
  {
   "cell_type": "markdown",
   "metadata": {},
   "source": [
    "What are the min and max reputation of users?"
   ]
  },
  {
   "cell_type": "code",
   "execution_count": 79,
   "metadata": {},
   "outputs": [
    {
     "name": "stdout",
     "output_type": "stream",
     "text": [
      " * sqlite:///chatdata.db\n",
      "Done.\n"
     ]
    },
    {
     "data": {
      "text/html": [
       "<table>\n",
       "    <tr>\n",
       "        <th>MIN(Reputation)</th>\n",
       "        <th>MAX(Reputation)</th>\n",
       "    </tr>\n",
       "    <tr>\n",
       "        <td>1</td>\n",
       "        <td>228662</td>\n",
       "    </tr>\n",
       "</table>"
      ],
      "text/plain": [
       "[(1, 228662)]"
      ]
     },
     "execution_count": 79,
     "metadata": {},
     "output_type": "execute_result"
    }
   ],
   "source": [
    "%sql SELECT MIN(Reputation), MAX(Reputation) FROM users"
   ]
  },
  {
   "cell_type": "code",
   "execution_count": 80,
   "metadata": {},
   "outputs": [],
   "source": [
    "sql = \"\"\"\n",
    "    SELECT MIN(Reputation), MAX(Reputation) FROM users\n",
    "    \"\"\"\n",
    "store_query(\"Task 2\", \"What are the min and max reputation of users?\", sql)"
   ]
  },
  {
   "cell_type": "markdown",
   "metadata": {},
   "source": [
    "What is the length of the body of 5 most viewed posts?"
   ]
  },
  {
   "cell_type": "code",
   "execution_count": 81,
   "metadata": {},
   "outputs": [
    {
     "name": "stdout",
     "output_type": "stream",
     "text": [
      " * sqlite:///chatdata.db\n",
      "Done.\n"
     ]
    },
    {
     "data": {
      "text/html": [
       "<table>\n",
       "    <tr>\n",
       "        <th>Id</th>\n",
       "        <th>LENGTH(Body)</th>\n",
       "        <th>ViewCount</th>\n",
       "    </tr>\n",
       "    <tr>\n",
       "        <td>388566</td>\n",
       "        <td>2270</td>\n",
       "        <td>19542</td>\n",
       "    </tr>\n",
       "    <tr>\n",
       "        <td>394118</td>\n",
       "        <td>512</td>\n",
       "        <td>16317</td>\n",
       "    </tr>\n",
       "    <tr>\n",
       "        <td>431370</td>\n",
       "        <td>811</td>\n",
       "        <td>11723</td>\n",
       "    </tr>\n",
       "    <tr>\n",
       "        <td>398646</td>\n",
       "        <td>2148</td>\n",
       "        <td>9850</td>\n",
       "    </tr>\n",
       "    <tr>\n",
       "        <td>434128</td>\n",
       "        <td>1172</td>\n",
       "        <td>6718</td>\n",
       "    </tr>\n",
       "</table>"
      ],
      "text/plain": [
       "[(388566, 2270, 19542),\n",
       " (394118, 512, 16317),\n",
       " (431370, 811, 11723),\n",
       " (398646, 2148, 9850),\n",
       " (434128, 1172, 6718)]"
      ]
     },
     "execution_count": 81,
     "metadata": {},
     "output_type": "execute_result"
    }
   ],
   "source": [
    "%%sql\n",
    "SELECT Id,\n",
    "       LENGTH(Body),\n",
    "       ViewCount \n",
    "            FROM posts\n",
    "            ORDER BY ViewCount DESC\n",
    "            LIMIT 5"
   ]
  },
  {
   "cell_type": "code",
   "execution_count": 82,
   "metadata": {},
   "outputs": [],
   "source": [
    "sql = \"\"\"\n",
    "    SELECT Id, LENGTH(Body), ViewCount FROM posts ORDER BY ViewCount DESC LIMIT 5\n",
    "    \"\"\"\n",
    "store_query(\"Task 2\", \"What is the length of the body of 5 most viewed posts?\", sql)"
   ]
  },
  {
   "cell_type": "markdown",
   "metadata": {},
   "source": [
    "How many different locations are there in the users table?"
   ]
  },
  {
   "cell_type": "code",
   "execution_count": 83,
   "metadata": {},
   "outputs": [
    {
     "name": "stdout",
     "output_type": "stream",
     "text": [
      " * sqlite:///chatdata.db\n",
      "Done.\n"
     ]
    },
    {
     "data": {
      "text/html": [
       "<table>\n",
       "    <tr>\n",
       "        <th>COUNT(DISTINCT Location)</th>\n",
       "    </tr>\n",
       "    <tr>\n",
       "        <td>1900</td>\n",
       "    </tr>\n",
       "</table>"
      ],
      "text/plain": [
       "[(1900,)]"
      ]
     },
     "execution_count": 83,
     "metadata": {},
     "output_type": "execute_result"
    }
   ],
   "source": [
    "%sql SELECT COUNT(DISTINCT Location) FROM users"
   ]
  },
  {
   "cell_type": "code",
   "execution_count": 84,
   "metadata": {},
   "outputs": [],
   "source": [
    "sql = \"\"\"\n",
    "    SELECT COUNT(DISTINCT Location) FROM users\n",
    "    \"\"\"\n",
    "store_query(\"Task 2\", \"How many different locations are there in the users table?\", sql)"
   ]
  },
  {
   "cell_type": "markdown",
   "metadata": {},
   "source": [
    "What are the top 5 locations of users?"
   ]
  },
  {
   "cell_type": "code",
   "execution_count": 85,
   "metadata": {},
   "outputs": [
    {
     "name": "stdout",
     "output_type": "stream",
     "text": [
      " * sqlite:///chatdata.db\n",
      "Done.\n"
     ]
    },
    {
     "data": {
      "text/html": [
       "<table>\n",
       "    <tr>\n",
       "        <th>Location</th>\n",
       "        <th>COUNT(Id)</th>\n",
       "    </tr>\n",
       "    <tr>\n",
       "        <td>Germany</td>\n",
       "        <td>117</td>\n",
       "    </tr>\n",
       "    <tr>\n",
       "        <td>India</td>\n",
       "        <td>100</td>\n",
       "    </tr>\n",
       "    <tr>\n",
       "        <td>United States</td>\n",
       "        <td>69</td>\n",
       "    </tr>\n",
       "    <tr>\n",
       "        <td>Paris, France</td>\n",
       "        <td>66</td>\n",
       "    </tr>\n",
       "    <tr>\n",
       "        <td>London, United Kingdom</td>\n",
       "        <td>63</td>\n",
       "    </tr>\n",
       "</table>"
      ],
      "text/plain": [
       "[('Germany', 117),\n",
       " ('India', 100),\n",
       " ('United States', 69),\n",
       " ('Paris, France', 66),\n",
       " ('London, United Kingdom', 63)]"
      ]
     },
     "execution_count": 85,
     "metadata": {},
     "output_type": "execute_result"
    }
   ],
   "source": [
    "%%sql\n",
    "SELECT Location, COUNT(Id)\n",
    "    FROM users\n",
    "    WHERE Location<>''\n",
    "    GROUP BY Location\n",
    "    ORDER BY COUNT(Id) DESC\n",
    "    LIMIT 5"
   ]
  },
  {
   "cell_type": "code",
   "execution_count": 86,
   "metadata": {},
   "outputs": [],
   "source": [
    "sql = \"\"\"\n",
    "    SELECT Location, COUNT(Id)\n",
    "    FROM users\n",
    "    WHERE Location<>''\n",
    "    GROUP BY Location\n",
    "    ORDER BY COUNT(Id) DESC\n",
    "    LIMIT 5\n",
    "    \"\"\"\n",
    "store_query(\"Task 2\", \"What are the top 5 locations of users?\", sql)"
   ]
  },
  {
   "cell_type": "markdown",
   "metadata": {},
   "source": [
    "Rank the days of the week from highest to lowest in terms of the volume of ViewCount as a percentage."
   ]
  },
  {
   "cell_type": "code",
   "execution_count": 87,
   "metadata": {},
   "outputs": [
    {
     "name": "stdout",
     "output_type": "stream",
     "text": [
      " * sqlite:///chatdata.db\n",
      "Done.\n"
     ]
    },
    {
     "data": {
      "text/html": [
       "<table>\n",
       "    <tr>\n",
       "        <th>day_of_week</th>\n",
       "        <th>percentage</th>\n",
       "    </tr>\n",
       "    <tr>\n",
       "        <td>Thursday</td>\n",
       "        <td>16.81947628859075</td>\n",
       "    </tr>\n",
       "    <tr>\n",
       "        <td>Wednesday</td>\n",
       "        <td>16.76868913850077</td>\n",
       "    </tr>\n",
       "    <tr>\n",
       "        <td>Tuesday</td>\n",
       "        <td>16.25503368644186</td>\n",
       "    </tr>\n",
       "    <tr>\n",
       "        <td>Monday</td>\n",
       "        <td>15.806726735198032</td>\n",
       "    </tr>\n",
       "    <tr>\n",
       "        <td>Friday</td>\n",
       "        <td>13.563061049604483</td>\n",
       "    </tr>\n",
       "    <tr>\n",
       "        <td>Sunday</td>\n",
       "        <td>11.89560881413273</td>\n",
       "    </tr>\n",
       "    <tr>\n",
       "        <td>Saturday</td>\n",
       "        <td>8.891404287531374</td>\n",
       "    </tr>\n",
       "</table>"
      ],
      "text/plain": [
       "[('Thursday', 16.81947628859075),\n",
       " ('Wednesday', 16.76868913850077),\n",
       " ('Tuesday', 16.25503368644186),\n",
       " ('Monday', 15.806726735198032),\n",
       " ('Friday', 13.563061049604483),\n",
       " ('Sunday', 11.89560881413273),\n",
       " ('Saturday', 8.891404287531374)]"
      ]
     },
     "execution_count": 87,
     "metadata": {},
     "output_type": "execute_result"
    }
   ],
   "source": [
    "%%sql\n",
    "SELECT\n",
    "    CASE CAST(strftime('%w', CreationDate) AS INTEGER)\n",
    "                WHEN 1 THEN 'Monday'\n",
    "                WHEN 2 THEN 'Tuesday'\n",
    "                WHEN 3 THEN 'Wednesday'\n",
    "                WHEN 4 THEN 'Thursday'\n",
    "                WHEN 5 THEN 'Friday'\n",
    "                WHEN 6 THEN 'Saturday'\n",
    "                ELSE 'Sunday'\n",
    "    END day_of_week,\n",
    "    (SUM(ViewCount)*100.0)/(SELECT SUM(ViewCount) FROM posts) AS percentage\n",
    "                FROM posts\n",
    "                    GROUP BY day_of_week\n",
    "                    ORDER BY percentage DESC"
   ]
  },
  {
   "cell_type": "code",
   "execution_count": 88,
   "metadata": {},
   "outputs": [],
   "source": [
    "sql = \"\"\"\n",
    "SELECT\n",
    "    CASE CAST(strftime('%w', CreationDate) AS INTEGER)\n",
    "                WHEN 1 THEN 'Monday'\n",
    "                WHEN 2 THEN 'Tuesday'\n",
    "                WHEN 3 THEN 'Wednesday'\n",
    "                WHEN 4 THEN 'Thursday'\n",
    "                WHEN 5 THEN 'Friday'\n",
    "                WHEN 6 THEN 'Saturday'\n",
    "                ELSE 'Sunday'\n",
    "    END day_of_week,\n",
    "    (SUM(ViewCount)*100.0)/(SELECT SUM(ViewCount) FROM posts) AS percentage\n",
    "                FROM posts\n",
    "                    GROUP BY day_of_week\n",
    "                    ORDER BY percentage DESC\n",
    "    \"\"\"\n",
    "store_query(\"Task 2\",\n",
    "            \"Rank the days of the week from highest to lowest in terms of the volume of ViewCount as a percentage\",\n",
    "            sql)"
   ]
  },
  {
   "cell_type": "markdown",
   "metadata": {},
   "source": [
    "# Cross Table Queries"
   ]
  },
  {
   "cell_type": "markdown",
   "metadata": {},
   "source": [
    "Let's continue the analysis with our multi-table queries.  "
   ]
  },
  {
   "cell_type": "markdown",
   "metadata": {},
   "source": [
    "How many posts have been created by a user that has a filled out the \"AboutMe\" section?"
   ]
  },
  {
   "cell_type": "code",
   "execution_count": 89,
   "metadata": {},
   "outputs": [
    {
     "name": "stdout",
     "output_type": "stream",
     "text": [
      " * sqlite:///chatdata.db\n",
      "Done.\n"
     ]
    },
    {
     "data": {
      "text/html": [
       "<table>\n",
       "    <tr>\n",
       "        <th>posts_qty</th>\n",
       "    </tr>\n",
       "    <tr>\n",
       "        <td>17189</td>\n",
       "    </tr>\n",
       "</table>"
      ],
      "text/plain": [
       "[(17189,)]"
      ]
     },
     "execution_count": 89,
     "metadata": {},
     "output_type": "execute_result"
    }
   ],
   "source": [
    "%%sql\n",
    "SELECT COUNT(posts.Id) AS posts_qty\n",
    "    FROM posts INNER JOIN users ON users.Id=posts.OwnerUserId\n",
    "        WHERE users.AboutMe <> 'None'"
   ]
  },
  {
   "cell_type": "code",
   "execution_count": 90,
   "metadata": {},
   "outputs": [],
   "source": [
    "sql = \"\"\"\n",
    "    SELECT COUNT(posts.Id) AS posts_qty\n",
    "        FROM posts INNER JOIN users ON users.Id=posts.OwnerUserId\n",
    "            WHERE users.AboutMe <> 'None'\n",
    "    \"\"\"\n",
    "store_query(\"Task 3\",\n",
    "            \"How many posts have been created by a user that has a filled out the 'AboutMe' section?\",\n",
    "            sql)"
   ]
  },
  {
   "cell_type": "markdown",
   "metadata": {},
   "source": [
    "Considering only the users with an \"AboutMe\", how many posts are there per user?"
   ]
  },
  {
   "cell_type": "code",
   "execution_count": 91,
   "metadata": {},
   "outputs": [
    {
     "name": "stdout",
     "output_type": "stream",
     "text": [
      " * sqlite:///chatdata.db\n",
      "Done.\n"
     ]
    },
    {
     "data": {
      "text/html": [
       "<table>\n",
       "    <tr>\n",
       "        <th>posts_per_user</th>\n",
       "    </tr>\n",
       "    <tr>\n",
       "        <td>5.0</td>\n",
       "    </tr>\n",
       "</table>"
      ],
      "text/plain": [
       "[(5.0,)]"
      ]
     },
     "execution_count": 91,
     "metadata": {},
     "output_type": "execute_result"
    }
   ],
   "source": [
    "%%sql\n",
    "SELECT CAST(SUM(posts_qty)/COUNT(user_id) AS FLOAT) AS posts_per_user\n",
    "    FROM (\n",
    "        SELECT users.Id AS user_id,\n",
    "               COUNT(posts.Id) AS posts_qty\n",
    "            FROM posts INNER JOIN users ON users.Id=posts.OwnerUserId\n",
    "            WHERE users.AboutMe <> ''\n",
    "            GROUP BY users.Id\n",
    ")"
   ]
  },
  {
   "cell_type": "code",
   "execution_count": 92,
   "metadata": {},
   "outputs": [],
   "source": [
    "sql = \"\"\"\n",
    "    SELECT CAST(SUM(posts_qty)/COUNT(user_id) AS FLOAT) AS posts_per_user\n",
    "        FROM (\n",
    "            SELECT users.Id AS user_id,\n",
    "                   COUNT(posts.Id) AS posts_qty\n",
    "                FROM posts INNER JOIN users ON users.Id=posts.OwnerUserId\n",
    "                WHERE users.AboutMe <> ''\n",
    "                GROUP BY users.Id\n",
    "             )\n",
    "    \"\"\"\n",
    "store_query(\"Task 3\",\n",
    "            \"Considering only the users with an 'AboutMe', how many posts are there per user?\",\n",
    "            sql)"
   ]
  },
  {
   "cell_type": "markdown",
   "metadata": {},
   "source": [
    "Not taking into account the CommentCount field in the table posts, what are the Top 10 posts in terms of number of comments?"
   ]
  },
  {
   "cell_type": "code",
   "execution_count": 93,
   "metadata": {},
   "outputs": [
    {
     "name": "stdout",
     "output_type": "stream",
     "text": [
      " * sqlite:///chatdata.db\n",
      "Done.\n"
     ]
    },
    {
     "data": {
      "text/html": [
       "<table>\n",
       "    <tr>\n",
       "        <th>post_id</th>\n",
       "        <th>comments_qty</th>\n",
       "    </tr>\n",
       "    <tr>\n",
       "        <td>386853</td>\n",
       "        <td>66</td>\n",
       "    </tr>\n",
       "    <tr>\n",
       "        <td>386556</td>\n",
       "        <td>34</td>\n",
       "    </tr>\n",
       "    <tr>\n",
       "        <td>418910</td>\n",
       "        <td>31</td>\n",
       "    </tr>\n",
       "    <tr>\n",
       "        <td>395232</td>\n",
       "        <td>31</td>\n",
       "    </tr>\n",
       "    <tr>\n",
       "        <td>402987</td>\n",
       "        <td>27</td>\n",
       "    </tr>\n",
       "    <tr>\n",
       "        <td>386075</td>\n",
       "        <td>26</td>\n",
       "    </tr>\n",
       "    <tr>\n",
       "        <td>394118</td>\n",
       "        <td>24</td>\n",
       "    </tr>\n",
       "    <tr>\n",
       "        <td>402950</td>\n",
       "        <td>23</td>\n",
       "    </tr>\n",
       "    <tr>\n",
       "        <td>398828</td>\n",
       "        <td>23</td>\n",
       "    </tr>\n",
       "    <tr>\n",
       "        <td>396111</td>\n",
       "        <td>22</td>\n",
       "    </tr>\n",
       "</table>"
      ],
      "text/plain": [
       "[(386853, 66),\n",
       " (386556, 34),\n",
       " (418910, 31),\n",
       " (395232, 31),\n",
       " (402987, 27),\n",
       " (386075, 26),\n",
       " (394118, 24),\n",
       " (402950, 23),\n",
       " (398828, 23),\n",
       " (396111, 22)]"
      ]
     },
     "execution_count": 93,
     "metadata": {},
     "output_type": "execute_result"
    }
   ],
   "source": [
    "%%sql\n",
    "SELECT posts.Id AS post_id,\n",
    "       COUNT(comments.Id) AS comments_qty\n",
    "    FROM comments INNER JOIN posts ON posts.Id=comments.PostId\n",
    "    GROUP BY post_id\n",
    "    ORDER BY comments_qty DESC\n",
    "    LIMIT 10"
   ]
  },
  {
   "cell_type": "code",
   "execution_count": 94,
   "metadata": {},
   "outputs": [],
   "source": [
    "sql = \"\"\"\n",
    "    SELECT posts.Id AS post_id,\n",
    "       COUNT(comments.Id) AS comments_qty\n",
    "          FROM comments INNER JOIN posts ON posts.Id=comments.PostId\n",
    "                GROUP BY post_id\n",
    "                ORDER BY comments_qty DESC\n",
    "                LIMIT 10\n",
    "    \"\"\"\n",
    "store_query(\"Task 3\",\n",
    "            \"Not taking into account the CommentCount field in the table posts, what are the Top 10 posts in terms of number of comments?\",\n",
    "            sql)"
   ]
  },
  {
   "cell_type": "markdown",
   "metadata": {},
   "source": [
    "What are the Top 10 posts which have the highest cummulative (post score + comment score) score? "
   ]
  },
  {
   "cell_type": "code",
   "execution_count": 95,
   "metadata": {},
   "outputs": [
    {
     "name": "stdout",
     "output_type": "stream",
     "text": [
      " * sqlite:///chatdata.db\n",
      "Done.\n"
     ]
    },
    {
     "data": {
      "text/html": [
       "<table>\n",
       "    <tr>\n",
       "        <th>post_id</th>\n",
       "        <th>cum_score</th>\n",
       "    </tr>\n",
       "    <tr>\n",
       "        <td>394118</td>\n",
       "        <td>1778</td>\n",
       "    </tr>\n",
       "    <tr>\n",
       "        <td>394128</td>\n",
       "        <td>1569</td>\n",
       "    </tr>\n",
       "    <tr>\n",
       "        <td>418910</td>\n",
       "        <td>1094</td>\n",
       "    </tr>\n",
       "    <tr>\n",
       "        <td>398653</td>\n",
       "        <td>1021</td>\n",
       "    </tr>\n",
       "    <tr>\n",
       "        <td>388578</td>\n",
       "        <td>941</td>\n",
       "    </tr>\n",
       "    <tr>\n",
       "        <td>388566</td>\n",
       "        <td>885</td>\n",
       "    </tr>\n",
       "    <tr>\n",
       "        <td>396818</td>\n",
       "        <td>808</td>\n",
       "    </tr>\n",
       "    <tr>\n",
       "        <td>418814</td>\n",
       "        <td>621</td>\n",
       "    </tr>\n",
       "    <tr>\n",
       "        <td>394258</td>\n",
       "        <td>570</td>\n",
       "    </tr>\n",
       "    <tr>\n",
       "        <td>394439</td>\n",
       "        <td>566</td>\n",
       "    </tr>\n",
       "</table>"
      ],
      "text/plain": [
       "[(394118, 1778),\n",
       " (394128, 1569),\n",
       " (418910, 1094),\n",
       " (398653, 1021),\n",
       " (388578, 941),\n",
       " (388566, 885),\n",
       " (396818, 808),\n",
       " (418814, 621),\n",
       " (394258, 570),\n",
       " (394439, 566)]"
      ]
     },
     "execution_count": 95,
     "metadata": {},
     "output_type": "execute_result"
    }
   ],
   "source": [
    "%%sql\n",
    "SELECT posts.Id AS post_id,\n",
    "       SUM(comments.Score)+SUM(posts.Score) AS cum_score\n",
    "             FROM comments INNER JOIN posts ON posts.Id=comments.PostId\n",
    "                  GROUP BY post_id\n",
    "                  ORDER BY cum_score DESC\n",
    "                  LIMIT 10"
   ]
  },
  {
   "cell_type": "code",
   "execution_count": 96,
   "metadata": {},
   "outputs": [],
   "source": [
    "sql = \"\"\"\n",
    "    SELECT posts.Id AS post_id,\n",
    "           SUM(comments.Score)+SUM(posts.Score) AS cum_score\n",
    "             FROM comments INNER JOIN posts ON posts.Id=comments.PostId\n",
    "                  GROUP BY post_id\n",
    "                  ORDER BY cum_score DESC\n",
    "                  LIMIT 10\n",
    "    \"\"\"\n",
    "store_query(\"Task 3\",\n",
    "            \"What are the Top 10 posts which have the highest cummulative (post score + comment score) score?\",\n",
    "            sql)"
   ]
  },
  {
   "cell_type": "markdown",
   "metadata": {},
   "source": [
    "Who are the top 10 users who comment the most? "
   ]
  },
  {
   "cell_type": "code",
   "execution_count": 97,
   "metadata": {},
   "outputs": [
    {
     "name": "stdout",
     "output_type": "stream",
     "text": [
      " * sqlite:///chatdata.db\n",
      "Done.\n"
     ]
    },
    {
     "data": {
      "text/html": [
       "<table>\n",
       "    <tr>\n",
       "        <th>user_id</th>\n",
       "        <th>comment_qty</th>\n",
       "        <th>reputation</th>\n",
       "    </tr>\n",
       "    <tr>\n",
       "        <td>919</td>\n",
       "        <td>3301</td>\n",
       "        <td>223056</td>\n",
       "    </tr>\n",
       "    <tr>\n",
       "        <td>805</td>\n",
       "        <td>1153</td>\n",
       "        <td>228662</td>\n",
       "    </tr>\n",
       "    <tr>\n",
       "        <td>143489</td>\n",
       "        <td>1024</td>\n",
       "        <td>2890</td>\n",
       "    </tr>\n",
       "    <tr>\n",
       "        <td>11887</td>\n",
       "        <td>805</td>\n",
       "        <td>39200</td>\n",
       "    </tr>\n",
       "    <tr>\n",
       "        <td>85665</td>\n",
       "        <td>691</td>\n",
       "        <td>17391</td>\n",
       "    </tr>\n",
       "    <tr>\n",
       "        <td>164061</td>\n",
       "        <td>540</td>\n",
       "        <td>13485</td>\n",
       "    </tr>\n",
       "    <tr>\n",
       "        <td>22047</td>\n",
       "        <td>536</td>\n",
       "        <td>41385</td>\n",
       "    </tr>\n",
       "    <tr>\n",
       "        <td>158565</td>\n",
       "        <td>504</td>\n",
       "        <td>6482</td>\n",
       "    </tr>\n",
       "    <tr>\n",
       "        <td>7962</td>\n",
       "        <td>492</td>\n",
       "        <td>8030</td>\n",
       "    </tr>\n",
       "    <tr>\n",
       "        <td>35989</td>\n",
       "        <td>470</td>\n",
       "        <td>71548</td>\n",
       "    </tr>\n",
       "</table>"
      ],
      "text/plain": [
       "[(919, 3301, 223056),\n",
       " (805, 1153, 228662),\n",
       " (143489, 1024, 2890),\n",
       " (11887, 805, 39200),\n",
       " (85665, 691, 17391),\n",
       " (164061, 540, 13485),\n",
       " (22047, 536, 41385),\n",
       " (158565, 504, 6482),\n",
       " (7962, 492, 8030),\n",
       " (35989, 470, 71548)]"
      ]
     },
     "execution_count": 97,
     "metadata": {},
     "output_type": "execute_result"
    }
   ],
   "source": [
    "%%sql\n",
    "SELECT users.Id AS user_id,\n",
    "       COUNT(comments.Id) AS comment_qty,\n",
    "       users.Reputation AS reputation\n",
    "           FROM comments INNER JOIN users ON users.Id=comments.UserId\n",
    "                GROUP BY user_id\n",
    "                ORDER BY comment_qty DESC\n",
    "                LIMIT 10"
   ]
  },
  {
   "cell_type": "code",
   "execution_count": 98,
   "metadata": {},
   "outputs": [],
   "source": [
    "sql = \"\"\"\n",
    "    SELECT users.Id AS user_id,\n",
    "       COUNT(comments.Id) AS comment_qty,\n",
    "       users.Reputation AS reputation\n",
    "           FROM comments INNER JOIN users ON users.Id=comments.UserId\n",
    "                GROUP BY user_id\n",
    "                ORDER BY comment_qty DESC\n",
    "                LIMIT 10\n",
    "    \"\"\"\n",
    "store_query(\"Task 3\",\n",
    "            \"Who are the top 10 users who comment the most?\",\n",
    "            sql)"
   ]
  },
  {
   "cell_type": "markdown",
   "metadata": {},
   "source": [
    "Who are the top 10 users who post the most? "
   ]
  },
  {
   "cell_type": "code",
   "execution_count": 99,
   "metadata": {},
   "outputs": [
    {
     "name": "stdout",
     "output_type": "stream",
     "text": [
      " * sqlite:///chatdata.db\n",
      "Done.\n"
     ]
    },
    {
     "data": {
      "text/html": [
       "<table>\n",
       "    <tr>\n",
       "        <th>user_id</th>\n",
       "        <th>post_qty</th>\n",
       "        <th>reputation</th>\n",
       "    </tr>\n",
       "    <tr>\n",
       "        <td>805</td>\n",
       "        <td>230</td>\n",
       "        <td>228662</td>\n",
       "    </tr>\n",
       "    <tr>\n",
       "        <td>686</td>\n",
       "        <td>386</td>\n",
       "        <td>85077</td>\n",
       "    </tr>\n",
       "    <tr>\n",
       "        <td>35989</td>\n",
       "        <td>230</td>\n",
       "        <td>71548</td>\n",
       "    </tr>\n",
       "    <tr>\n",
       "        <td>7224</td>\n",
       "        <td>233</td>\n",
       "        <td>65999</td>\n",
       "    </tr>\n",
       "    <tr>\n",
       "        <td>1352</td>\n",
       "        <td>285</td>\n",
       "        <td>59160</td>\n",
       "    </tr>\n",
       "    <tr>\n",
       "        <td>173082</td>\n",
       "        <td>435</td>\n",
       "        <td>42553</td>\n",
       "    </tr>\n",
       "    <tr>\n",
       "        <td>11887</td>\n",
       "        <td>435</td>\n",
       "        <td>39200</td>\n",
       "    </tr>\n",
       "    <tr>\n",
       "        <td>3382</td>\n",
       "        <td>274</td>\n",
       "        <td>24841</td>\n",
       "    </tr>\n",
       "    <tr>\n",
       "        <td>204068</td>\n",
       "        <td>637</td>\n",
       "        <td>17404</td>\n",
       "    </tr>\n",
       "    <tr>\n",
       "        <td>85665</td>\n",
       "        <td>545</td>\n",
       "        <td>17391</td>\n",
       "    </tr>\n",
       "</table>"
      ],
      "text/plain": [
       "[(805, 230, 228662),\n",
       " (686, 386, 85077),\n",
       " (35989, 230, 71548),\n",
       " (7224, 233, 65999),\n",
       " (1352, 285, 59160),\n",
       " (173082, 435, 42553),\n",
       " (11887, 435, 39200),\n",
       " (3382, 274, 24841),\n",
       " (204068, 637, 17404),\n",
       " (85665, 545, 17391)]"
      ]
     },
     "execution_count": 99,
     "metadata": {},
     "output_type": "execute_result"
    }
   ],
   "source": [
    "%%sql\n",
    "SELECT * FROM \n",
    " (SELECT users.Id AS user_id,\n",
    "         COUNT(posts.Id) AS post_qty,\n",
    "         users.Reputation AS reputation\n",
    "             FROM posts INNER JOIN users ON users.Id=posts.OwnerUserId\n",
    "                 GROUP BY user_id\n",
    "                 ORDER BY post_qty DESC\n",
    "                 LIMIT 10)\n",
    "    ORDER BY reputation DESC"
   ]
  },
  {
   "cell_type": "code",
   "execution_count": 100,
   "metadata": {},
   "outputs": [],
   "source": [
    "sql = \"\"\"\n",
    "    SELECT * FROM \n",
    " (SELECT users.Id AS user_id,\n",
    "         COUNT(posts.Id) AS post_qty,\n",
    "         users.Reputation AS reputation\n",
    "             FROM posts INNER JOIN users ON users.Id=posts.OwnerUserId\n",
    "                 GROUP BY user_id\n",
    "                 ORDER BY post_qty DESC\n",
    "                 LIMIT 10)\n",
    "    ORDER BY reputation DESC\n",
    "    \"\"\"\n",
    "store_query(\"Task 3\",\n",
    "            \"Who are the top 10 users who post the most?\",\n",
    "            sql)"
   ]
  },
  {
   "cell_type": "markdown",
   "metadata": {},
   "source": [
    "# Check the Queries Table\n",
    "\n",
    "Now let's tidy up and check the queries table.\n",
    "\n",
    "First let's check it's contents:"
   ]
  },
  {
   "cell_type": "code",
   "execution_count": 101,
   "metadata": {
    "scrolled": false
   },
   "outputs": [
    {
     "name": "stdout",
     "output_type": "stream",
     "text": [
      " * sqlite:///chatdata.db\n",
      "Done.\n"
     ]
    },
    {
     "data": {
      "text/html": [
       "<table>\n",
       "    <tr>\n",
       "        <th>task</th>\n",
       "        <th>action</th>\n",
       "        <th>query</th>\n",
       "    </tr>\n",
       "    <tr>\n",
       "        <td>Single Table Queries</td>\n",
       "        <td>Which 5 users have viewed the most times and what is the sum of those views per user?</td>\n",
       "        <td><br>SELECT Id, SUM(Views) AS TotalViews<br>    FROM Users<br>        GROUP BY Id<br>            ORDER BY TotalViews DESC<br>                LIMIT 5<br>                </td>\n",
       "    </tr>\n",
       "    <tr>\n",
       "        <td>Task 1</td>\n",
       "        <td>Create table comments</td>\n",
       "        <td><br>    CREATE TABLE &quot;comments&quot; (<br>    &quot;Id&quot; INTEGER,<br>    &quot;PostId&quot; INTEGER,<br>    &quot;Score&quot; INTEGER,<br>    &quot;Text&quot; TEXT,<br>    &quot;CreationDate&quot; TEXT,<br>    &quot;UserId&quot; INTEGER,<br>    FOREIGN KEY(PostId) REFERENCES posts(Id),<br>    FOREIGN KEY(UserId) REFERENCES users(Id)<br>    )<br>    </td>\n",
       "    </tr>\n",
       "    <tr>\n",
       "        <td>Task 1</td>\n",
       "        <td>Create table users</td>\n",
       "        <td><br>    CREATE TABLE &quot;users&quot; (<br>    &quot;Id&quot; INTEGER NOT NULL PRIMARY KEY,<br>    &quot;Reputation&quot; INTEGER,<br>    &quot;CreationDate&quot; TEXT,<br>    &quot;DisplayName&quot; TEXT,<br>    &quot;LastAccessDate&quot; TEXT,<br>    &quot;WebsiteUrl&quot; TEXT,<br>    &quot;Location&quot; TEXT,<br>    &quot;AboutMe&quot; TEXT,<br>    &quot;Views&quot; INTEGER,<br>    &quot;UpVotes&quot; INTEGER,<br>    &quot;DownVotes&quot; INTEGER,<br>    &quot;ProfileImageUrl&quot; TEXT,<br>    &quot;AccountId&quot; INTEGER<br>    )<br>    </td>\n",
       "    </tr>\n",
       "    <tr>\n",
       "        <td>Task 1</td>\n",
       "        <td>Create table posts</td>\n",
       "        <td><br>    CREATE TABLE &quot;posts&quot; (<br>    &quot;Id&quot; INTEGER NOT NULL PRIMARY KEY,<br>    &quot;PostTypeId&quot; INTEGER,<br>    &quot;AcceptedAnswerId&quot; INTEGER,<br>    &quot;ParentId&quot; INTEGER,<br>    &quot;CreationDate&quot; TEXT,<br>    &quot;Score&quot; INTEGER,<br>    &quot;ViewCount&quot; INTEGER,<br>    &quot;Body&quot; TEXT,<br>    &quot;OwnerUserId&quot; INTEGER,<br>    &quot;OwnerDisplayName&quot; TEXT,<br>    &quot;LastEditorUserId&quot; INTEGER,<br>    &quot;LastEditorDisplayName&quot; TEXT,<br>    &quot;LastEditDate&quot; TEXT,<br>    &quot;LastActivityDate&quot; TEXT,<br>    &quot;Title&quot; TEXT,<br>    &quot;Tags&quot; TEXT,<br>    &quot;AnswerCount&quot; INTEGER,<br>    &quot;CommentCount&quot; INTEGER,<br>    &quot;FavoriteCount&quot; INTEGER,<br>    &quot;ClosedDate&quot; TEXT,<br>    &quot;CommunityOwnedDate&quot; TEXT<br>    )<br>    </td>\n",
       "    </tr>\n",
       "    <tr>\n",
       "        <td>Task 1</td>\n",
       "        <td>Count the number of rows in the comments table</td>\n",
       "        <td><br>    SELECT COUNT(*) FROM comments<br>    </td>\n",
       "    </tr>\n",
       "    <tr>\n",
       "        <td>Task 1</td>\n",
       "        <td>Count the number of rows in the users table</td>\n",
       "        <td><br>    SELECT COUNT(*) FROM users<br>    </td>\n",
       "    </tr>\n",
       "    <tr>\n",
       "        <td>Task 1</td>\n",
       "        <td>Count the number of rows in the posts table</td>\n",
       "        <td><br>    SELECT COUNT(*) FROM posts<br>    </td>\n",
       "    </tr>\n",
       "    <tr>\n",
       "        <td>Task 1</td>\n",
       "        <td>Select 5 random rows from the comments table</td>\n",
       "        <td><br>    SELECT * FROM comments ORDER BY random() LIMIT 5<br>    </td>\n",
       "    </tr>\n",
       "    <tr>\n",
       "        <td>Task 1</td>\n",
       "        <td>Select 5 random rows from the posts table</td>\n",
       "        <td><br>    SELECT * FROM posts ORDER BY random() LIMIT 5<br>    </td>\n",
       "    </tr>\n",
       "    <tr>\n",
       "        <td>Task 1</td>\n",
       "        <td>Select 5 random rows from the users table</td>\n",
       "        <td><br>    SELECT * FROM users ORDER BY random() LIMIT 5<br>    </td>\n",
       "    </tr>\n",
       "    <tr>\n",
       "        <td>Task 2</td>\n",
       "        <td>How many posts have 0 comments?</td>\n",
       "        <td><br>    SELECT COUNT(*) FROM posts WHERE CommentCount=0<br>    </td>\n",
       "    </tr>\n",
       "    <tr>\n",
       "        <td>Task 2</td>\n",
       "        <td>How many posts have 1 comments?</td>\n",
       "        <td><br>    SELECT COUNT(*) FROM posts WHERE CommentCount=1<br>    </td>\n",
       "    </tr>\n",
       "    <tr>\n",
       "        <td>Task 2</td>\n",
       "        <td>How many posts have 2 comments or more?</td>\n",
       "        <td><br>    SELECT COUNT(*) FROM posts WHERE CommentCount&gt;1<br>    </td>\n",
       "    </tr>\n",
       "    <tr>\n",
       "        <td>Task 2</td>\n",
       "        <td>Find the 5 posts with the highest viewcount</td>\n",
       "        <td><br>    SELECT Body, ViewCount FROM posts ORDER BY ViewCount DESC LIMIT 5<br>    </td>\n",
       "    </tr>\n",
       "    <tr>\n",
       "        <td>Task 2</td>\n",
       "        <td>Find the top 5 posts with the highest scores</td>\n",
       "        <td><br>    SELECT SELECT Id, Body, Score FROM posts ORDER BY Score DESC LIMIT 5<br>    </td>\n",
       "    </tr>\n",
       "    <tr>\n",
       "        <td>Task 2</td>\n",
       "        <td>What are the 5 most frequent scores on posts?</td>\n",
       "        <td><br>    SELECT Score, COUNT(Id) AS count FROM posts GROUP BY Score ORDER BY count DESC LIMIT 5<br>    </td>\n",
       "    </tr>\n",
       "    <tr>\n",
       "        <td>Task 2</td>\n",
       "        <td>How many posts have the keyword &#x27;data&#x27; in their tags?</td>\n",
       "        <td><br>    SELECT COUNT(Id) FROM posts WHERE Tags like &#x27;%data%&#x27;<br>    </td>\n",
       "    </tr>\n",
       "    <tr>\n",
       "        <td>Task 2</td>\n",
       "        <td>What are the 5 most frequent CommentCount for posts?</td>\n",
       "        <td><br>    SELECT CommentCount, COUNT(Id) AS post_qty FROM posts GROUP BY CommentCount ORDER BY post_qty DESC LIMIT 5<br>    </td>\n",
       "    </tr>\n",
       "    <tr>\n",
       "        <td>Task 2</td>\n",
       "        <td>How many posts have an accepted answer?</td>\n",
       "        <td><br>    SELECT COUNT(Id) FROM posts WHERE AcceptedAnswerId&gt;0<br>    </td>\n",
       "    </tr>\n",
       "    <tr>\n",
       "        <td>Task 2</td>\n",
       "        <td>What is the average reputation of table users?</td>\n",
       "        <td><br>    SELECT AVG(Reputation) FROM users<br>    </td>\n",
       "    </tr>\n",
       "    <tr>\n",
       "        <td>Task 2</td>\n",
       "        <td>What are the min and max reputation of users?</td>\n",
       "        <td><br>    SELECT MIN(Reputation), MAX(Reputation) FROM users<br>    </td>\n",
       "    </tr>\n",
       "    <tr>\n",
       "        <td>Task 2</td>\n",
       "        <td>What is the length of the body of 5 most viewed posts?</td>\n",
       "        <td><br>    SELECT Id, LENGTH(Body), ViewCount FROM posts ORDER BY ViewCount DESC LIMIT 5<br>    </td>\n",
       "    </tr>\n",
       "    <tr>\n",
       "        <td>Task 2</td>\n",
       "        <td>How many different locations are there in the users table?</td>\n",
       "        <td><br>    SELECT COUNT(DISTINCT Location) FROM users<br>    </td>\n",
       "    </tr>\n",
       "    <tr>\n",
       "        <td>Task 2</td>\n",
       "        <td>What are the top 5 locations of users?</td>\n",
       "        <td><br>    SELECT Location, COUNT(Id)<br>    FROM users<br>    WHERE Location&lt;&gt;&#x27;&#x27;<br>    GROUP BY Location<br>    ORDER BY COUNT(Id) DESC<br>    LIMIT 5<br>    </td>\n",
       "    </tr>\n",
       "    <tr>\n",
       "        <td>Task 2</td>\n",
       "        <td>Rank the days of the week from highest to lowest in terms of the volume of ViewCount as a percentage</td>\n",
       "        <td><br>SELECT<br>    CASE CAST(strftime(&#x27;%w&#x27;, CreationDate) AS INTEGER)<br>                WHEN 1 THEN &#x27;Monday&#x27;<br>                WHEN 2 THEN &#x27;Tuesday&#x27;<br>                WHEN 3 THEN &#x27;Wednesday&#x27;<br>                WHEN 4 THEN &#x27;Thursday&#x27;<br>                WHEN 5 THEN &#x27;Friday&#x27;<br>                WHEN 6 THEN &#x27;Saturday&#x27;<br>                ELSE &#x27;Sunday&#x27;<br>    END day_of_week,<br>    (SUM(ViewCount)*100.0)/(SELECT SUM(ViewCount) FROM posts) AS percentage<br>                FROM posts<br>                    GROUP BY day_of_week<br>                    ORDER BY percentage DESC<br>    </td>\n",
       "    </tr>\n",
       "    <tr>\n",
       "        <td>Task 3</td>\n",
       "        <td>How many posts have been created by a user that has a filled out the &#x27;AboutMe&#x27; section?</td>\n",
       "        <td><br>    SELECT COUNT(posts.Id) AS posts_qty<br>        FROM posts INNER JOIN users ON users.Id=posts.OwnerUserId<br>            WHERE users.AboutMe &lt;&gt; &#x27;None&#x27;<br>    </td>\n",
       "    </tr>\n",
       "    <tr>\n",
       "        <td>Task 3</td>\n",
       "        <td>Considering only the users with an &#x27;AboutMe&#x27;, how many posts are there per user?</td>\n",
       "        <td><br>    SELECT CAST(SUM(posts_qty)/COUNT(user_id) AS FLOAT) AS posts_per_user<br>        FROM (<br>            SELECT users.Id AS user_id,<br>                   COUNT(posts.Id) AS posts_qty<br>                FROM posts INNER JOIN users ON users.Id=posts.OwnerUserId<br>                WHERE users.AboutMe &lt;&gt; &#x27;&#x27;<br>                GROUP BY users.Id<br>             )<br>    </td>\n",
       "    </tr>\n",
       "    <tr>\n",
       "        <td>Task 3</td>\n",
       "        <td>Not taking into account the CommentCount field in the table posts, what are the Top 10 posts in terms of number of comments?</td>\n",
       "        <td><br>    SELECT posts.Id AS post_id,<br>       COUNT(comments.Id) AS comments_qty<br>          FROM comments INNER JOIN posts ON posts.Id=comments.PostId<br>                GROUP BY post_id<br>                ORDER BY comments_qty DESC<br>                LIMIT 10<br>    </td>\n",
       "    </tr>\n",
       "    <tr>\n",
       "        <td>Task 3</td>\n",
       "        <td>What are the Top 10 posts which have the highest cummulative (post score + comment score) score?</td>\n",
       "        <td><br>    SELECT posts.Id AS post_id,<br>           SUM(comments.Score)+SUM(posts.Score) AS cum_score<br>             FROM comments INNER JOIN posts ON posts.Id=comments.PostId<br>                  GROUP BY post_id<br>                  ORDER BY cum_score DESC<br>                  LIMIT 10<br>    </td>\n",
       "    </tr>\n",
       "    <tr>\n",
       "        <td>Task 3</td>\n",
       "        <td>Who are the top 10 users who comment the most?</td>\n",
       "        <td><br>    SELECT users.Id AS user_id,<br>       COUNT(comments.Id) AS comment_qty,<br>       users.Reputation AS reputation<br>           FROM comments INNER JOIN users ON users.Id=comments.UserId<br>                GROUP BY user_id<br>                ORDER BY comment_qty DESC<br>                LIMIT 10<br>    </td>\n",
       "    </tr>\n",
       "    <tr>\n",
       "        <td>Task 3</td>\n",
       "        <td>Who are the top 10 users who post the most?</td>\n",
       "        <td><br>    SELECT * FROM <br> (SELECT users.Id AS user_id,<br>         COUNT(posts.Id) AS post_qty,<br>         users.Reputation AS reputation<br>             FROM posts INNER JOIN users ON users.Id=posts.OwnerUserId<br>                 GROUP BY user_id<br>                 ORDER BY post_qty DESC<br>                 LIMIT 10)<br>    ORDER BY reputation DESC<br>    </td>\n",
       "    </tr>\n",
       "</table>"
      ],
      "text/plain": [
       "[('Single Table Queries', 'Which 5 users have viewed the most times and what is the sum of those views per user?', '\\nSELECT Id, SUM(Views) AS TotalViews\\n    FROM Users\\n        GROUP BY Id\\n            ORDER BY TotalViews DESC\\n                LIMIT 5\\n                '),\n",
       " ('Task 1', 'Create table comments', '\\n    CREATE TABLE \"comments\" (\\n    \"Id\" INTEGER,\\n    \"PostId\" INTEGER,\\n    \"Score\" INTEGER,\\n    \"Text\" TEXT,\\n    \"CreationDate\" TEXT,\\n    \"UserId\" INTEGER,\\n    FOREIGN KEY(PostId) REFERENCES posts(Id),\\n    FOREIGN KEY(UserId) REFERENCES users(Id)\\n    )\\n    '),\n",
       " ('Task 1', 'Create table users', '\\n    CREATE TABLE \"users\" (\\n    \"Id\" INTEGER NOT NULL PRIMARY KEY,\\n    \"Reputation\" INTEGER,\\n    \"CreationDate\" TEXT,\\n    \"DisplayName\" TEXT,\\n  ... (82 characters truncated) ... tMe\" TEXT,\\n    \"Views\" INTEGER,\\n    \"UpVotes\" INTEGER,\\n    \"DownVotes\" INTEGER,\\n    \"ProfileImageUrl\" TEXT,\\n    \"AccountId\" INTEGER\\n    )\\n    '),\n",
       " ('Task 1', 'Create table posts', '\\n    CREATE TABLE \"posts\" (\\n    \"Id\" INTEGER NOT NULL PRIMARY KEY,\\n    \"PostTypeId\" INTEGER,\\n    \"AcceptedAnswerId\" INTEGER,\\n    \"ParentId\" INTE ... (321 characters truncated) ... \"AnswerCount\" INTEGER,\\n    \"CommentCount\" INTEGER,\\n    \"FavoriteCount\" INTEGER,\\n    \"ClosedDate\" TEXT,\\n    \"CommunityOwnedDate\" TEXT\\n    )\\n    '),\n",
       " ('Task 1', 'Count the number of rows in the comments table', '\\n    SELECT COUNT(*) FROM comments\\n    '),\n",
       " ('Task 1', 'Count the number of rows in the users table', '\\n    SELECT COUNT(*) FROM users\\n    '),\n",
       " ('Task 1', 'Count the number of rows in the posts table', '\\n    SELECT COUNT(*) FROM posts\\n    '),\n",
       " ('Task 1', 'Select 5 random rows from the comments table', '\\n    SELECT * FROM comments ORDER BY random() LIMIT 5\\n    '),\n",
       " ('Task 1', 'Select 5 random rows from the posts table', '\\n    SELECT * FROM posts ORDER BY random() LIMIT 5\\n    '),\n",
       " ('Task 1', 'Select 5 random rows from the users table', '\\n    SELECT * FROM users ORDER BY random() LIMIT 5\\n    '),\n",
       " ('Task 2', 'How many posts have 0 comments?', '\\n    SELECT COUNT(*) FROM posts WHERE CommentCount=0\\n    '),\n",
       " ('Task 2', 'How many posts have 1 comments?', '\\n    SELECT COUNT(*) FROM posts WHERE CommentCount=1\\n    '),\n",
       " ('Task 2', 'How many posts have 2 comments or more?', '\\n    SELECT COUNT(*) FROM posts WHERE CommentCount>1\\n    '),\n",
       " ('Task 2', 'Find the 5 posts with the highest viewcount', '\\n    SELECT Body, ViewCount FROM posts ORDER BY ViewCount DESC LIMIT 5\\n    '),\n",
       " ('Task 2', 'Find the top 5 posts with the highest scores', '\\n    SELECT SELECT Id, Body, Score FROM posts ORDER BY Score DESC LIMIT 5\\n    '),\n",
       " ('Task 2', 'What are the 5 most frequent scores on posts?', '\\n    SELECT Score, COUNT(Id) AS count FROM posts GROUP BY Score ORDER BY count DESC LIMIT 5\\n    '),\n",
       " ('Task 2', \"How many posts have the keyword 'data' in their tags?\", \"\\n    SELECT COUNT(Id) FROM posts WHERE Tags like '%data%'\\n    \"),\n",
       " ('Task 2', 'What are the 5 most frequent CommentCount for posts?', '\\n    SELECT CommentCount, COUNT(Id) AS post_qty FROM posts GROUP BY CommentCount ORDER BY post_qty DESC LIMIT 5\\n    '),\n",
       " ('Task 2', 'How many posts have an accepted answer?', '\\n    SELECT COUNT(Id) FROM posts WHERE AcceptedAnswerId>0\\n    '),\n",
       " ('Task 2', 'What is the average reputation of table users?', '\\n    SELECT AVG(Reputation) FROM users\\n    '),\n",
       " ('Task 2', 'What are the min and max reputation of users?', '\\n    SELECT MIN(Reputation), MAX(Reputation) FROM users\\n    '),\n",
       " ('Task 2', 'What is the length of the body of 5 most viewed posts?', '\\n    SELECT Id, LENGTH(Body), ViewCount FROM posts ORDER BY ViewCount DESC LIMIT 5\\n    '),\n",
       " ('Task 2', 'How many different locations are there in the users table?', '\\n    SELECT COUNT(DISTINCT Location) FROM users\\n    '),\n",
       " ('Task 2', 'What are the top 5 locations of users?', \"\\n    SELECT Location, COUNT(Id)\\n    FROM users\\n    WHERE Location<>''\\n    GROUP BY Location\\n    ORDER BY COUNT(Id) DESC\\n    LIMIT 5\\n    \"),\n",
       " ('Task 2', 'Rank the days of the week from highest to lowest in terms of the volume of ViewCount as a percentage', \"\\nSELECT\\n    CASE CAST(strftime('%w', CreationDate) AS INTEGER)\\n                WHEN 1 THEN 'Monday'\\n                WHEN 2 THEN 'Tuesday'\\n       ... (254 characters truncated) ... ) FROM posts) AS percentage\\n                FROM posts\\n                    GROUP BY day_of_week\\n                    ORDER BY percentage DESC\\n    \"),\n",
       " ('Task 3', \"How many posts have been created by a user that has a filled out the 'AboutMe' section?\", \"\\n    SELECT COUNT(posts.Id) AS posts_qty\\n        FROM posts INNER JOIN users ON users.Id=posts.OwnerUserId\\n            WHERE users.AboutMe <> 'None'\\n    \"),\n",
       " ('Task 3', \"Considering only the users with an 'AboutMe', how many posts are there per user?\", \"\\n    SELECT CAST(SUM(posts_qty)/COUNT(user_id) AS FLOAT) AS posts_per_user\\n        FROM (\\n            SELECT users.Id AS user_id,\\n                ... (58 characters truncated) ... ts INNER JOIN users ON users.Id=posts.OwnerUserId\\n                WHERE users.AboutMe <> ''\\n                GROUP BY users.Id\\n             )\\n    \"),\n",
       " ('Task 3', 'Not taking into account the CommentCount field in the table posts, what are the Top 10 posts in terms of number of comments?', '\\n    SELECT posts.Id AS post_id,\\n       COUNT(comments.Id) AS comments_qty\\n          FROM comments INNER JOIN posts ON posts.Id=comments.PostId\\n                GROUP BY post_id\\n                ORDER BY comments_qty DESC\\n                LIMIT 10\\n    '),\n",
       " ('Task 3', 'What are the Top 10 posts which have the highest cummulative (post score + comment score) score?', '\\n    SELECT posts.Id AS post_id,\\n           SUM(comments.Score)+SUM(posts.Score) AS cum_score\\n             FROM comments INNER JOIN posts ON posts.Id=comments.PostId\\n                  GROUP BY post_id\\n                  ORDER BY cum_score DESC\\n                  LIMIT 10\\n    '),\n",
       " ('Task 3', 'Who are the top 10 users who comment the most?', '\\n    SELECT users.Id AS user_id,\\n       COUNT(comments.Id) AS comment_qty,\\n       users.Reputation AS reputation\\n           FROM comments INNER JOIN users ON users.Id=comments.UserId\\n                GROUP BY user_id\\n                ORDER BY comment_qty DESC\\n                LIMIT 10\\n    '),\n",
       " ('Task 3', 'Who are the top 10 users who post the most?', '\\n    SELECT * FROM \\n (SELECT users.Id AS user_id,\\n         COUNT(posts.Id) AS post_qty,\\n         users.Reputation AS reputation\\n             FRO ... (45 characters truncated) ... nerUserId\\n                 GROUP BY user_id\\n                 ORDER BY post_qty DESC\\n                 LIMIT 10)\\n    ORDER BY reputation DESC\\n    ')]"
      ]
     },
     "execution_count": 101,
     "metadata": {},
     "output_type": "execute_result"
    }
   ],
   "source": [
    "%sql SELECT * FROM queries"
   ]
  },
  {
   "cell_type": "markdown",
   "metadata": {},
   "source": [
    "## Drop Duplicates\n",
    "\n",
    "You likely have some duplicates. Lets drop them. "
   ]
  },
  {
   "cell_type": "code",
   "execution_count": 102,
   "metadata": {},
   "outputs": [],
   "source": [
    "# Read the queries table into pandas\n",
    "sql = 'SELECT * FROM queries'\n",
    "queries = pd.read_sql(sql, con)\n",
    "\n",
    "# Drop duplicates\n",
    "queries.drop_duplicates(inplace = True) # drop duplicates"
   ]
  },
  {
   "cell_type": "markdown",
   "metadata": {},
   "source": [
    "## Case Issues"
   ]
  },
  {
   "cell_type": "markdown",
   "metadata": {},
   "source": [
    "Remember, SQL is case insensitive. Pandas IS case sensitive. Lets deal with this now by making all of the text uppercase. "
   ]
  },
  {
   "cell_type": "code",
   "execution_count": 103,
   "metadata": {},
   "outputs": [
    {
     "data": {
      "text/html": [
       "<div>\n",
       "<style scoped>\n",
       "    .dataframe tbody tr th:only-of-type {\n",
       "        vertical-align: middle;\n",
       "    }\n",
       "\n",
       "    .dataframe tbody tr th {\n",
       "        vertical-align: top;\n",
       "    }\n",
       "\n",
       "    .dataframe thead th {\n",
       "        text-align: right;\n",
       "    }\n",
       "</style>\n",
       "<table border=\"1\" class=\"dataframe\">\n",
       "  <thead>\n",
       "    <tr style=\"text-align: right;\">\n",
       "      <th></th>\n",
       "      <th>task</th>\n",
       "      <th>action</th>\n",
       "      <th>query</th>\n",
       "    </tr>\n",
       "  </thead>\n",
       "  <tbody>\n",
       "    <tr>\n",
       "      <th>0</th>\n",
       "      <td>SINGLE TABLE QUERIES</td>\n",
       "      <td>WHICH 5 USERS HAVE VIEWED THE MOST TIMES AND W...</td>\n",
       "      <td>\\nSELECT ID, SUM(VIEWS) AS TOTALVIEWS\\n    FRO...</td>\n",
       "    </tr>\n",
       "    <tr>\n",
       "      <th>1</th>\n",
       "      <td>TASK 1</td>\n",
       "      <td>CREATE TABLE COMMENTS</td>\n",
       "      <td>\\n    CREATE TABLE \"COMMENTS\" (\\n    \"ID\" INTE...</td>\n",
       "    </tr>\n",
       "    <tr>\n",
       "      <th>2</th>\n",
       "      <td>TASK 1</td>\n",
       "      <td>CREATE TABLE USERS</td>\n",
       "      <td>\\n    CREATE TABLE \"USERS\" (\\n    \"ID\" INTEGER...</td>\n",
       "    </tr>\n",
       "    <tr>\n",
       "      <th>3</th>\n",
       "      <td>TASK 1</td>\n",
       "      <td>CREATE TABLE POSTS</td>\n",
       "      <td>\\n    CREATE TABLE \"POSTS\" (\\n    \"ID\" INTEGER...</td>\n",
       "    </tr>\n",
       "    <tr>\n",
       "      <th>4</th>\n",
       "      <td>TASK 1</td>\n",
       "      <td>COUNT THE NUMBER OF ROWS IN THE COMMENTS TABLE</td>\n",
       "      <td>\\n    SELECT COUNT(*) FROM COMMENTS\\n</td>\n",
       "    </tr>\n",
       "    <tr>\n",
       "      <th>5</th>\n",
       "      <td>TASK 1</td>\n",
       "      <td>COUNT THE NUMBER OF ROWS IN THE USERS TABLE</td>\n",
       "      <td>\\n    SELECT COUNT(*) FROM USERS\\n</td>\n",
       "    </tr>\n",
       "    <tr>\n",
       "      <th>6</th>\n",
       "      <td>TASK 1</td>\n",
       "      <td>COUNT THE NUMBER OF ROWS IN THE POSTS TABLE</td>\n",
       "      <td>\\n    SELECT COUNT(*) FROM POSTS\\n</td>\n",
       "    </tr>\n",
       "    <tr>\n",
       "      <th>7</th>\n",
       "      <td>TASK 1</td>\n",
       "      <td>SELECT 5 RANDOM ROWS FROM THE COMMENTS TABLE</td>\n",
       "      <td>\\n    SELECT * FROM COMMENTS ORDER BY RANDOM()...</td>\n",
       "    </tr>\n",
       "    <tr>\n",
       "      <th>8</th>\n",
       "      <td>TASK 1</td>\n",
       "      <td>SELECT 5 RANDOM ROWS FROM THE POSTS TABLE</td>\n",
       "      <td>\\n    SELECT * FROM POSTS ORDER BY RANDOM() LI...</td>\n",
       "    </tr>\n",
       "    <tr>\n",
       "      <th>9</th>\n",
       "      <td>TASK 1</td>\n",
       "      <td>SELECT 5 RANDOM ROWS FROM THE USERS TABLE</td>\n",
       "      <td>\\n    SELECT * FROM USERS ORDER BY RANDOM() LI...</td>\n",
       "    </tr>\n",
       "    <tr>\n",
       "      <th>10</th>\n",
       "      <td>TASK 2</td>\n",
       "      <td>HOW MANY POSTS HAVE 0 COMMENTS?</td>\n",
       "      <td>\\n    SELECT COUNT(*) FROM POSTS WHERE COMMENT...</td>\n",
       "    </tr>\n",
       "    <tr>\n",
       "      <th>11</th>\n",
       "      <td>TASK 2</td>\n",
       "      <td>HOW MANY POSTS HAVE 1 COMMENTS?</td>\n",
       "      <td>\\n    SELECT COUNT(*) FROM POSTS WHERE COMMENT...</td>\n",
       "    </tr>\n",
       "    <tr>\n",
       "      <th>12</th>\n",
       "      <td>TASK 2</td>\n",
       "      <td>HOW MANY POSTS HAVE 2 COMMENTS OR MORE?</td>\n",
       "      <td>\\n    SELECT COUNT(*) FROM POSTS WHERE COMMENT...</td>\n",
       "    </tr>\n",
       "    <tr>\n",
       "      <th>13</th>\n",
       "      <td>TASK 2</td>\n",
       "      <td>FIND THE 5 POSTS WITH THE HIGHEST VIEWCOUNT</td>\n",
       "      <td>\\n    SELECT BODY, VIEWCOUNT FROM POSTS ORDER ...</td>\n",
       "    </tr>\n",
       "    <tr>\n",
       "      <th>14</th>\n",
       "      <td>TASK 2</td>\n",
       "      <td>FIND THE TOP 5 POSTS WITH THE HIGHEST SCORES</td>\n",
       "      <td>\\n    SELECT SELECT ID, BODY, SCORE FROM POSTS...</td>\n",
       "    </tr>\n",
       "    <tr>\n",
       "      <th>15</th>\n",
       "      <td>TASK 2</td>\n",
       "      <td>WHAT ARE THE 5 MOST FREQUENT SCORES ON POSTS?</td>\n",
       "      <td>\\n    SELECT SCORE, COUNT(ID) AS COUNT FROM PO...</td>\n",
       "    </tr>\n",
       "    <tr>\n",
       "      <th>16</th>\n",
       "      <td>TASK 2</td>\n",
       "      <td>HOW MANY POSTS HAVE THE KEYWORD 'DATA' IN THEI...</td>\n",
       "      <td>\\n    SELECT COUNT(ID) FROM POSTS WHERE TAGS L...</td>\n",
       "    </tr>\n",
       "    <tr>\n",
       "      <th>17</th>\n",
       "      <td>TASK 2</td>\n",
       "      <td>WHAT ARE THE 5 MOST FREQUENT COMMENTCOUNT FOR ...</td>\n",
       "      <td>\\n    SELECT COMMENTCOUNT, COUNT(ID) AS POST_Q...</td>\n",
       "    </tr>\n",
       "    <tr>\n",
       "      <th>18</th>\n",
       "      <td>TASK 2</td>\n",
       "      <td>HOW MANY POSTS HAVE AN ACCEPTED ANSWER?</td>\n",
       "      <td>\\n    SELECT COUNT(ID) FROM POSTS WHERE ACCEPT...</td>\n",
       "    </tr>\n",
       "    <tr>\n",
       "      <th>19</th>\n",
       "      <td>TASK 2</td>\n",
       "      <td>WHAT IS THE AVERAGE REPUTATION OF TABLE USERS?</td>\n",
       "      <td>\\n    SELECT AVG(REPUTATION) FROM USERS\\n</td>\n",
       "    </tr>\n",
       "    <tr>\n",
       "      <th>20</th>\n",
       "      <td>TASK 2</td>\n",
       "      <td>WHAT ARE THE MIN AND MAX REPUTATION OF USERS?</td>\n",
       "      <td>\\n    SELECT MIN(REPUTATION), MAX(REPUTATION) ...</td>\n",
       "    </tr>\n",
       "    <tr>\n",
       "      <th>21</th>\n",
       "      <td>TASK 2</td>\n",
       "      <td>WHAT IS THE LENGTH OF THE BODY OF 5 MOST VIEWE...</td>\n",
       "      <td>\\n    SELECT ID, LENGTH(BODY), VIEWCOUNT FROM ...</td>\n",
       "    </tr>\n",
       "    <tr>\n",
       "      <th>22</th>\n",
       "      <td>TASK 2</td>\n",
       "      <td>HOW MANY DIFFERENT LOCATIONS ARE THERE IN THE ...</td>\n",
       "      <td>\\n    SELECT COUNT(DISTINCT LOCATION) FROM USE...</td>\n",
       "    </tr>\n",
       "    <tr>\n",
       "      <th>23</th>\n",
       "      <td>TASK 2</td>\n",
       "      <td>WHAT ARE THE TOP 5 LOCATIONS OF USERS?</td>\n",
       "      <td>\\n    SELECT LOCATION, COUNT(ID)\\n    FROM USE...</td>\n",
       "    </tr>\n",
       "    <tr>\n",
       "      <th>24</th>\n",
       "      <td>TASK 2</td>\n",
       "      <td>RANK THE DAYS OF THE WEEK FROM HIGHEST TO LOWE...</td>\n",
       "      <td>\\nSELECT\\n    CASE CAST(STRFTIME('%W', CREATIO...</td>\n",
       "    </tr>\n",
       "    <tr>\n",
       "      <th>25</th>\n",
       "      <td>TASK 3</td>\n",
       "      <td>HOW MANY POSTS HAVE BEEN CREATED BY A USER THA...</td>\n",
       "      <td>\\n    SELECT COUNT(POSTS.ID) AS POSTS_QTY\\n   ...</td>\n",
       "    </tr>\n",
       "    <tr>\n",
       "      <th>26</th>\n",
       "      <td>TASK 3</td>\n",
       "      <td>CONSIDERING ONLY THE USERS WITH AN 'ABOUTME', ...</td>\n",
       "      <td>\\n    SELECT CAST(SUM(POSTS_QTY)/COUNT(USER_ID...</td>\n",
       "    </tr>\n",
       "    <tr>\n",
       "      <th>27</th>\n",
       "      <td>TASK 3</td>\n",
       "      <td>NOT TAKING INTO ACCOUNT THE COMMENTCOUNT FIELD...</td>\n",
       "      <td>\\n    SELECT POSTS.ID AS POST_ID,\\n       COUN...</td>\n",
       "    </tr>\n",
       "    <tr>\n",
       "      <th>28</th>\n",
       "      <td>TASK 3</td>\n",
       "      <td>WHAT ARE THE TOP 10 POSTS WHICH HAVE THE HIGHE...</td>\n",
       "      <td>\\n    SELECT POSTS.ID AS POST_ID,\\n           ...</td>\n",
       "    </tr>\n",
       "    <tr>\n",
       "      <th>29</th>\n",
       "      <td>TASK 3</td>\n",
       "      <td>WHO ARE THE TOP 10 USERS WHO COMMENT THE MOST?</td>\n",
       "      <td>\\n    SELECT USERS.ID AS USER_ID,\\n       COUN...</td>\n",
       "    </tr>\n",
       "    <tr>\n",
       "      <th>30</th>\n",
       "      <td>TASK 3</td>\n",
       "      <td>WHO ARE THE TOP 10 USERS WHO POST THE MOST?</td>\n",
       "      <td>\\n    SELECT * FROM \\n (SELECT USERS.ID AS USE...</td>\n",
       "    </tr>\n",
       "  </tbody>\n",
       "</table>\n",
       "</div>"
      ],
      "text/plain": [
       "                    task                                             action  \\\n",
       "0   SINGLE TABLE QUERIES  WHICH 5 USERS HAVE VIEWED THE MOST TIMES AND W...   \n",
       "1                 TASK 1                              CREATE TABLE COMMENTS   \n",
       "2                 TASK 1                                 CREATE TABLE USERS   \n",
       "3                 TASK 1                                 CREATE TABLE POSTS   \n",
       "4                 TASK 1     COUNT THE NUMBER OF ROWS IN THE COMMENTS TABLE   \n",
       "5                 TASK 1        COUNT THE NUMBER OF ROWS IN THE USERS TABLE   \n",
       "6                 TASK 1        COUNT THE NUMBER OF ROWS IN THE POSTS TABLE   \n",
       "7                 TASK 1       SELECT 5 RANDOM ROWS FROM THE COMMENTS TABLE   \n",
       "8                 TASK 1          SELECT 5 RANDOM ROWS FROM THE POSTS TABLE   \n",
       "9                 TASK 1          SELECT 5 RANDOM ROWS FROM THE USERS TABLE   \n",
       "10                TASK 2                    HOW MANY POSTS HAVE 0 COMMENTS?   \n",
       "11                TASK 2                    HOW MANY POSTS HAVE 1 COMMENTS?   \n",
       "12                TASK 2            HOW MANY POSTS HAVE 2 COMMENTS OR MORE?   \n",
       "13                TASK 2        FIND THE 5 POSTS WITH THE HIGHEST VIEWCOUNT   \n",
       "14                TASK 2       FIND THE TOP 5 POSTS WITH THE HIGHEST SCORES   \n",
       "15                TASK 2      WHAT ARE THE 5 MOST FREQUENT SCORES ON POSTS?   \n",
       "16                TASK 2  HOW MANY POSTS HAVE THE KEYWORD 'DATA' IN THEI...   \n",
       "17                TASK 2  WHAT ARE THE 5 MOST FREQUENT COMMENTCOUNT FOR ...   \n",
       "18                TASK 2            HOW MANY POSTS HAVE AN ACCEPTED ANSWER?   \n",
       "19                TASK 2     WHAT IS THE AVERAGE REPUTATION OF TABLE USERS?   \n",
       "20                TASK 2      WHAT ARE THE MIN AND MAX REPUTATION OF USERS?   \n",
       "21                TASK 2  WHAT IS THE LENGTH OF THE BODY OF 5 MOST VIEWE...   \n",
       "22                TASK 2  HOW MANY DIFFERENT LOCATIONS ARE THERE IN THE ...   \n",
       "23                TASK 2             WHAT ARE THE TOP 5 LOCATIONS OF USERS?   \n",
       "24                TASK 2  RANK THE DAYS OF THE WEEK FROM HIGHEST TO LOWE...   \n",
       "25                TASK 3  HOW MANY POSTS HAVE BEEN CREATED BY A USER THA...   \n",
       "26                TASK 3  CONSIDERING ONLY THE USERS WITH AN 'ABOUTME', ...   \n",
       "27                TASK 3  NOT TAKING INTO ACCOUNT THE COMMENTCOUNT FIELD...   \n",
       "28                TASK 3  WHAT ARE THE TOP 10 POSTS WHICH HAVE THE HIGHE...   \n",
       "29                TASK 3     WHO ARE THE TOP 10 USERS WHO COMMENT THE MOST?   \n",
       "30                TASK 3        WHO ARE THE TOP 10 USERS WHO POST THE MOST?   \n",
       "\n",
       "                                                query  \n",
       "0   \\nSELECT ID, SUM(VIEWS) AS TOTALVIEWS\\n    FRO...  \n",
       "1   \\n    CREATE TABLE \"COMMENTS\" (\\n    \"ID\" INTE...  \n",
       "2   \\n    CREATE TABLE \"USERS\" (\\n    \"ID\" INTEGER...  \n",
       "3   \\n    CREATE TABLE \"POSTS\" (\\n    \"ID\" INTEGER...  \n",
       "4           \\n    SELECT COUNT(*) FROM COMMENTS\\n      \n",
       "5              \\n    SELECT COUNT(*) FROM USERS\\n      \n",
       "6              \\n    SELECT COUNT(*) FROM POSTS\\n      \n",
       "7   \\n    SELECT * FROM COMMENTS ORDER BY RANDOM()...  \n",
       "8   \\n    SELECT * FROM POSTS ORDER BY RANDOM() LI...  \n",
       "9   \\n    SELECT * FROM USERS ORDER BY RANDOM() LI...  \n",
       "10  \\n    SELECT COUNT(*) FROM POSTS WHERE COMMENT...  \n",
       "11  \\n    SELECT COUNT(*) FROM POSTS WHERE COMMENT...  \n",
       "12  \\n    SELECT COUNT(*) FROM POSTS WHERE COMMENT...  \n",
       "13  \\n    SELECT BODY, VIEWCOUNT FROM POSTS ORDER ...  \n",
       "14  \\n    SELECT SELECT ID, BODY, SCORE FROM POSTS...  \n",
       "15  \\n    SELECT SCORE, COUNT(ID) AS COUNT FROM PO...  \n",
       "16  \\n    SELECT COUNT(ID) FROM POSTS WHERE TAGS L...  \n",
       "17  \\n    SELECT COMMENTCOUNT, COUNT(ID) AS POST_Q...  \n",
       "18  \\n    SELECT COUNT(ID) FROM POSTS WHERE ACCEPT...  \n",
       "19      \\n    SELECT AVG(REPUTATION) FROM USERS\\n      \n",
       "20  \\n    SELECT MIN(REPUTATION), MAX(REPUTATION) ...  \n",
       "21  \\n    SELECT ID, LENGTH(BODY), VIEWCOUNT FROM ...  \n",
       "22  \\n    SELECT COUNT(DISTINCT LOCATION) FROM USE...  \n",
       "23  \\n    SELECT LOCATION, COUNT(ID)\\n    FROM USE...  \n",
       "24  \\nSELECT\\n    CASE CAST(STRFTIME('%W', CREATIO...  \n",
       "25  \\n    SELECT COUNT(POSTS.ID) AS POSTS_QTY\\n   ...  \n",
       "26  \\n    SELECT CAST(SUM(POSTS_QTY)/COUNT(USER_ID...  \n",
       "27  \\n    SELECT POSTS.ID AS POST_ID,\\n       COUN...  \n",
       "28  \\n    SELECT POSTS.ID AS POST_ID,\\n           ...  \n",
       "29  \\n    SELECT USERS.ID AS USER_ID,\\n       COUN...  \n",
       "30  \\n    SELECT * FROM \\n (SELECT USERS.ID AS USE...  "
      ]
     },
     "execution_count": 103,
     "metadata": {},
     "output_type": "execute_result"
    }
   ],
   "source": [
    "for col in queries.columns:\n",
    "    queries[col] = queries[col].str.upper()\n",
    "    \n",
    "queries"
   ]
  },
  {
   "cell_type": "code",
   "execution_count": 104,
   "metadata": {},
   "outputs": [],
   "source": [
    "# Write the now deduped uppercase dataframe back to sqlite and replace the table\n",
    "queries.to_sql('queries', con, if_exists='replace', index=False)"
   ]
  },
  {
   "cell_type": "markdown",
   "metadata": {},
   "source": [
    "## Use Case\n",
    "\n",
    "Now that we have this queries table, lets give you some ideas about how you would use it.\n",
    "\n",
    "Suppose you wanted to find all of the queries where you did a GROUP BY:"
   ]
  },
  {
   "cell_type": "code",
   "execution_count": 105,
   "metadata": {},
   "outputs": [
    {
     "name": "stdout",
     "output_type": "stream",
     "text": [
      " * sqlite:///chatdata.db\n",
      "Done.\n"
     ]
    },
    {
     "data": {
      "text/html": [
       "<table>\n",
       "    <tr>\n",
       "        <th>query</th>\n",
       "    </tr>\n",
       "    <tr>\n",
       "        <td><br>SELECT ID, SUM(VIEWS) AS TOTALVIEWS<br>    FROM USERS<br>        GROUP BY ID<br>            ORDER BY TOTALVIEWS DESC<br>                LIMIT 5<br>                </td>\n",
       "    </tr>\n",
       "    <tr>\n",
       "        <td><br>    SELECT SCORE, COUNT(ID) AS COUNT FROM POSTS GROUP BY SCORE ORDER BY COUNT DESC LIMIT 5<br>    </td>\n",
       "    </tr>\n",
       "    <tr>\n",
       "        <td><br>    SELECT COMMENTCOUNT, COUNT(ID) AS POST_QTY FROM POSTS GROUP BY COMMENTCOUNT ORDER BY POST_QTY DESC LIMIT 5<br>    </td>\n",
       "    </tr>\n",
       "    <tr>\n",
       "        <td><br>    SELECT LOCATION, COUNT(ID)<br>    FROM USERS<br>    WHERE LOCATION&lt;&gt;&#x27;&#x27;<br>    GROUP BY LOCATION<br>    ORDER BY COUNT(ID) DESC<br>    LIMIT 5<br>    </td>\n",
       "    </tr>\n",
       "    <tr>\n",
       "        <td><br>SELECT<br>    CASE CAST(STRFTIME(&#x27;%W&#x27;, CREATIONDATE) AS INTEGER)<br>                WHEN 1 THEN &#x27;MONDAY&#x27;<br>                WHEN 2 THEN &#x27;TUESDAY&#x27;<br>                WHEN 3 THEN &#x27;WEDNESDAY&#x27;<br>                WHEN 4 THEN &#x27;THURSDAY&#x27;<br>                WHEN 5 THEN &#x27;FRIDAY&#x27;<br>                WHEN 6 THEN &#x27;SATURDAY&#x27;<br>                ELSE &#x27;SUNDAY&#x27;<br>    END DAY_OF_WEEK,<br>    (SUM(VIEWCOUNT)*100.0)/(SELECT SUM(VIEWCOUNT) FROM POSTS) AS PERCENTAGE<br>                FROM POSTS<br>                    GROUP BY DAY_OF_WEEK<br>                    ORDER BY PERCENTAGE DESC<br>    </td>\n",
       "    </tr>\n",
       "    <tr>\n",
       "        <td><br>    SELECT CAST(SUM(POSTS_QTY)/COUNT(USER_ID) AS FLOAT) AS POSTS_PER_USER<br>        FROM (<br>            SELECT USERS.ID AS USER_ID,<br>                   COUNT(POSTS.ID) AS POSTS_QTY<br>                FROM POSTS INNER JOIN USERS ON USERS.ID=POSTS.OWNERUSERID<br>                WHERE USERS.ABOUTME &lt;&gt; &#x27;&#x27;<br>                GROUP BY USERS.ID<br>             )<br>    </td>\n",
       "    </tr>\n",
       "    <tr>\n",
       "        <td><br>    SELECT POSTS.ID AS POST_ID,<br>       COUNT(COMMENTS.ID) AS COMMENTS_QTY<br>          FROM COMMENTS INNER JOIN POSTS ON POSTS.ID=COMMENTS.POSTID<br>                GROUP BY POST_ID<br>                ORDER BY COMMENTS_QTY DESC<br>                LIMIT 10<br>    </td>\n",
       "    </tr>\n",
       "    <tr>\n",
       "        <td><br>    SELECT POSTS.ID AS POST_ID,<br>           SUM(COMMENTS.SCORE)+SUM(POSTS.SCORE) AS CUM_SCORE<br>             FROM COMMENTS INNER JOIN POSTS ON POSTS.ID=COMMENTS.POSTID<br>                  GROUP BY POST_ID<br>                  ORDER BY CUM_SCORE DESC<br>                  LIMIT 10<br>    </td>\n",
       "    </tr>\n",
       "    <tr>\n",
       "        <td><br>    SELECT USERS.ID AS USER_ID,<br>       COUNT(COMMENTS.ID) AS COMMENT_QTY,<br>       USERS.REPUTATION AS REPUTATION<br>           FROM COMMENTS INNER JOIN USERS ON USERS.ID=COMMENTS.USERID<br>                GROUP BY USER_ID<br>                ORDER BY COMMENT_QTY DESC<br>                LIMIT 10<br>    </td>\n",
       "    </tr>\n",
       "    <tr>\n",
       "        <td><br>    SELECT * FROM <br> (SELECT USERS.ID AS USER_ID,<br>         COUNT(POSTS.ID) AS POST_QTY,<br>         USERS.REPUTATION AS REPUTATION<br>             FROM POSTS INNER JOIN USERS ON USERS.ID=POSTS.OWNERUSERID<br>                 GROUP BY USER_ID<br>                 ORDER BY POST_QTY DESC<br>                 LIMIT 10)<br>    ORDER BY REPUTATION DESC<br>    </td>\n",
       "    </tr>\n",
       "</table>"
      ],
      "text/plain": [
       "[('\\nSELECT ID, SUM(VIEWS) AS TOTALVIEWS\\n    FROM USERS\\n        GROUP BY ID\\n            ORDER BY TOTALVIEWS DESC\\n                LIMIT 5\\n                ',),\n",
       " ('\\n    SELECT SCORE, COUNT(ID) AS COUNT FROM POSTS GROUP BY SCORE ORDER BY COUNT DESC LIMIT 5\\n    ',),\n",
       " ('\\n    SELECT COMMENTCOUNT, COUNT(ID) AS POST_QTY FROM POSTS GROUP BY COMMENTCOUNT ORDER BY POST_QTY DESC LIMIT 5\\n    ',),\n",
       " (\"\\n    SELECT LOCATION, COUNT(ID)\\n    FROM USERS\\n    WHERE LOCATION<>''\\n    GROUP BY LOCATION\\n    ORDER BY COUNT(ID) DESC\\n    LIMIT 5\\n    \",),\n",
       " (\"\\nSELECT\\n    CASE CAST(STRFTIME('%W', CREATIONDATE) AS INTEGER)\\n                WHEN 1 THEN 'MONDAY'\\n                WHEN 2 THEN 'TUESDAY'\\n       ... (254 characters truncated) ... ) FROM POSTS) AS PERCENTAGE\\n                FROM POSTS\\n                    GROUP BY DAY_OF_WEEK\\n                    ORDER BY PERCENTAGE DESC\\n    \",),\n",
       " (\"\\n    SELECT CAST(SUM(POSTS_QTY)/COUNT(USER_ID) AS FLOAT) AS POSTS_PER_USER\\n        FROM (\\n            SELECT USERS.ID AS USER_ID,\\n                ... (58 characters truncated) ... TS INNER JOIN USERS ON USERS.ID=POSTS.OWNERUSERID\\n                WHERE USERS.ABOUTME <> ''\\n                GROUP BY USERS.ID\\n             )\\n    \",),\n",
       " ('\\n    SELECT POSTS.ID AS POST_ID,\\n       COUNT(COMMENTS.ID) AS COMMENTS_QTY\\n          FROM COMMENTS INNER JOIN POSTS ON POSTS.ID=COMMENTS.POSTID\\n                GROUP BY POST_ID\\n                ORDER BY COMMENTS_QTY DESC\\n                LIMIT 10\\n    ',),\n",
       " ('\\n    SELECT POSTS.ID AS POST_ID,\\n           SUM(COMMENTS.SCORE)+SUM(POSTS.SCORE) AS CUM_SCORE\\n             FROM COMMENTS INNER JOIN POSTS ON POSTS.ID=COMMENTS.POSTID\\n                  GROUP BY POST_ID\\n                  ORDER BY CUM_SCORE DESC\\n                  LIMIT 10\\n    ',),\n",
       " ('\\n    SELECT USERS.ID AS USER_ID,\\n       COUNT(COMMENTS.ID) AS COMMENT_QTY,\\n       USERS.REPUTATION AS REPUTATION\\n           FROM COMMENTS INNER JOIN USERS ON USERS.ID=COMMENTS.USERID\\n                GROUP BY USER_ID\\n                ORDER BY COMMENT_QTY DESC\\n                LIMIT 10\\n    ',),\n",
       " ('\\n    SELECT * FROM \\n (SELECT USERS.ID AS USER_ID,\\n         COUNT(POSTS.ID) AS POST_QTY,\\n         USERS.REPUTATION AS REPUTATION\\n             FRO ... (45 characters truncated) ... NERUSERID\\n                 GROUP BY USER_ID\\n                 ORDER BY POST_QTY DESC\\n                 LIMIT 10)\\n    ORDER BY REPUTATION DESC\\n    ',)]"
      ]
     },
     "execution_count": 105,
     "metadata": {},
     "output_type": "execute_result"
    }
   ],
   "source": [
    "%%sql\n",
    "SELECT query\n",
    "    FROM queries\n",
    "        WHERE query LIKE '%GROUP BY%'"
   ]
  },
  {
   "cell_type": "markdown",
   "metadata": {},
   "source": [
    "Let's find the queries that have 'DISTINCT' in them. You can do it with the %sql command or with Pandas and sql.\n"
   ]
  },
  {
   "cell_type": "code",
   "execution_count": 106,
   "metadata": {},
   "outputs": [
    {
     "name": "stdout",
     "output_type": "stream",
     "text": [
      " * sqlite:///chatdata.db\n",
      "Done.\n"
     ]
    },
    {
     "data": {
      "text/html": [
       "<table>\n",
       "    <tr>\n",
       "        <th>query</th>\n",
       "    </tr>\n",
       "    <tr>\n",
       "        <td><br>    SELECT COUNT(DISTINCT LOCATION) FROM USERS<br>    </td>\n",
       "    </tr>\n",
       "</table>"
      ],
      "text/plain": [
       "[('\\n    SELECT COUNT(DISTINCT LOCATION) FROM USERS\\n    ',)]"
      ]
     },
     "execution_count": 106,
     "metadata": {},
     "output_type": "execute_result"
    }
   ],
   "source": [
    "%%sql\n",
    "SELECT query\n",
    "    FROM queries\n",
    "        WHERE query LIKE '%DISTINCT%'"
   ]
  },
  {
   "cell_type": "markdown",
   "metadata": {},
   "source": [
    "# Close SQLite\n",
    "\n",
    "It is good practise to close all relational databases as soon as you are finished updating them."
   ]
  },
  {
   "cell_type": "code",
   "execution_count": 107,
   "metadata": {},
   "outputs": [],
   "source": [
    "con.close()"
   ]
  }
 ],
 "metadata": {
  "kernelspec": {
   "display_name": "Python 3 (ipykernel)",
   "language": "python",
   "name": "python3"
  },
  "language_info": {
   "codemirror_mode": {
    "name": "ipython",
    "version": 3
   },
   "file_extension": ".py",
   "mimetype": "text/x-python",
   "name": "python",
   "nbconvert_exporter": "python",
   "pygments_lexer": "ipython3",
   "version": "3.9.7"
  },
  "toc": {
   "base_numbering": 1,
   "nav_menu": {},
   "number_sections": true,
   "sideBar": true,
   "skip_h1_title": false,
   "title_cell": "Table of Contents",
   "title_sidebar": "Contents",
   "toc_cell": false,
   "toc_position": {
    "height": "calc(100% - 180px)",
    "left": "10px",
    "top": "150px",
    "width": "293.993px"
   },
   "toc_section_display": true,
   "toc_window_display": true
  }
 },
 "nbformat": 4,
 "nbformat_minor": 4
}
